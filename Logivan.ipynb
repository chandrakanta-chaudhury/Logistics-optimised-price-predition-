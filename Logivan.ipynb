{
 "cells": [
  {
   "cell_type": "code",
   "execution_count": 1,
   "metadata": {},
   "outputs": [],
   "source": [
    "import os\n",
    "import numpy as np\n",
    "import pandas as pd\n",
    "from sklearn.ensemble import RandomForestRegressor\n",
    "from category_encoders import *\n",
    "from sklearn.preprocessing import Binarizer\n",
    "from sklearn.preprocessing import MinMaxScaler\n",
    "from sklearn.preprocessing import StandardScaler\n",
    "from sklearn.preprocessing import RobustScaler\n",
    "from datetime import datetime  \n",
    "from datetime import timedelta \n",
    "import matplotlib.pyplot as plt\n",
    "import seaborn as sns\n",
    "from sklearn.model_selection import GridSearchCV\n",
    "from sklearn.model_selection import KFold, cross_val_score\n",
    "from sklearn.ensemble import RandomForestRegressor, GradientBoostingRegressor, AdaBoostRegressor, BaggingRegressor\n",
    "from sklearn.kernel_ridge import KernelRidge\n",
    "from sklearn.linear_model import Ridge, RidgeCV\n",
    "from sklearn.linear_model import ElasticNet, ElasticNetCV\n",
    "from sklearn.svm import SVR\n",
    "from mlxtend.regressor import StackingCVRegressor\n",
    "import lightgbm as lgb\n",
    "from lightgbm import LGBMRegressor\n",
    "from xgboost import XGBRegressor\n",
    "from sklearn.linear_model import Ridge\n",
    "from sklearn.pipeline import make_pipeline\n",
    "from sklearn.svm import SVR\n",
    "from sklearn.model_selection import RandomizedSearchCV\n",
    "from sklearn.model_selection import train_test_split\n",
    "from rfpimp import *\n",
    "import scipy.stats as ss\n",
    "import math\n",
    "from sklearn.decomposition import PCA\n",
    "from sklearn.cluster import MiniBatchKMeans\n",
    "from sklearn.metrics import mean_squared_error\n",
    "os.chdir(\"/home/chandrakanta/Downloads/Data Scientist_Price Prediction Assignment/Data Scientist_Price Prediction Assignment\")"
   ]
  },
  {
   "cell_type": "markdown",
   "metadata": {},
   "source": [
    "Read the csv files \n"
   ]
  },
  {
   "cell_type": "code",
   "execution_count": 40,
   "metadata": {},
   "outputs": [],
   "source": [
    "df_features=pd.read_csv(\"train_featues.csv\")\n",
    "df_target=pd.read_csv(\"train_prices.csv\")\n",
    "df_test=pd.read_csv(\"test_featues.csv\")\n"
   ]
  },
  {
   "cell_type": "code",
   "execution_count": 41,
   "metadata": {},
   "outputs": [
    {
     "data": {
      "text/plain": [
       "((2826, 25), (2826, 2), (315, 25))"
      ]
     },
     "execution_count": 41,
     "metadata": {},
     "output_type": "execute_result"
    }
   ],
   "source": [
    "df_features.shape,df_target.shape,df_test.shape"
   ]
  },
  {
   "cell_type": "code",
   "execution_count": 42,
   "metadata": {},
   "outputs": [
    {
     "data": {
      "text/plain": [
       "Index(['order_id', 'F1', 'F2', 'F3', 'F4', 'F5', 'F6', 'F7', 'F8', 'F9', 'F10',\n",
       "       'F11', 'F12', 'F13', 'F14', 'F15', 'F16', 'F17', 'F18', 'F19', 'F20',\n",
       "       'F21', 'F22', 'F23', 'F24'],\n",
       "      dtype='object')"
      ]
     },
     "execution_count": 42,
     "metadata": {},
     "output_type": "execute_result"
    }
   ],
   "source": [
    "df_features.columns"
   ]
  },
  {
   "cell_type": "code",
   "execution_count": 43,
   "metadata": {},
   "outputs": [
    {
     "data": {
      "text/plain": [
       "Index(['order_id', 'final_price'], dtype='object')"
      ]
     },
     "execution_count": 43,
     "metadata": {},
     "output_type": "execute_result"
    }
   ],
   "source": [
    "df_target.columns"
   ]
  },
  {
   "cell_type": "markdown",
   "metadata": {},
   "source": [
    "combine train files df_features,df_target on basis of orderid"
   ]
  },
  {
   "cell_type": "code",
   "execution_count": 44,
   "metadata": {},
   "outputs": [],
   "source": [
    "df_train=pd.merge(df_features,df_target,on=['order_id'])"
   ]
  },
  {
   "cell_type": "code",
   "execution_count": 45,
   "metadata": {},
   "outputs": [
    {
     "data": {
      "text/plain": [
       "(2850, 26)"
      ]
     },
     "execution_count": 45,
     "metadata": {},
     "output_type": "execute_result"
    }
   ],
   "source": [
    "df_train.shape"
   ]
  },
  {
   "cell_type": "code",
   "execution_count": 46,
   "metadata": {},
   "outputs": [
    {
     "data": {
      "text/html": [
       "<div>\n",
       "<style scoped>\n",
       "    .dataframe tbody tr th:only-of-type {\n",
       "        vertical-align: middle;\n",
       "    }\n",
       "\n",
       "    .dataframe tbody tr th {\n",
       "        vertical-align: top;\n",
       "    }\n",
       "\n",
       "    .dataframe thead th {\n",
       "        text-align: right;\n",
       "    }\n",
       "</style>\n",
       "<table border=\"1\" class=\"dataframe\">\n",
       "  <thead>\n",
       "    <tr style=\"text-align: right;\">\n",
       "      <th></th>\n",
       "      <th>order_id</th>\n",
       "      <th>F1</th>\n",
       "      <th>F2</th>\n",
       "      <th>F3</th>\n",
       "      <th>F4</th>\n",
       "      <th>F5</th>\n",
       "      <th>F6</th>\n",
       "      <th>F7</th>\n",
       "      <th>F8</th>\n",
       "      <th>F9</th>\n",
       "      <th>...</th>\n",
       "      <th>F16</th>\n",
       "      <th>F17</th>\n",
       "      <th>F18</th>\n",
       "      <th>F19</th>\n",
       "      <th>F20</th>\n",
       "      <th>F21</th>\n",
       "      <th>F22</th>\n",
       "      <th>F23</th>\n",
       "      <th>F24</th>\n",
       "      <th>final_price</th>\n",
       "    </tr>\n",
       "  </thead>\n",
       "  <tbody>\n",
       "    <tr>\n",
       "      <th>0</th>\n",
       "      <td>21789</td>\n",
       "      <td>98</td>\n",
       "      <td>1</td>\n",
       "      <td>NaN</td>\n",
       "      <td>NaN</td>\n",
       "      <td>2019-04-17 05:39:47.992464</td>\n",
       "      <td>2019-04-17 13:45:00</td>\n",
       "      <td>NaN</td>\n",
       "      <td>NaN</td>\n",
       "      <td>False</td>\n",
       "      <td>...</td>\n",
       "      <td>57661</td>\n",
       "      <td>2019-04-17 05:42:05.150435</td>\n",
       "      <td>0</td>\n",
       "      <td>10.768730</td>\n",
       "      <td>106.738068</td>\n",
       "      <td>5</td>\n",
       "      <td>11.021424</td>\n",
       "      <td>106.394952</td>\n",
       "      <td>53</td>\n",
       "      <td>4400000</td>\n",
       "    </tr>\n",
       "    <tr>\n",
       "      <th>1</th>\n",
       "      <td>27104</td>\n",
       "      <td>25</td>\n",
       "      <td>1</td>\n",
       "      <td>NaN</td>\n",
       "      <td>NaN</td>\n",
       "      <td>2019-05-09 00:37:37.667157</td>\n",
       "      <td>2019-05-10 00:00:00</td>\n",
       "      <td>NaN</td>\n",
       "      <td>NaN</td>\n",
       "      <td>False</td>\n",
       "      <td>...</td>\n",
       "      <td>65407</td>\n",
       "      <td>2019-05-09 02:25:59.293911</td>\n",
       "      <td>0</td>\n",
       "      <td>10.768730</td>\n",
       "      <td>106.738068</td>\n",
       "      <td>5</td>\n",
       "      <td>11.288151</td>\n",
       "      <td>106.553243</td>\n",
       "      <td>14</td>\n",
       "      <td>3500000</td>\n",
       "    </tr>\n",
       "    <tr>\n",
       "      <th>2</th>\n",
       "      <td>26338</td>\n",
       "      <td>26</td>\n",
       "      <td>1</td>\n",
       "      <td>NaN</td>\n",
       "      <td>NaN</td>\n",
       "      <td>2019-05-06 08:08:08.344504</td>\n",
       "      <td>2019-05-06 11:30:39</td>\n",
       "      <td>NaN</td>\n",
       "      <td>NaN</td>\n",
       "      <td>False</td>\n",
       "      <td>...</td>\n",
       "      <td>64208</td>\n",
       "      <td>2019-05-06 08:13:42.541013</td>\n",
       "      <td>0</td>\n",
       "      <td>10.376528</td>\n",
       "      <td>106.343889</td>\n",
       "      <td>58</td>\n",
       "      <td>10.770827</td>\n",
       "      <td>106.785392</td>\n",
       "      <td>5</td>\n",
       "      <td>6300000</td>\n",
       "    </tr>\n",
       "  </tbody>\n",
       "</table>\n",
       "<p>3 rows × 26 columns</p>\n",
       "</div>"
      ],
      "text/plain": [
       "   order_id  F1  F2  F3  F4                          F5                   F6  \\\n",
       "0     21789  98   1 NaN NaN  2019-04-17 05:39:47.992464  2019-04-17 13:45:00   \n",
       "1     27104  25   1 NaN NaN  2019-05-09 00:37:37.667157  2019-05-10 00:00:00   \n",
       "2     26338  26   1 NaN NaN  2019-05-06 08:08:08.344504  2019-05-06 11:30:39   \n",
       "\n",
       "   F7  F8     F9  ...    F16                         F17  F18        F19  \\\n",
       "0 NaN NaN  False  ...  57661  2019-04-17 05:42:05.150435    0  10.768730   \n",
       "1 NaN NaN  False  ...  65407  2019-05-09 02:25:59.293911    0  10.768730   \n",
       "2 NaN NaN  False  ...  64208  2019-05-06 08:13:42.541013    0  10.376528   \n",
       "\n",
       "          F20  F21        F22         F23  F24  final_price  \n",
       "0  106.738068    5  11.021424  106.394952   53      4400000  \n",
       "1  106.738068    5  11.288151  106.553243   14      3500000  \n",
       "2  106.343889   58  10.770827  106.785392    5      6300000  \n",
       "\n",
       "[3 rows x 26 columns]"
      ]
     },
     "execution_count": 46,
     "metadata": {},
     "output_type": "execute_result"
    }
   ],
   "source": [
    "df_train.head(3)"
   ]
  },
  {
   "cell_type": "markdown",
   "metadata": {},
   "source": [
    "check the data types "
   ]
  },
  {
   "cell_type": "code",
   "execution_count": 47,
   "metadata": {},
   "outputs": [
    {
     "name": "stdout",
     "output_type": "stream",
     "text": [
      "<class 'pandas.core.frame.DataFrame'>\n",
      "Int64Index: 2850 entries, 0 to 2849\n",
      "Data columns (total 26 columns):\n",
      "order_id       2850 non-null int64\n",
      "F1             2850 non-null int64\n",
      "F2             2850 non-null int64\n",
      "F3             0 non-null float64\n",
      "F4             0 non-null float64\n",
      "F5             2850 non-null object\n",
      "F6             2850 non-null object\n",
      "F7             0 non-null float64\n",
      "F8             325 non-null float64\n",
      "F9             2850 non-null bool\n",
      "F10            2845 non-null object\n",
      "F11            2850 non-null int64\n",
      "F12            2850 non-null float64\n",
      "F13            2850 non-null object\n",
      "F14            2850 non-null object\n",
      "F15            2850 non-null bool\n",
      "F16            2850 non-null int64\n",
      "F17            2850 non-null object\n",
      "F18            2850 non-null int64\n",
      "F19            2850 non-null float64\n",
      "F20            2850 non-null float64\n",
      "F21            2850 non-null int64\n",
      "F22            2850 non-null float64\n",
      "F23            2850 non-null float64\n",
      "F24            2850 non-null int64\n",
      "final_price    2850 non-null int64\n",
      "dtypes: bool(2), float64(9), int64(9), object(6)\n",
      "memory usage: 562.2+ KB\n"
     ]
    }
   ],
   "source": [
    "df_train.info()"
   ]
  },
  {
   "cell_type": "markdown",
   "metadata": {},
   "source": [
    "check null values if any in datframe "
   ]
  },
  {
   "cell_type": "code",
   "execution_count": 48,
   "metadata": {},
   "outputs": [
    {
     "data": {
      "text/plain": [
       "order_id          0\n",
       "F1                0\n",
       "F2                0\n",
       "F3             2850\n",
       "F4             2850\n",
       "F5                0\n",
       "F6                0\n",
       "F7             2850\n",
       "F8             2525\n",
       "F9                0\n",
       "F10               5\n",
       "F11               0\n",
       "F12               0\n",
       "F13               0\n",
       "F14               0\n",
       "F15               0\n",
       "F16               0\n",
       "F17               0\n",
       "F18               0\n",
       "F19               0\n",
       "F20               0\n",
       "F21               0\n",
       "F22               0\n",
       "F23               0\n",
       "F24               0\n",
       "final_price       0\n",
       "dtype: int64"
      ]
     },
     "execution_count": 48,
     "metadata": {},
     "output_type": "execute_result"
    }
   ],
   "source": [
    "df_train.isnull().sum(axis = 0)\n"
   ]
  },
  {
   "cell_type": "markdown",
   "metadata": {},
   "source": [
    "so from above F3,F4,F7 features has all values missing ,so just remove them,F8 has almost 88.5 % missing values so its better to remove them"
   ]
  },
  {
   "cell_type": "code",
   "execution_count": 49,
   "metadata": {},
   "outputs": [],
   "source": [
    "df_train=df_train.drop(['F3','F4','F7','F8'],axis=1)\n"
   ]
  },
  {
   "cell_type": "markdown",
   "metadata": {},
   "source": [
    "now check again for null values"
   ]
  },
  {
   "cell_type": "code",
   "execution_count": 50,
   "metadata": {},
   "outputs": [
    {
     "data": {
      "text/plain": [
       "order_id       0\n",
       "F1             0\n",
       "F2             0\n",
       "F5             0\n",
       "F6             0\n",
       "F9             0\n",
       "F10            5\n",
       "F11            0\n",
       "F12            0\n",
       "F13            0\n",
       "F14            0\n",
       "F15            0\n",
       "F16            0\n",
       "F17            0\n",
       "F18            0\n",
       "F19            0\n",
       "F20            0\n",
       "F21            0\n",
       "F22            0\n",
       "F23            0\n",
       "F24            0\n",
       "final_price    0\n",
       "dtype: int64"
      ]
     },
     "execution_count": 50,
     "metadata": {},
     "output_type": "execute_result"
    }
   ],
   "source": [
    "df_train.isnull().sum(axis = 0)"
   ]
  },
  {
   "cell_type": "markdown",
   "metadata": {},
   "source": [
    "F10 has 5 missing values and its categorical ,so we can just fill up with high frequent occoring value"
   ]
  },
  {
   "cell_type": "code",
   "execution_count": 52,
   "metadata": {},
   "outputs": [],
   "source": [
    "df_train['F10']=df_train['F10'].fillna(df_train['F10'].value_counts().index[0])\n"
   ]
  },
  {
   "cell_type": "code",
   "execution_count": 53,
   "metadata": {},
   "outputs": [
    {
     "data": {
      "text/plain": [
       "order_id       0\n",
       "F1             0\n",
       "F2             0\n",
       "F5             0\n",
       "F6             0\n",
       "F9             0\n",
       "F10            0\n",
       "F11            0\n",
       "F12            0\n",
       "F13            0\n",
       "F14            0\n",
       "F15            0\n",
       "F16            0\n",
       "F17            0\n",
       "F18            0\n",
       "F19            0\n",
       "F20            0\n",
       "F21            0\n",
       "F22            0\n",
       "F23            0\n",
       "F24            0\n",
       "final_price    0\n",
       "dtype: int64"
      ]
     },
     "execution_count": 53,
     "metadata": {},
     "output_type": "execute_result"
    }
   ],
   "source": [
    "df_train.isnull().sum(axis = 0)"
   ]
  },
  {
   "cell_type": "markdown",
   "metadata": {},
   "source": [
    "so now it all looks fine ,similarly we will check Test data that was provided\n"
   ]
  },
  {
   "cell_type": "code",
   "execution_count": 54,
   "metadata": {},
   "outputs": [
    {
     "data": {
      "text/plain": [
       "order_id      0\n",
       "F1            0\n",
       "F2            0\n",
       "F3          315\n",
       "F4          315\n",
       "F5            0\n",
       "F6            0\n",
       "F7          315\n",
       "F8          280\n",
       "F9            0\n",
       "F10           0\n",
       "F11           0\n",
       "F12           0\n",
       "F13           0\n",
       "F14           0\n",
       "F15           0\n",
       "F16           0\n",
       "F17           0\n",
       "F18           0\n",
       "F19           0\n",
       "F20           0\n",
       "F21           0\n",
       "F22           0\n",
       "F23           0\n",
       "F24           0\n",
       "dtype: int64"
      ]
     },
     "execution_count": 54,
     "metadata": {},
     "output_type": "execute_result"
    }
   ],
   "source": [
    "df_test.isnull().sum(axis = 0)"
   ]
  },
  {
   "cell_type": "markdown",
   "metadata": {},
   "source": [
    "so just clean up similar like train data and then wil check data visualizaiton"
   ]
  },
  {
   "cell_type": "code",
   "execution_count": 55,
   "metadata": {},
   "outputs": [],
   "source": [
    "df_test=df_test.drop(['F3','F4','F7','F8'],axis=1)"
   ]
  },
  {
   "cell_type": "code",
   "execution_count": 56,
   "metadata": {},
   "outputs": [],
   "source": [
    "%matplotlib inline "
   ]
  },
  {
   "cell_type": "code",
   "execution_count": 57,
   "metadata": {},
   "outputs": [
    {
     "data": {
      "text/plain": [
       "count    2.850000e+03\n",
       "mean     4.471220e+06\n",
       "std      4.872902e+06\n",
       "min      1.000000e+00\n",
       "25%      2.800000e+06\n",
       "50%      3.400000e+06\n",
       "75%      4.300000e+06\n",
       "max      7.000000e+07\n",
       "Name: final_price, dtype: float64"
      ]
     },
     "execution_count": 57,
     "metadata": {},
     "output_type": "execute_result"
    }
   ],
   "source": [
    "#check the target feature data and visualize\n",
    "df_train['final_price'].describe()\n"
   ]
  },
  {
   "cell_type": "code",
   "execution_count": 58,
   "metadata": {},
   "outputs": [
    {
     "data": {
      "text/plain": [
       "<matplotlib.axes._subplots.AxesSubplot at 0x7f87d2dbb470>"
      ]
     },
     "execution_count": 58,
     "metadata": {},
     "output_type": "execute_result"
    },
    {
     "data": {
      "image/png": "[encoded data removed]",
      "text/plain": [
       "<Figure size 432x288 with 1 Axes>"
      ]
     },
     "metadata": {
      "needs_background": "light"
     },
     "output_type": "display_data"
    }
   ],
   "source": [
    "sns.distplot(df_train['final_price'])\n"
   ]
  },
  {
   "cell_type": "code",
   "execution_count": 59,
   "metadata": {},
   "outputs": [
    {
     "data": {
      "text/plain": [
       "<matplotlib.axes._subplots.AxesSubplot at 0x7f87d272fd30>"
      ]
     },
     "execution_count": 59,
     "metadata": {},
     "output_type": "execute_result"
    },
    {
     "data": {
      "image/png": "[encoded data removed]",
      "text/plain": [
       "<Figure size 432x288 with 1 Axes>"
      ]
     },
     "metadata": {
      "needs_background": "light"
     },
     "output_type": "display_data"
    }
   ],
   "source": [
    "sns.boxplot(x=df_train['final_price'])"
   ]
  },
  {
   "cell_type": "markdown",
   "metadata": {},
   "source": [
    "seems like it is skewed to right and have outliers ,so lets normalize it "
   ]
  },
  {
   "cell_type": "code",
   "execution_count": 60,
   "metadata": {},
   "outputs": [],
   "source": [
    "#normalizing using log scale\n",
    "log_max = np.log(df_train['final_price'].max())\n",
    "df_final_price_log= df_train['final_price']**(1/log_max)\n",
    "df_train=df_train.drop(['final_price'],axis=1)\n",
    "df_train['final_price']=df_final_price_log\n",
    " "
   ]
  },
  {
   "cell_type": "markdown",
   "metadata": {},
   "source": [
    "recheck the distribution "
   ]
  },
  {
   "cell_type": "code",
   "execution_count": 61,
   "metadata": {},
   "outputs": [
    {
     "data": {
      "text/plain": [
       "<matplotlib.axes._subplots.AxesSubplot at 0x7f87d2717278>"
      ]
     },
     "execution_count": 61,
     "metadata": {},
     "output_type": "execute_result"
    },
    {
     "data": {
      "image/png": "[encoded data removed]",
      "text/plain": [
       "<Figure size 432x288 with 1 Axes>"
      ]
     },
     "metadata": {
      "needs_background": "light"
     },
     "output_type": "display_data"
    }
   ],
   "source": [
    "df_train[\"final_price\"].describe()\n",
    "sns.distplot(df_train['final_price']) "
   ]
  },
  {
   "cell_type": "markdown",
   "metadata": {},
   "source": [
    "#it is better than prev and all data re within range 1 -2.75 , as we have less data 2850 ,we will not drop the outlier data types "
   ]
  },
  {
   "cell_type": "markdown",
   "metadata": {},
   "source": [
    "now we can drop orderid column and check other features and normalize them"
   ]
  },
  {
   "cell_type": "code",
   "execution_count": 62,
   "metadata": {},
   "outputs": [],
   "source": [
    "df_train=df_train.drop(['order_id'],axis=1)\n"
   ]
  },
  {
   "cell_type": "code",
   "execution_count": 67,
   "metadata": {},
   "outputs": [
    {
     "data": {
      "text/plain": [
       "(Index(['F1', 'F2', 'F5', 'F6', 'F9', 'F10', 'F11', 'F12', 'F13', 'F14', 'F15',\n",
       "        'F16', 'F17', 'F18', 'F19', 'F20', 'F21', 'F22', 'F23', 'F24',\n",
       "        'final_price'],\n",
       "       dtype='object'),\n",
       " Index(['F1', 'F2', 'F5', 'F6', 'F9', 'F10', 'F11', 'F12', 'F13', 'F14', 'F15',\n",
       "        'F16', 'F17', 'F18', 'F19', 'F20', 'F21', 'F22', 'F23', 'F24',\n",
       "        'final_price'],\n",
       "       dtype='object'))"
      ]
     },
     "execution_count": 67,
     "metadata": {},
     "output_type": "execute_result"
    }
   ],
   "source": [
    "df_train.columns,df_test.columns\n",
    "#to make train and test dataframe same \n",
    "df_test=df_test.drop(['order_id'],axis=1)\n",
    "df_test[\"final_price\"]=np.nan"
   ]
  },
  {
   "cell_type": "markdown",
   "metadata": {},
   "source": [
    "from the data , there are few date fields ,so we can just create features from them , i assume these dates represent order date ,order delivery and payment data ,so its better to create features as much possible and then move to other categorical and continous features "
   ]
  },
  {
   "cell_type": "markdown",
   "metadata": {},
   "source": [
    "I did have checked holiday for vietnam during the period  june 2018 to may 2019 ,so i have create a holiday list ,so it might have impact on price of order if its holiday "
   ]
  },
  {
   "cell_type": "code",
   "execution_count": 68,
   "metadata": {},
   "outputs": [],
   "source": [
    "vn_holiday=pd.Series(['2018-06-21','2018-06-28','2018-09-02','2018-09-03','2018-09-23','2018-10-20',\n",
    "        '2018-10-31','2018-12-22','2018-12-24','2018-12-25','2018-12-31','2019-01-01',\n",
    "        '2019-01-05','2019-02-02','2019-02-03','2019-02-04','2019-02-05','2019-02-06',\n",
    "        '2019-02-07','2019-02-08','2019-02-09','2019-02-10','2019-02-14','2019-03-21',\n",
    "        '2019-04-13','2019-04-14','2019-04-15','2019-04-29','2019-04-30','2019-05-01','2019-05-04'])"
   ]
  },
  {
   "cell_type": "code",
   "execution_count": 69,
   "metadata": {},
   "outputs": [],
   "source": [
    "#get only date from F5 feature to compare if it falls on holiday ,to have a new feature \n",
    "df_train['F5_time'] =df_train['F5'].apply(lambda x: datetime.strptime(x, '%Y-%m-%d %H:%M:%S.%f').date())\n",
    "#will do same for test data \n",
    "df_test['F5_time'] =df_test['F5'].apply(lambda x: datetime.strptime(x, '%Y-%m-%d %H:%M:%S.%f').date())\n"
   ]
  },
  {
   "cell_type": "code",
   "execution_count": 70,
   "metadata": {},
   "outputs": [],
   "source": [
    "#create new feature that will have holiday (true /false for the specific date )\n",
    "df_train['Holiday']= \"\"\n",
    "df_test['Holiday']= \"\""
   ]
  },
  {
   "cell_type": "code",
   "execution_count": 71,
   "metadata": {},
   "outputs": [],
   "source": [
    "\n",
    "df_all=df_train.append(df_test)"
   ]
  },
  {
   "cell_type": "code",
   "execution_count": 72,
   "metadata": {},
   "outputs": [
    {
     "data": {
      "text/plain": [
       "(Index(['F1', 'F2', 'F5', 'F6', 'F9', 'F10', 'F11', 'F12', 'F13', 'F14', 'F15',\n",
       "        'F16', 'F17', 'F18', 'F19', 'F20', 'F21', 'F22', 'F23', 'F24',\n",
       "        'final_price', 'F5_time', 'Holiday'],\n",
       "       dtype='object'),\n",
       " Index(['F1', 'F2', 'F5', 'F6', 'F9', 'F10', 'F11', 'F12', 'F13', 'F14', 'F15',\n",
       "        'F16', 'F17', 'F18', 'F19', 'F20', 'F21', 'F22', 'F23', 'F24',\n",
       "        'final_price', 'F5_time', 'Holiday'],\n",
       "       dtype='object'),\n",
       " Index(['F1', 'F2', 'F5', 'F6', 'F9', 'F10', 'F11', 'F12', 'F13', 'F14', 'F15',\n",
       "        'F16', 'F17', 'F18', 'F19', 'F20', 'F21', 'F22', 'F23', 'F24',\n",
       "        'final_price', 'F5_time', 'Holiday'],\n",
       "       dtype='object'))"
      ]
     },
     "execution_count": 72,
     "metadata": {},
     "output_type": "execute_result"
    }
   ],
   "source": [
    " df_all.columns,df_train.columns,df_test.columns"
   ]
  },
  {
   "cell_type": "code",
   "execution_count": 73,
   "metadata": {},
   "outputs": [
    {
     "data": {
      "text/plain": [
       "(3165, 23)"
      ]
     },
     "execution_count": 73,
     "metadata": {},
     "output_type": "execute_result"
    }
   ],
   "source": [
    "df_all.shape"
   ]
  },
  {
   "cell_type": "code",
   "execution_count": 84,
   "metadata": {},
   "outputs": [
    {
     "data": {
      "text/html": [
       "<div>\n",
       "<style scoped>\n",
       "    .dataframe tbody tr th:only-of-type {\n",
       "        vertical-align: middle;\n",
       "    }\n",
       "\n",
       "    .dataframe tbody tr th {\n",
       "        vertical-align: top;\n",
       "    }\n",
       "\n",
       "    .dataframe thead th {\n",
       "        text-align: right;\n",
       "    }\n",
       "</style>\n",
       "<table border=\"1\" class=\"dataframe\">\n",
       "  <thead>\n",
       "    <tr style=\"text-align: right;\">\n",
       "      <th></th>\n",
       "      <th>F1</th>\n",
       "      <th>F2</th>\n",
       "      <th>F5</th>\n",
       "      <th>F6</th>\n",
       "      <th>F9</th>\n",
       "      <th>F10</th>\n",
       "      <th>F11</th>\n",
       "      <th>F12</th>\n",
       "      <th>F13</th>\n",
       "      <th>F14</th>\n",
       "      <th>...</th>\n",
       "      <th>F17</th>\n",
       "      <th>F18</th>\n",
       "      <th>F19</th>\n",
       "      <th>F20</th>\n",
       "      <th>F21</th>\n",
       "      <th>F22</th>\n",
       "      <th>F23</th>\n",
       "      <th>F24</th>\n",
       "      <th>final_price</th>\n",
       "      <th>Holiday</th>\n",
       "    </tr>\n",
       "  </thead>\n",
       "  <tbody>\n",
       "    <tr>\n",
       "      <th>3162</th>\n",
       "      <td>98</td>\n",
       "      <td>1</td>\n",
       "      <td>2019-04-17 06:00:10.691634</td>\n",
       "      <td>2019-04-17 11:30:00</td>\n",
       "      <td>False</td>\n",
       "      <td>True</td>\n",
       "      <td>3</td>\n",
       "      <td>25.0</td>\n",
       "      <td>marketplace</td>\n",
       "      <td>android</td>\n",
       "      <td>...</td>\n",
       "      <td>2019-04-17 06:02:34.905732</td>\n",
       "      <td>0</td>\n",
       "      <td>10.768730</td>\n",
       "      <td>106.738068</td>\n",
       "      <td>5</td>\n",
       "      <td>10.659198</td>\n",
       "      <td>107.036401</td>\n",
       "      <td>22</td>\n",
       "      <td>NaN</td>\n",
       "      <td>False</td>\n",
       "    </tr>\n",
       "    <tr>\n",
       "      <th>3163</th>\n",
       "      <td>26</td>\n",
       "      <td>1</td>\n",
       "      <td>2019-04-28 07:00:01.828975</td>\n",
       "      <td>2019-04-28 12:45:23</td>\n",
       "      <td>False</td>\n",
       "      <td>True</td>\n",
       "      <td>3</td>\n",
       "      <td>30.0</td>\n",
       "      <td>marketplace</td>\n",
       "      <td>ios</td>\n",
       "      <td>...</td>\n",
       "      <td>2019-04-28 07:11:22.176447</td>\n",
       "      <td>0</td>\n",
       "      <td>10.770827</td>\n",
       "      <td>106.785392</td>\n",
       "      <td>5</td>\n",
       "      <td>10.045162</td>\n",
       "      <td>105.746854</td>\n",
       "      <td>1</td>\n",
       "      <td>NaN</td>\n",
       "      <td>False</td>\n",
       "    </tr>\n",
       "    <tr>\n",
       "      <th>3164</th>\n",
       "      <td>98</td>\n",
       "      <td>1</td>\n",
       "      <td>2019-04-12 00:53:54.318253</td>\n",
       "      <td>2019-04-12 09:00:00</td>\n",
       "      <td>False</td>\n",
       "      <td>True</td>\n",
       "      <td>3</td>\n",
       "      <td>15.0</td>\n",
       "      <td>marketplace</td>\n",
       "      <td>ios</td>\n",
       "      <td>...</td>\n",
       "      <td>2019-04-12 00:54:17.457172</td>\n",
       "      <td>0</td>\n",
       "      <td>10.626459</td>\n",
       "      <td>106.669436</td>\n",
       "      <td>39</td>\n",
       "      <td>10.757996</td>\n",
       "      <td>106.788932</td>\n",
       "      <td>5</td>\n",
       "      <td>NaN</td>\n",
       "      <td>False</td>\n",
       "    </tr>\n",
       "  </tbody>\n",
       "</table>\n",
       "<p>3 rows × 22 columns</p>\n",
       "</div>"
      ],
      "text/plain": [
       "      F1  F2                         F5                  F6     F9   F10  F11  \\\n",
       "3162  98   1 2019-04-17 06:00:10.691634 2019-04-17 11:30:00  False  True    3   \n",
       "3163  26   1 2019-04-28 07:00:01.828975 2019-04-28 12:45:23  False  True    3   \n",
       "3164  98   1 2019-04-12 00:53:54.318253 2019-04-12 09:00:00  False  True    3   \n",
       "\n",
       "       F12          F13      F14  ...                        F17  F18  \\\n",
       "3162  25.0  marketplace  android  ... 2019-04-17 06:02:34.905732    0   \n",
       "3163  30.0  marketplace      ios  ... 2019-04-28 07:11:22.176447    0   \n",
       "3164  15.0  marketplace      ios  ... 2019-04-12 00:54:17.457172    0   \n",
       "\n",
       "            F19         F20  F21        F22         F23  F24  final_price  \\\n",
       "3162  10.768730  106.738068    5  10.659198  107.036401   22          NaN   \n",
       "3163  10.770827  106.785392    5  10.045162  105.746854    1          NaN   \n",
       "3164  10.626459  106.669436   39  10.757996  106.788932    5          NaN   \n",
       "\n",
       "      Holiday  \n",
       "3162    False  \n",
       "3163    False  \n",
       "3164    False  \n",
       "\n",
       "[3 rows x 22 columns]"
      ]
     },
     "execution_count": 84,
     "metadata": {},
     "output_type": "execute_result"
    }
   ],
   "source": [
    "df_all.tail(3)"
   ]
  },
  {
   "cell_type": "code",
   "execution_count": 75,
   "metadata": {},
   "outputs": [],
   "source": [
    "df_all = df_all.reset_index(drop=True)"
   ]
  },
  {
   "cell_type": "code",
   "execution_count": 77,
   "metadata": {},
   "outputs": [
    {
     "name": "stderr",
     "output_type": "stream",
     "text": [
      "/home/chandrakanta/anaconda3/lib/python3.6/site-packages/ipykernel_launcher.py:5: SettingWithCopyWarning: \n",
      "A value is trying to be set on a copy of a slice from a DataFrame\n",
      "\n",
      "See the caveats in the documentation: http://pandas.pydata.org/pandas-docs/stable/indexing.html#indexing-view-versus-copy\n",
      "  \"\"\"\n",
      "/home/chandrakanta/anaconda3/lib/python3.6/site-packages/ipykernel_launcher.py:3: SettingWithCopyWarning: \n",
      "A value is trying to be set on a copy of a slice from a DataFrame\n",
      "\n",
      "See the caveats in the documentation: http://pandas.pydata.org/pandas-docs/stable/indexing.html#indexing-view-versus-copy\n",
      "  This is separate from the ipykernel package so we can avoid doing imports until\n"
     ]
    }
   ],
   "source": [
    "for i in range(len(df_all)):\n",
    "    if str(df_all['F5_time'][i]) in set(vn_holiday.values):\n",
    "        df_all['Holiday'][i]= True\n",
    "    else:\n",
    "        df_all[\"Holiday\"][i]=False\n",
    "        "
   ]
  },
  {
   "cell_type": "code",
   "execution_count": 79,
   "metadata": {},
   "outputs": [],
   "source": [
    "df_all=df_all.drop(['F5_time'],axis=1)"
   ]
  },
  {
   "cell_type": "code",
   "execution_count": 83,
   "metadata": {},
   "outputs": [],
   "source": [
    "#create additional features from date features \n",
    "df_all['F6']=pd.to_datetime(df_all['F6'])\n",
    "df_all['F17']=pd.to_datetime(df_all['F17'])\n",
    "df_all['F5']=pd.to_datetime(df_all['F5'])"
   ]
  },
  {
   "cell_type": "code",
   "execution_count": 85,
   "metadata": {},
   "outputs": [],
   "source": [
    "df_all['F5_hour'] = df_all.F5.apply(lambda x: x.hour)\n",
    "df_all['F5_month'] = df_all.F5.apply(lambda x: x.month)\n",
    "df_all['F5_weekday'] = df_all.F5.apply(lambda x: x.weekday())\n",
    "df_all['F5_dayofyear']=df_all.F5.dt.dayofyear\n",
    "df_all['F5_weekofyear'] =df_all.F5.dt.week\n",
    "df_all['F6_hour'] = df_all.F6.apply(lambda x: x.hour)\n",
    "df_all['F6_month'] = df_all.F6.apply(lambda x: x.month)\n",
    "df_all['F6_weekday'] = df_all.F6.apply(lambda x: x.weekday())\n",
    "df_all['F6_dayofyear']=df_all.F6.dt.dayofyear\n",
    "df_all['F6_weekofyear'] =df_all.F6.dt.week\n",
    "          \n",
    "df_all['F17_hour'] = df_all.F17.apply(lambda x: x.hour)\n",
    "df_all['F17_month'] = df_all.F17.apply(lambda x: x.month)\n",
    "df_all['F17_weekday'] = df_all.F17.apply(lambda x: x.weekday())\n",
    "df_all['F17_dayofyear']=df_all.F17.dt.dayofyear\n",
    "df_all['F17_weekofyear'] =df_all.F17.dt.week\n",
    "          "
   ]
  },
  {
   "cell_type": "code",
   "execution_count": 86,
   "metadata": {},
   "outputs": [
    {
     "data": {
      "text/html": [
       "<div>\n",
       "<style scoped>\n",
       "    .dataframe tbody tr th:only-of-type {\n",
       "        vertical-align: middle;\n",
       "    }\n",
       "\n",
       "    .dataframe tbody tr th {\n",
       "        vertical-align: top;\n",
       "    }\n",
       "\n",
       "    .dataframe thead th {\n",
       "        text-align: right;\n",
       "    }\n",
       "</style>\n",
       "<table border=\"1\" class=\"dataframe\">\n",
       "  <thead>\n",
       "    <tr style=\"text-align: right;\">\n",
       "      <th></th>\n",
       "      <th>F1</th>\n",
       "      <th>F2</th>\n",
       "      <th>F5</th>\n",
       "      <th>F6</th>\n",
       "      <th>F9</th>\n",
       "      <th>F10</th>\n",
       "      <th>F11</th>\n",
       "      <th>F12</th>\n",
       "      <th>F13</th>\n",
       "      <th>F14</th>\n",
       "      <th>...</th>\n",
       "      <th>F6_hour</th>\n",
       "      <th>F6_month</th>\n",
       "      <th>F6_weekday</th>\n",
       "      <th>F6_dayofyear</th>\n",
       "      <th>F6_weekofyear</th>\n",
       "      <th>F17_hour</th>\n",
       "      <th>F17_month</th>\n",
       "      <th>F17_weekday</th>\n",
       "      <th>F17_dayofyear</th>\n",
       "      <th>F17_weekofyear</th>\n",
       "    </tr>\n",
       "  </thead>\n",
       "  <tbody>\n",
       "    <tr>\n",
       "      <th>0</th>\n",
       "      <td>98</td>\n",
       "      <td>1</td>\n",
       "      <td>2019-04-17 05:39:47.992464</td>\n",
       "      <td>2019-04-17 13:45:00</td>\n",
       "      <td>False</td>\n",
       "      <td>True</td>\n",
       "      <td>3</td>\n",
       "      <td>17.0</td>\n",
       "      <td>marketplace</td>\n",
       "      <td>ios</td>\n",
       "      <td>...</td>\n",
       "      <td>13</td>\n",
       "      <td>4</td>\n",
       "      <td>2</td>\n",
       "      <td>107</td>\n",
       "      <td>16</td>\n",
       "      <td>5</td>\n",
       "      <td>4</td>\n",
       "      <td>2</td>\n",
       "      <td>107</td>\n",
       "      <td>16</td>\n",
       "    </tr>\n",
       "    <tr>\n",
       "      <th>1</th>\n",
       "      <td>25</td>\n",
       "      <td>1</td>\n",
       "      <td>2019-05-09 00:37:37.667157</td>\n",
       "      <td>2019-05-10 00:00:00</td>\n",
       "      <td>False</td>\n",
       "      <td>True</td>\n",
       "      <td>3</td>\n",
       "      <td>19.5</td>\n",
       "      <td>marketplace</td>\n",
       "      <td>android</td>\n",
       "      <td>...</td>\n",
       "      <td>0</td>\n",
       "      <td>5</td>\n",
       "      <td>4</td>\n",
       "      <td>130</td>\n",
       "      <td>19</td>\n",
       "      <td>2</td>\n",
       "      <td>5</td>\n",
       "      <td>3</td>\n",
       "      <td>129</td>\n",
       "      <td>19</td>\n",
       "    </tr>\n",
       "    <tr>\n",
       "      <th>2</th>\n",
       "      <td>26</td>\n",
       "      <td>1</td>\n",
       "      <td>2019-05-06 08:08:08.344504</td>\n",
       "      <td>2019-05-06 11:30:39</td>\n",
       "      <td>False</td>\n",
       "      <td>True</td>\n",
       "      <td>3</td>\n",
       "      <td>30.0</td>\n",
       "      <td>marketplace</td>\n",
       "      <td>ios</td>\n",
       "      <td>...</td>\n",
       "      <td>11</td>\n",
       "      <td>5</td>\n",
       "      <td>0</td>\n",
       "      <td>126</td>\n",
       "      <td>19</td>\n",
       "      <td>8</td>\n",
       "      <td>5</td>\n",
       "      <td>0</td>\n",
       "      <td>126</td>\n",
       "      <td>19</td>\n",
       "    </tr>\n",
       "  </tbody>\n",
       "</table>\n",
       "<p>3 rows × 37 columns</p>\n",
       "</div>"
      ],
      "text/plain": [
       "   F1  F2                         F5                  F6     F9   F10  F11  \\\n",
       "0  98   1 2019-04-17 05:39:47.992464 2019-04-17 13:45:00  False  True    3   \n",
       "1  25   1 2019-05-09 00:37:37.667157 2019-05-10 00:00:00  False  True    3   \n",
       "2  26   1 2019-05-06 08:08:08.344504 2019-05-06 11:30:39  False  True    3   \n",
       "\n",
       "    F12          F13      F14  ...  F6_hour  F6_month F6_weekday  \\\n",
       "0  17.0  marketplace      ios  ...       13         4          2   \n",
       "1  19.5  marketplace  android  ...        0         5          4   \n",
       "2  30.0  marketplace      ios  ...       11         5          0   \n",
       "\n",
       "   F6_dayofyear  F6_weekofyear  F17_hour  F17_month  F17_weekday  \\\n",
       "0           107             16         5          4            2   \n",
       "1           130             19         2          5            3   \n",
       "2           126             19         8          5            0   \n",
       "\n",
       "   F17_dayofyear  F17_weekofyear  \n",
       "0            107              16  \n",
       "1            129              19  \n",
       "2            126              19  \n",
       "\n",
       "[3 rows x 37 columns]"
      ]
     },
     "execution_count": 86,
     "metadata": {},
     "output_type": "execute_result"
    }
   ],
   "source": [
    "df_all.head(3)"
   ]
  },
  {
   "cell_type": "code",
   "execution_count": 87,
   "metadata": {},
   "outputs": [],
   "source": [
    "#create new feature of difference between F5,F6,F17\n",
    "df_all['F6_F5']=np.nan\n",
    "df_all['F6_F17']=np.nan\n",
    "df_all['F17_F5']=np.nan\n",
    "\n"
   ]
  },
  {
   "cell_type": "code",
   "execution_count": 88,
   "metadata": {},
   "outputs": [
    {
     "name": "stderr",
     "output_type": "stream",
     "text": [
      "/home/chandrakanta/anaconda3/lib/python3.6/site-packages/ipykernel_launcher.py:3: SettingWithCopyWarning: \n",
      "A value is trying to be set on a copy of a slice from a DataFrame\n",
      "\n",
      "See the caveats in the documentation: http://pandas.pydata.org/pandas-docs/stable/indexing.html#indexing-view-versus-copy\n",
      "  This is separate from the ipykernel package so we can avoid doing imports until\n"
     ]
    }
   ],
   "source": [
    "for i in range(len(df_all)):\n",
    "    elapsed_time=df_all['F6'][i] - df_all['F5'][i]\n",
    "    df_all['F6_F5'][i] = elapsed_time.total_seconds()/3600"
   ]
  },
  {
   "cell_type": "code",
   "execution_count": 89,
   "metadata": {},
   "outputs": [
    {
     "name": "stderr",
     "output_type": "stream",
     "text": [
      "/home/chandrakanta/anaconda3/lib/python3.6/site-packages/ipykernel_launcher.py:3: SettingWithCopyWarning: \n",
      "A value is trying to be set on a copy of a slice from a DataFrame\n",
      "\n",
      "See the caveats in the documentation: http://pandas.pydata.org/pandas-docs/stable/indexing.html#indexing-view-versus-copy\n",
      "  This is separate from the ipykernel package so we can avoid doing imports until\n"
     ]
    }
   ],
   "source": [
    "for i in range(len(df_all)):\n",
    "    elapsed_time=df_all['F6'][i] - df_all['F17'][i]\n",
    "    df_all['F6_F17'][i] = elapsed_time.total_seconds()/3600   "
   ]
  },
  {
   "cell_type": "code",
   "execution_count": 90,
   "metadata": {},
   "outputs": [
    {
     "name": "stderr",
     "output_type": "stream",
     "text": [
      "/home/chandrakanta/anaconda3/lib/python3.6/site-packages/ipykernel_launcher.py:3: SettingWithCopyWarning: \n",
      "A value is trying to be set on a copy of a slice from a DataFrame\n",
      "\n",
      "See the caveats in the documentation: http://pandas.pydata.org/pandas-docs/stable/indexing.html#indexing-view-versus-copy\n",
      "  This is separate from the ipykernel package so we can avoid doing imports until\n"
     ]
    }
   ],
   "source": [
    "for i in range(len(df_all)):\n",
    "    elapsed_time=df_all['F17'][i] - df_all['F5'][i]\n",
    "    df_all['F17_F5'][i] = elapsed_time.total_seconds()/3600\n"
   ]
  },
  {
   "cell_type": "code",
   "execution_count": 91,
   "metadata": {},
   "outputs": [
    {
     "data": {
      "text/html": [
       "<div>\n",
       "<style scoped>\n",
       "    .dataframe tbody tr th:only-of-type {\n",
       "        vertical-align: middle;\n",
       "    }\n",
       "\n",
       "    .dataframe tbody tr th {\n",
       "        vertical-align: top;\n",
       "    }\n",
       "\n",
       "    .dataframe thead th {\n",
       "        text-align: right;\n",
       "    }\n",
       "</style>\n",
       "<table border=\"1\" class=\"dataframe\">\n",
       "  <thead>\n",
       "    <tr style=\"text-align: right;\">\n",
       "      <th></th>\n",
       "      <th>F1</th>\n",
       "      <th>F2</th>\n",
       "      <th>F5</th>\n",
       "      <th>F6</th>\n",
       "      <th>F9</th>\n",
       "      <th>F10</th>\n",
       "      <th>F11</th>\n",
       "      <th>F12</th>\n",
       "      <th>F13</th>\n",
       "      <th>F14</th>\n",
       "      <th>...</th>\n",
       "      <th>F6_dayofyear</th>\n",
       "      <th>F6_weekofyear</th>\n",
       "      <th>F17_hour</th>\n",
       "      <th>F17_month</th>\n",
       "      <th>F17_weekday</th>\n",
       "      <th>F17_dayofyear</th>\n",
       "      <th>F17_weekofyear</th>\n",
       "      <th>F6_F5</th>\n",
       "      <th>F6_F17</th>\n",
       "      <th>F17_F5</th>\n",
       "    </tr>\n",
       "  </thead>\n",
       "  <tbody>\n",
       "    <tr>\n",
       "      <th>0</th>\n",
       "      <td>98</td>\n",
       "      <td>1</td>\n",
       "      <td>2019-04-17 05:39:47.992464</td>\n",
       "      <td>2019-04-17 13:45:00</td>\n",
       "      <td>False</td>\n",
       "      <td>True</td>\n",
       "      <td>3</td>\n",
       "      <td>17.0</td>\n",
       "      <td>marketplace</td>\n",
       "      <td>ios</td>\n",
       "      <td>...</td>\n",
       "      <td>107</td>\n",
       "      <td>16</td>\n",
       "      <td>5</td>\n",
       "      <td>4</td>\n",
       "      <td>2</td>\n",
       "      <td>107</td>\n",
       "      <td>16</td>\n",
       "      <td>8.086669</td>\n",
       "      <td>8.048569</td>\n",
       "      <td>0.038099</td>\n",
       "    </tr>\n",
       "    <tr>\n",
       "      <th>1</th>\n",
       "      <td>25</td>\n",
       "      <td>1</td>\n",
       "      <td>2019-05-09 00:37:37.667157</td>\n",
       "      <td>2019-05-10 00:00:00</td>\n",
       "      <td>False</td>\n",
       "      <td>True</td>\n",
       "      <td>3</td>\n",
       "      <td>19.5</td>\n",
       "      <td>marketplace</td>\n",
       "      <td>android</td>\n",
       "      <td>...</td>\n",
       "      <td>130</td>\n",
       "      <td>19</td>\n",
       "      <td>2</td>\n",
       "      <td>5</td>\n",
       "      <td>3</td>\n",
       "      <td>129</td>\n",
       "      <td>19</td>\n",
       "      <td>23.372870</td>\n",
       "      <td>21.566863</td>\n",
       "      <td>1.806007</td>\n",
       "    </tr>\n",
       "    <tr>\n",
       "      <th>2</th>\n",
       "      <td>26</td>\n",
       "      <td>1</td>\n",
       "      <td>2019-05-06 08:08:08.344504</td>\n",
       "      <td>2019-05-06 11:30:39</td>\n",
       "      <td>False</td>\n",
       "      <td>True</td>\n",
       "      <td>3</td>\n",
       "      <td>30.0</td>\n",
       "      <td>marketplace</td>\n",
       "      <td>ios</td>\n",
       "      <td>...</td>\n",
       "      <td>126</td>\n",
       "      <td>19</td>\n",
       "      <td>8</td>\n",
       "      <td>5</td>\n",
       "      <td>0</td>\n",
       "      <td>126</td>\n",
       "      <td>19</td>\n",
       "      <td>3.375182</td>\n",
       "      <td>3.282350</td>\n",
       "      <td>0.092832</td>\n",
       "    </tr>\n",
       "  </tbody>\n",
       "</table>\n",
       "<p>3 rows × 40 columns</p>\n",
       "</div>"
      ],
      "text/plain": [
       "   F1  F2                         F5                  F6     F9   F10  F11  \\\n",
       "0  98   1 2019-04-17 05:39:47.992464 2019-04-17 13:45:00  False  True    3   \n",
       "1  25   1 2019-05-09 00:37:37.667157 2019-05-10 00:00:00  False  True    3   \n",
       "2  26   1 2019-05-06 08:08:08.344504 2019-05-06 11:30:39  False  True    3   \n",
       "\n",
       "    F12          F13      F14  ...  F6_dayofyear  F6_weekofyear F17_hour  \\\n",
       "0  17.0  marketplace      ios  ...           107             16        5   \n",
       "1  19.5  marketplace  android  ...           130             19        2   \n",
       "2  30.0  marketplace      ios  ...           126             19        8   \n",
       "\n",
       "   F17_month  F17_weekday  F17_dayofyear  F17_weekofyear      F6_F5  \\\n",
       "0          4            2            107              16   8.086669   \n",
       "1          5            3            129              19  23.372870   \n",
       "2          5            0            126              19   3.375182   \n",
       "\n",
       "      F6_F17    F17_F5  \n",
       "0   8.048569  0.038099  \n",
       "1  21.566863  1.806007  \n",
       "2   3.282350  0.092832  \n",
       "\n",
       "[3 rows x 40 columns]"
      ]
     },
     "execution_count": 91,
     "metadata": {},
     "output_type": "execute_result"
    }
   ],
   "source": [
    "#taking back up \n",
    "df_all_bkup=df_all.copy()\n",
    "df_all.head(3)"
   ]
  },
  {
   "cell_type": "code",
   "execution_count": 95,
   "metadata": {},
   "outputs": [
    {
     "data": {
      "text/plain": [
       "Index(['F1', 'F2', 'F9', 'F10', 'F11', 'F12', 'F13', 'F14', 'F15', 'F16',\n",
       "       'F18', 'F19', 'F20', 'F21', 'F22', 'F23', 'F24', 'final_price',\n",
       "       'Holiday', 'F5_hour', 'F5_month', 'F5_weekday', 'F5_dayofyear',\n",
       "       'F5_weekofyear', 'F6_hour', 'F6_month', 'F6_weekday', 'F6_dayofyear',\n",
       "       'F6_weekofyear', 'F17_hour', 'F17_month', 'F17_weekday',\n",
       "       'F17_dayofyear', 'F17_weekofyear', 'F6_F5', 'F6_F17', 'F17_F5'],\n",
       "      dtype='object')"
      ]
     },
     "execution_count": 95,
     "metadata": {},
     "output_type": "execute_result"
    }
   ],
   "source": [
    "df_all.columns"
   ]
  },
  {
   "cell_type": "code",
   "execution_count": 94,
   "metadata": {},
   "outputs": [],
   "source": [
    "#now we can drop the date fields \n",
    "df_all=df_all.drop(['F5','F6','F17'],axis=1)\n"
   ]
  },
  {
   "cell_type": "code",
   "execution_count": 97,
   "metadata": {},
   "outputs": [
    {
     "data": {
      "text/plain": [
       "<matplotlib.axes._subplots.AxesSubplot at 0x7f87d3249710>"
      ]
     },
     "execution_count": 97,
     "metadata": {},
     "output_type": "execute_result"
    },
    {
     "data": {
      "image/png": "[encoded data removed]",
      "text/plain": [
       "<Figure size 432x288 with 1 Axes>"
      ]
     },
     "metadata": {
      "needs_background": "light"
     },
     "output_type": "display_data"
    }
   ],
   "source": [
    "#now check other variables and visualize \n",
    "\n",
    "sns.distplot(df_all['F1']) "
   ]
  },
  {
   "cell_type": "code",
   "execution_count": 99,
   "metadata": {},
   "outputs": [
    {
     "data": {
      "text/plain": [
       "(98     1636\n",
       " 26      558\n",
       " 25      470\n",
       " 29       81\n",
       " 40       41\n",
       " 37       41\n",
       " 35       39\n",
       " 33       33\n",
       " 64       30\n",
       " 38       27\n",
       " 42       25\n",
       " 65       22\n",
       " 1        19\n",
       " 41       17\n",
       " 44       16\n",
       " 34       16\n",
       " 31       12\n",
       " 27       10\n",
       " 66        9\n",
       " 97        9\n",
       " 5         8\n",
       " 6         7\n",
       " 3         6\n",
       " 52        4\n",
       " 9         4\n",
       " 99        3\n",
       " 7         3\n",
       " 67        3\n",
       " 90        2\n",
       " 10        2\n",
       " 47        2\n",
       " 12        2\n",
       " 18        1\n",
       " 16        1\n",
       " 100       1\n",
       " 95        1\n",
       " 69        1\n",
       " 94        1\n",
       " 58        1\n",
       " 53        1\n",
       " Name: F1, dtype: int64, 1, 100)"
      ]
     },
     "execution_count": 99,
     "metadata": {},
     "output_type": "execute_result"
    }
   ],
   "source": [
    "df_all['F1'].value_counts()"
   ]
  },
  {
   "cell_type": "code",
   "execution_count": 100,
   "metadata": {},
   "outputs": [],
   "source": [
    "#lets convert it into binning \n",
    "df_all['F1']=pd.cut(df_all['F1'],2, labels=[\"F1_1\",\"F1_2\"])\n"
   ]
  },
  {
   "cell_type": "code",
   "execution_count": 102,
   "metadata": {},
   "outputs": [
    {
     "data": {
      "text/plain": [
       "F1_2    1724\n",
       "F1_1    1441\n",
       "Name: F1, dtype: int64"
      ]
     },
     "execution_count": 102,
     "metadata": {},
     "output_type": "execute_result"
    }
   ],
   "source": [
    "df_all['F1'].value_counts()"
   ]
  },
  {
   "cell_type": "code",
   "execution_count": 104,
   "metadata": {},
   "outputs": [
    {
     "data": {
      "text/plain": [
       "(<matplotlib.axes._subplots.AxesSubplot at 0x7f87d41e5be0>, 1      3121\n",
       " 2        15\n",
       " 4         9\n",
       " 3         8\n",
       " 15        2\n",
       " 7         2\n",
       " 10        2\n",
       " 101       1\n",
       " 11        1\n",
       " 5         1\n",
       " 200       1\n",
       " 20        1\n",
       " 8         1\n",
       " Name: F2, dtype: int64)"
      ]
     },
     "execution_count": 104,
     "metadata": {},
     "output_type": "execute_result"
    },
    {
     "data": {
      "image/png": "[encoded data removed]",
      "text/plain": [
       "<Figure size 432x288 with 1 Axes>"
      ]
     },
     "metadata": {
      "needs_background": "light"
     },
     "output_type": "display_data"
    }
   ],
   "source": [
    "#now check for F2\n",
    "sns.distplot(df_all['F2']) ,df_all['F2'].value_counts()"
   ]
  },
  {
   "cell_type": "code",
   "execution_count": 105,
   "metadata": {},
   "outputs": [],
   "source": [
    "#make it categorical \n",
    "bn = Binarizer(threshold = 1)\n",
    "pd_f2 = bn.transform([df_all['F2']])[0]\n",
    "df_all['F2'] = pd_f2"
   ]
  },
  {
   "cell_type": "code",
   "execution_count": 106,
   "metadata": {},
   "outputs": [
    {
     "data": {
      "text/plain": [
       "(<matplotlib.axes._subplots.AxesSubplot at 0x7f87d326f550>, 3    2740\n",
       " 5     356\n",
       " 1      56\n",
       " 6       6\n",
       " 7       3\n",
       " 8       2\n",
       " 9       1\n",
       " 2       1\n",
       " Name: F11, dtype: int64)"
      ]
     },
     "execution_count": 106,
     "metadata": {},
     "output_type": "execute_result"
    },
    {
     "data": {
      "image/png": "[encoded data removed]",
      "text/plain": [
       "<Figure size 432x288 with 1 Axes>"
      ]
     },
     "metadata": {
      "needs_background": "light"
     },
     "output_type": "display_data"
    }
   ],
   "source": [
    "#check for F11\n",
    "sns.distplot(df_all['F11']) ,df_all['F11'].value_counts()"
   ]
  },
  {
   "cell_type": "code",
   "execution_count": 109,
   "metadata": {},
   "outputs": [],
   "source": [
    "#make it categorical \n",
    "bn = Binarizer(threshold = 3)\n",
    "pd_f11 = bn.transform([df_all['F11']])[0]\n",
    "df_all['F11'] = pd_f11"
   ]
  },
  {
   "cell_type": "code",
   "execution_count": 110,
   "metadata": {},
   "outputs": [
    {
     "data": {
      "text/plain": [
       "<matplotlib.axes._subplots.AxesSubplot at 0x7f87d582cf98>"
      ]
     },
     "execution_count": 110,
     "metadata": {},
     "output_type": "execute_result"
    },
    {
     "data": {
      "image/png": "[encoded data removed]",
      "text/plain": [
       "<Figure size 432x288 with 1 Axes>"
      ]
     },
     "metadata": {
      "needs_background": "light"
     },
     "output_type": "display_data"
    }
   ],
   "source": [
    "#now check for F12\n",
    "sns.distplot(df_all['F12'])"
   ]
  },
  {
   "cell_type": "code",
   "execution_count": 112,
   "metadata": {},
   "outputs": [
    {
     "data": {
      "text/plain": [
       "<matplotlib.axes._subplots.AxesSubplot at 0x7f87d5085080>"
      ]
     },
     "execution_count": 112,
     "metadata": {},
     "output_type": "execute_result"
    },
    {
     "data": {
      "image/png": "[encoded data removed]",
      "text/plain": [
       "<Figure size 432x288 with 1 Axes>"
      ]
     },
     "metadata": {
      "needs_background": "light"
     },
     "output_type": "display_data"
    }
   ],
   "source": [
    "sns.boxplot(x=df_all['F12'])"
   ]
  },
  {
   "cell_type": "code",
   "execution_count": 113,
   "metadata": {},
   "outputs": [
    {
     "data": {
      "text/plain": [
       "<matplotlib.axes._subplots.AxesSubplot at 0x7f87d9089a58>"
      ]
     },
     "execution_count": 113,
     "metadata": {},
     "output_type": "execute_result"
    },
    {
     "data": {
      "image/png": "[encoded data removed]",
      "text/plain": [
       "<Figure size 432x288 with 1 Axes>"
      ]
     },
     "metadata": {
      "needs_background": "light"
     },
     "output_type": "display_data"
    }
   ],
   "source": [
    "#seems it has few outliers , lets change to log scale retry\n",
    "log_max = np.log(df_all['F12'].max())\n",
    "df_F12= df_all['F12']**(1/log_max)\n",
    "sns.distplot(df_F12)"
   ]
  },
  {
   "cell_type": "code",
   "execution_count": 115,
   "metadata": {},
   "outputs": [],
   "source": [
    "#looks bit better ,\n",
    "df_all['F12']=df_F12"
   ]
  },
  {
   "cell_type": "code",
   "execution_count": 120,
   "metadata": {},
   "outputs": [
    {
     "data": {
      "text/plain": [
       "(2.718281828459045, 0.6570330183268188)"
      ]
     },
     "execution_count": 120,
     "metadata": {},
     "output_type": "execute_result"
    }
   ],
   "source": [
    "df_all['F12'].max(),df_all['F12'].min()"
   ]
  },
  {
   "cell_type": "code",
   "execution_count": 121,
   "metadata": {},
   "outputs": [],
   "source": [
    "#droping F15 as it has only false values , will not add values during training\n",
    "df_all=df_all.drop(['F15'],axis=1)"
   ]
  },
  {
   "cell_type": "code",
   "execution_count": 123,
   "metadata": {},
   "outputs": [
    {
     "data": {
      "text/html": [
       "<div>\n",
       "<style scoped>\n",
       "    .dataframe tbody tr th:only-of-type {\n",
       "        vertical-align: middle;\n",
       "    }\n",
       "\n",
       "    .dataframe tbody tr th {\n",
       "        vertical-align: top;\n",
       "    }\n",
       "\n",
       "    .dataframe thead th {\n",
       "        text-align: right;\n",
       "    }\n",
       "</style>\n",
       "<table border=\"1\" class=\"dataframe\">\n",
       "  <thead>\n",
       "    <tr style=\"text-align: right;\">\n",
       "      <th></th>\n",
       "      <th>F1</th>\n",
       "      <th>F2</th>\n",
       "      <th>F9</th>\n",
       "      <th>F10</th>\n",
       "      <th>F11</th>\n",
       "      <th>F12</th>\n",
       "      <th>F13</th>\n",
       "      <th>F14</th>\n",
       "      <th>F16</th>\n",
       "      <th>F18</th>\n",
       "      <th>...</th>\n",
       "      <th>F6_dayofyear</th>\n",
       "      <th>F6_weekofyear</th>\n",
       "      <th>F17_hour</th>\n",
       "      <th>F17_month</th>\n",
       "      <th>F17_weekday</th>\n",
       "      <th>F17_dayofyear</th>\n",
       "      <th>F17_weekofyear</th>\n",
       "      <th>F6_F5</th>\n",
       "      <th>F6_F17</th>\n",
       "      <th>F17_F5</th>\n",
       "    </tr>\n",
       "  </thead>\n",
       "  <tbody>\n",
       "    <tr>\n",
       "      <th>0</th>\n",
       "      <td>F1_2</td>\n",
       "      <td>0</td>\n",
       "      <td>False</td>\n",
       "      <td>True</td>\n",
       "      <td>0</td>\n",
       "      <td>1.327577</td>\n",
       "      <td>marketplace</td>\n",
       "      <td>ios</td>\n",
       "      <td>57661</td>\n",
       "      <td>0</td>\n",
       "      <td>...</td>\n",
       "      <td>107</td>\n",
       "      <td>16</td>\n",
       "      <td>5</td>\n",
       "      <td>4</td>\n",
       "      <td>2</td>\n",
       "      <td>107</td>\n",
       "      <td>16</td>\n",
       "      <td>8.086669</td>\n",
       "      <td>8.048569</td>\n",
       "      <td>0.038099</td>\n",
       "    </tr>\n",
       "    <tr>\n",
       "      <th>1</th>\n",
       "      <td>F1_1</td>\n",
       "      <td>0</td>\n",
       "      <td>False</td>\n",
       "      <td>True</td>\n",
       "      <td>0</td>\n",
       "      <td>1.345919</td>\n",
       "      <td>marketplace</td>\n",
       "      <td>android</td>\n",
       "      <td>65407</td>\n",
       "      <td>0</td>\n",
       "      <td>...</td>\n",
       "      <td>130</td>\n",
       "      <td>19</td>\n",
       "      <td>2</td>\n",
       "      <td>5</td>\n",
       "      <td>3</td>\n",
       "      <td>129</td>\n",
       "      <td>19</td>\n",
       "      <td>23.372870</td>\n",
       "      <td>21.566863</td>\n",
       "      <td>1.806007</td>\n",
       "    </tr>\n",
       "    <tr>\n",
       "      <th>2</th>\n",
       "      <td>F1_1</td>\n",
       "      <td>0</td>\n",
       "      <td>False</td>\n",
       "      <td>True</td>\n",
       "      <td>0</td>\n",
       "      <td>1.405173</td>\n",
       "      <td>marketplace</td>\n",
       "      <td>ios</td>\n",
       "      <td>64208</td>\n",
       "      <td>0</td>\n",
       "      <td>...</td>\n",
       "      <td>126</td>\n",
       "      <td>19</td>\n",
       "      <td>8</td>\n",
       "      <td>5</td>\n",
       "      <td>0</td>\n",
       "      <td>126</td>\n",
       "      <td>19</td>\n",
       "      <td>3.375182</td>\n",
       "      <td>3.282350</td>\n",
       "      <td>0.092832</td>\n",
       "    </tr>\n",
       "    <tr>\n",
       "      <th>3</th>\n",
       "      <td>F1_1</td>\n",
       "      <td>0</td>\n",
       "      <td>False</td>\n",
       "      <td>True</td>\n",
       "      <td>0</td>\n",
       "      <td>1.405173</td>\n",
       "      <td>marketplace</td>\n",
       "      <td>ios</td>\n",
       "      <td>66240</td>\n",
       "      <td>0</td>\n",
       "      <td>...</td>\n",
       "      <td>130</td>\n",
       "      <td>19</td>\n",
       "      <td>16</td>\n",
       "      <td>5</td>\n",
       "      <td>4</td>\n",
       "      <td>130</td>\n",
       "      <td>19</td>\n",
       "      <td>0.067978</td>\n",
       "      <td>-0.067424</td>\n",
       "      <td>0.135403</td>\n",
       "    </tr>\n",
       "    <tr>\n",
       "      <th>4</th>\n",
       "      <td>F1_2</td>\n",
       "      <td>0</td>\n",
       "      <td>False</td>\n",
       "      <td>True</td>\n",
       "      <td>0</td>\n",
       "      <td>1.395511</td>\n",
       "      <td>marketplace</td>\n",
       "      <td>android</td>\n",
       "      <td>59117</td>\n",
       "      <td>0</td>\n",
       "      <td>...</td>\n",
       "      <td>110</td>\n",
       "      <td>16</td>\n",
       "      <td>1</td>\n",
       "      <td>4</td>\n",
       "      <td>5</td>\n",
       "      <td>110</td>\n",
       "      <td>16</td>\n",
       "      <td>6.979487</td>\n",
       "      <td>6.970032</td>\n",
       "      <td>0.009455</td>\n",
       "    </tr>\n",
       "  </tbody>\n",
       "</table>\n",
       "<p>5 rows × 36 columns</p>\n",
       "</div>"
      ],
      "text/plain": [
       "     F1  F2     F9   F10  F11       F12          F13      F14    F16  F18  \\\n",
       "0  F1_2   0  False  True    0  1.327577  marketplace      ios  57661    0   \n",
       "1  F1_1   0  False  True    0  1.345919  marketplace  android  65407    0   \n",
       "2  F1_1   0  False  True    0  1.405173  marketplace      ios  64208    0   \n",
       "3  F1_1   0  False  True    0  1.405173  marketplace      ios  66240    0   \n",
       "4  F1_2   0  False  True    0  1.395511  marketplace  android  59117    0   \n",
       "\n",
       "   ...  F6_dayofyear  F6_weekofyear  F17_hour  F17_month  F17_weekday  \\\n",
       "0  ...           107             16         5          4            2   \n",
       "1  ...           130             19         2          5            3   \n",
       "2  ...           126             19         8          5            0   \n",
       "3  ...           130             19        16          5            4   \n",
       "4  ...           110             16         1          4            5   \n",
       "\n",
       "   F17_dayofyear  F17_weekofyear      F6_F5     F6_F17    F17_F5  \n",
       "0            107              16   8.086669   8.048569  0.038099  \n",
       "1            129              19  23.372870  21.566863  1.806007  \n",
       "2            126              19   3.375182   3.282350  0.092832  \n",
       "3            130              19   0.067978  -0.067424  0.135403  \n",
       "4            110              16   6.979487   6.970032  0.009455  \n",
       "\n",
       "[5 rows x 36 columns]"
      ]
     },
     "execution_count": 123,
     "metadata": {},
     "output_type": "execute_result"
    }
   ],
   "source": [
    "df_all.columns\n",
    "df_all.head(5)"
   ]
  },
  {
   "cell_type": "code",
   "execution_count": 124,
   "metadata": {},
   "outputs": [
    {
     "data": {
      "text/plain": [
       "<matplotlib.axes._subplots.AxesSubplot at 0x7f87d23dce10>"
      ]
     },
     "execution_count": 124,
     "metadata": {},
     "output_type": "execute_result"
    },
    {
     "data": {
      "image/png": "[encoded data removed]",
      "text/plain": [
       "<Figure size 432x288 with 1 Axes>"
      ]
     },
     "metadata": {
      "needs_background": "light"
     },
     "output_type": "display_data"
    }
   ],
   "source": [
    "sns.distplot(df_all['F16'])\n",
    "#df_org['F16']=pd.cut(df_org['F16'],3, labels=[\"F16_1\", \"F16_2\", \"F16_3\"])\n"
   ]
  },
  {
   "cell_type": "code",
   "execution_count": 125,
   "metadata": {},
   "outputs": [],
   "source": [
    "#seems like it represnts some id ,category ,lets bin it \n",
    "df_all['F16']=pd.cut(df_all['F16'],3, labels=[\"F16_1\", \"F16_2\", \"F16_3\"])"
   ]
  },
  {
   "cell_type": "code",
   "execution_count": 127,
   "metadata": {},
   "outputs": [
    {
     "data": {
      "text/plain": [
       "0    3146\n",
       "1      19\n",
       "Name: F18, dtype: int64"
      ]
     },
     "execution_count": 127,
     "metadata": {},
     "output_type": "execute_result"
    }
   ],
   "source": [
    "df_all['F18'].value_counts()"
   ]
  },
  {
   "cell_type": "markdown",
   "metadata": {},
   "source": [
    "#from data F19,F20,F22,F23 looks like  latitude and longitude values , as few of them i have googled it these represnts places of vietnam"
   ]
  },
  {
   "cell_type": "code",
   "execution_count": 129,
   "metadata": {},
   "outputs": [],
   "source": [
    "#create features from lat and long\n",
    "#new features using PCA  In this case it is not about dimension reduction \n",
    "#since he transformed 2D-> 2D. The rotation could help for decision tree splits, and it did actually.\n",
    "coords = np.vstack((df_all[['F19', 'F20']].values,\n",
    "                    df_all[['F22', 'F23']].values))\n",
    "pca = PCA().fit(coords)\n",
    "\n"
   ]
  },
  {
   "cell_type": "code",
   "execution_count": 130,
   "metadata": {},
   "outputs": [],
   "source": [
    "df_all['source_pca0'] = pca.transform(df_all[['F19', 'F20']])[:, 0]\n",
    "df_all['source_pca1'] = pca.transform(df_all[['F19', 'F20']])[:, 1]\n",
    "df_all['destination_pca0'] = pca.transform(df_all[['F22', 'F23']])[:, 0]\n",
    "df_all['destination_pca1'] = pca.transform(df_all[['F22', 'F23']])[:, 1]"
   ]
  },
  {
   "cell_type": "code",
   "execution_count": 131,
   "metadata": {},
   "outputs": [],
   "source": [
    "#create new distance features \n",
    "def haversine_(lat1, lng1, lat2, lng2):\n",
    "    \"\"\"function to calculate haversine distance between two co-ordinates\"\"\"\n",
    "    lat1, lng1, lat2, lng2 = map(np.radians, (lat1, lng1, lat2, lng2))\n",
    "    AVG_EARTH_RADIUS = 6371  # in km\n",
    "    lat = lat2 - lat1\n",
    "    lng = lng2 - lng1\n",
    "    d = np.sin(lat * 0.5) ** 2 + np.cos(lat1) * np.cos(lat2) * np.sin(lng * 0.5) ** 2\n",
    "    h = 2 * AVG_EARTH_RADIUS * np.arcsin(np.sqrt(d))\n",
    "    return(h)\n",
    "\n",
    "def manhattan_distance(lat1, lng1, lat2, lng2):\n",
    "    \"\"\"function to calculate manhatten distance between pick_drop\"\"\"\n",
    "    a = haversine_(lat1, lng1, lat1, lng2)\n",
    "    b = haversine_(lat1, lng1, lat2, lng1)\n",
    "    return a + b\n",
    "\n",
    "\n",
    "def bearing_distance(lat1, lng1, lat2, lng2):\n",
    "    AVG_EARTH_RADIUS = 6371  # in km\n",
    "    lng_delta_rad = np.radians(lng2 - lng1)\n",
    "    lat1, lng1, lat2, lng2 = map(np.radians, (lat1, lng1, lat2, lng2))\n",
    "    y = np.sin(lng_delta_rad) * np.cos(lat2)\n",
    "    x = np.cos(lat1) * np.sin(lat2) - np.sin(lat1) * np.cos(lat2) * np.cos(lng_delta_rad)\n",
    "    return np.degrees(np.arctan2(y, x))"
   ]
  },
  {
   "cell_type": "code",
   "execution_count": 132,
   "metadata": {},
   "outputs": [],
   "source": [
    "df_all.loc[:,'haversined']=haversine_(df_all['F19'],df_all['F20'],df_all['F22'],df_all['F23'])\n",
    "df_all.loc[:,'manhattand']=manhattan_distance(df_all['F19'],df_all['F20'],df_all['F22'],df_all['F23'])\n",
    "df_all.loc[:,'bearingd']=bearing_distance(df_all['F19'],df_all['F20'],df_all['F22'],df_all['F23'])"
   ]
  },
  {
   "cell_type": "code",
   "execution_count": 133,
   "metadata": {},
   "outputs": [],
   "source": [
    "#center latitude and longitude \n",
    "\n",
    "df_all.loc[:, 'center_latitude'] = (df_all['F19'].values + df_all['F22'].values) / 2\n",
    "df_all.loc[:, 'center_longitude'] = (df_all['F20'].values + df_all['F23'].values) / 2"
   ]
  },
  {
   "cell_type": "code",
   "execution_count": 136,
   "metadata": {},
   "outputs": [],
   "source": [
    "#lets create new feature using clusters for the latitude and longitude \n",
    "from sklearn.cluster import MiniBatchKMeans\n",
    "coords = np.vstack((df_all[['F19', 'F20']].values,\n",
    "                    df_all[['F22', 'F23']].values))"
   ]
  },
  {
   "cell_type": "code",
   "execution_count": 137,
   "metadata": {},
   "outputs": [
    {
     "data": {
      "text/plain": [
       "6330"
      ]
     },
     "execution_count": 137,
     "metadata": {},
     "output_type": "execute_result"
    }
   ],
   "source": [
    "len(coords)"
   ]
  },
  {
   "cell_type": "code",
   "execution_count": 138,
   "metadata": {},
   "outputs": [],
   "source": [
    "sample_ind = np.random.permutation(len(coords))[:6282]\n",
    "kmeans = MiniBatchKMeans(n_clusters=5, batch_size=100).fit(coords[sample_ind])\n",
    " "
   ]
  },
  {
   "cell_type": "code",
   "execution_count": 139,
   "metadata": {},
   "outputs": [],
   "source": [
    "df_all.loc[:, 'source_cluster'] = kmeans.predict(df_all[['F19', 'F20']])\n",
    "df_all.loc[:, 'destination_cluster'] = kmeans.predict(df_all[['F22', 'F23']])"
   ]
  },
  {
   "cell_type": "code",
   "execution_count": 141,
   "metadata": {},
   "outputs": [
    {
     "data": {
      "text/plain": [
       "Index(['F1', 'F2', 'F9', 'F10', 'F11', 'F12', 'F13', 'F14', 'F16', 'F18',\n",
       "       'F19', 'F20', 'F21', 'F22', 'F23', 'F24', 'final_price', 'Holiday',\n",
       "       'F5_hour', 'F5_month', 'F5_weekday', 'F5_dayofyear', 'F5_weekofyear',\n",
       "       'F6_hour', 'F6_month', 'F6_weekday', 'F6_dayofyear', 'F6_weekofyear',\n",
       "       'F17_hour', 'F17_month', 'F17_weekday', 'F17_dayofyear',\n",
       "       'F17_weekofyear', 'F6_F5', 'F6_F17', 'F17_F5', 'source_pca0',\n",
       "       'source_pca1', 'destination_pca0', 'destination_pca1', 'haversined',\n",
       "       'manhattand', 'bearingd', 'center_latitude', 'center_longitude',\n",
       "       'source_cluster', 'destination_cluster'],\n",
       "      dtype='object')"
      ]
     },
     "execution_count": 141,
     "metadata": {},
     "output_type": "execute_result"
    }
   ],
   "source": [
    "df_all.columns"
   ]
  },
  {
   "cell_type": "code",
   "execution_count": 143,
   "metadata": {},
   "outputs": [
    {
     "data": {
      "text/plain": [
       "<matplotlib.axes._subplots.AxesSubplot at 0x7f87d04de048>"
      ]
     },
     "execution_count": 143,
     "metadata": {},
     "output_type": "execute_result"
    },
    {
     "data": {
      "image/png": "[encoded data removed]",
      "text/plain": [
       "<Figure size 432x288 with 1 Axes>"
      ]
     },
     "metadata": {
      "needs_background": "light"
     },
     "output_type": "display_data"
    }
   ],
   "source": [
    "#check for F21 FEATURE \n",
    "sns.distplot(df_all['F21'])"
   ]
  },
  {
   "cell_type": "code",
   "execution_count": 144,
   "metadata": {},
   "outputs": [],
   "source": [
    "df_all['F21']=pd.cut(df_all['F21'],2, labels=[\"F21_1\", \"F21_2\"])\n"
   ]
  },
  {
   "cell_type": "code",
   "execution_count": 145,
   "metadata": {},
   "outputs": [
    {
     "data": {
      "text/plain": [
       "<matplotlib.axes._subplots.AxesSubplot at 0x7f87d099b828>"
      ]
     },
     "execution_count": 145,
     "metadata": {},
     "output_type": "execute_result"
    },
    {
     "data": {
      "image/png": "[encoded data removed]",
      "text/plain": [
       "<Figure size 432x288 with 1 Axes>"
      ]
     },
     "metadata": {
      "needs_background": "light"
     },
     "output_type": "display_data"
    }
   ],
   "source": [
    "#check for F21 FEATURE \n",
    "sns.distplot(df_all['F24'])"
   ]
  },
  {
   "cell_type": "code",
   "execution_count": 146,
   "metadata": {},
   "outputs": [],
   "source": [
    "#binarize f24\n",
    "bn = Binarizer(threshold = 30)\n",
    "pd_f24 = bn.transform([df_all['F24']])[0]\n",
    "df_all['F24'] = pd_f24"
   ]
  },
  {
   "cell_type": "code",
   "execution_count": 147,
   "metadata": {},
   "outputs": [
    {
     "data": {
      "text/html": [
       "<div>\n",
       "<style scoped>\n",
       "    .dataframe tbody tr th:only-of-type {\n",
       "        vertical-align: middle;\n",
       "    }\n",
       "\n",
       "    .dataframe tbody tr th {\n",
       "        vertical-align: top;\n",
       "    }\n",
       "\n",
       "    .dataframe thead th {\n",
       "        text-align: right;\n",
       "    }\n",
       "</style>\n",
       "<table border=\"1\" class=\"dataframe\">\n",
       "  <thead>\n",
       "    <tr style=\"text-align: right;\">\n",
       "      <th></th>\n",
       "      <th>F1</th>\n",
       "      <th>F2</th>\n",
       "      <th>F9</th>\n",
       "      <th>F10</th>\n",
       "      <th>F11</th>\n",
       "      <th>F12</th>\n",
       "      <th>F13</th>\n",
       "      <th>F14</th>\n",
       "      <th>F16</th>\n",
       "      <th>F18</th>\n",
       "      <th>...</th>\n",
       "      <th>source_pca1</th>\n",
       "      <th>destination_pca0</th>\n",
       "      <th>destination_pca1</th>\n",
       "      <th>haversined</th>\n",
       "      <th>manhattand</th>\n",
       "      <th>bearingd</th>\n",
       "      <th>center_latitude</th>\n",
       "      <th>center_longitude</th>\n",
       "      <th>source_cluster</th>\n",
       "      <th>destination_cluster</th>\n",
       "    </tr>\n",
       "  </thead>\n",
       "  <tbody>\n",
       "    <tr>\n",
       "      <th>0</th>\n",
       "      <td>F1_2</td>\n",
       "      <td>0</td>\n",
       "      <td>False</td>\n",
       "      <td>True</td>\n",
       "      <td>0</td>\n",
       "      <td>1.327577</td>\n",
       "      <td>marketplace</td>\n",
       "      <td>ios</td>\n",
       "      <td>F16_3</td>\n",
       "      <td>0</td>\n",
       "      <td>...</td>\n",
       "      <td>-0.039163</td>\n",
       "      <td>-0.532435</td>\n",
       "      <td>0.293758</td>\n",
       "      <td>46.830984</td>\n",
       "      <td>65.579142</td>\n",
       "      <td>-53.098299</td>\n",
       "      <td>10.895077</td>\n",
       "      <td>106.566510</td>\n",
       "      <td>0</td>\n",
       "      <td>0</td>\n",
       "    </tr>\n",
       "    <tr>\n",
       "      <th>1</th>\n",
       "      <td>F1_1</td>\n",
       "      <td>0</td>\n",
       "      <td>False</td>\n",
       "      <td>True</td>\n",
       "      <td>0</td>\n",
       "      <td>1.345919</td>\n",
       "      <td>marketplace</td>\n",
       "      <td>android</td>\n",
       "      <td>F16_3</td>\n",
       "      <td>0</td>\n",
       "      <td>...</td>\n",
       "      <td>-0.039163</td>\n",
       "      <td>-0.272134</td>\n",
       "      <td>0.125107</td>\n",
       "      <td>61.178252</td>\n",
       "      <td>77.946656</td>\n",
       "      <td>-19.234527</td>\n",
       "      <td>11.028441</td>\n",
       "      <td>106.645655</td>\n",
       "      <td>0</td>\n",
       "      <td>0</td>\n",
       "    </tr>\n",
       "    <tr>\n",
       "      <th>2</th>\n",
       "      <td>F1_1</td>\n",
       "      <td>0</td>\n",
       "      <td>False</td>\n",
       "      <td>True</td>\n",
       "      <td>0</td>\n",
       "      <td>1.405173</td>\n",
       "      <td>marketplace</td>\n",
       "      <td>ios</td>\n",
       "      <td>F16_3</td>\n",
       "      <td>0</td>\n",
       "      <td>...</td>\n",
       "      <td>0.370123</td>\n",
       "      <td>-0.798182</td>\n",
       "      <td>-0.086533</td>\n",
       "      <td>65.201563</td>\n",
       "      <td>92.133985</td>\n",
       "      <td>47.704274</td>\n",
       "      <td>10.573678</td>\n",
       "      <td>106.564641</td>\n",
       "      <td>0</td>\n",
       "      <td>0</td>\n",
       "    </tr>\n",
       "    <tr>\n",
       "      <th>3</th>\n",
       "      <td>F1_1</td>\n",
       "      <td>0</td>\n",
       "      <td>False</td>\n",
       "      <td>True</td>\n",
       "      <td>0</td>\n",
       "      <td>1.405173</td>\n",
       "      <td>marketplace</td>\n",
       "      <td>ios</td>\n",
       "      <td>F16_3</td>\n",
       "      <td>0</td>\n",
       "      <td>...</td>\n",
       "      <td>-1.408406</td>\n",
       "      <td>-0.798182</td>\n",
       "      <td>-0.086533</td>\n",
       "      <td>145.081859</td>\n",
       "      <td>163.697008</td>\n",
       "      <td>-97.819598</td>\n",
       "      <td>10.860988</td>\n",
       "      <td>107.443294</td>\n",
       "      <td>0</td>\n",
       "      <td>0</td>\n",
       "    </tr>\n",
       "    <tr>\n",
       "      <th>4</th>\n",
       "      <td>F1_2</td>\n",
       "      <td>0</td>\n",
       "      <td>False</td>\n",
       "      <td>True</td>\n",
       "      <td>0</td>\n",
       "      <td>1.395511</td>\n",
       "      <td>marketplace</td>\n",
       "      <td>android</td>\n",
       "      <td>F16_3</td>\n",
       "      <td>0</td>\n",
       "      <td>...</td>\n",
       "      <td>-0.086533</td>\n",
       "      <td>-1.171138</td>\n",
       "      <td>-0.422969</td>\n",
       "      <td>55.388775</td>\n",
       "      <td>78.292138</td>\n",
       "      <td>136.154537</td>\n",
       "      <td>10.591103</td>\n",
       "      <td>106.960808</td>\n",
       "      <td>0</td>\n",
       "      <td>0</td>\n",
       "    </tr>\n",
       "  </tbody>\n",
       "</table>\n",
       "<p>5 rows × 47 columns</p>\n",
       "</div>"
      ],
      "text/plain": [
       "     F1  F2     F9   F10  F11       F12          F13      F14    F16  F18  \\\n",
       "0  F1_2   0  False  True    0  1.327577  marketplace      ios  F16_3    0   \n",
       "1  F1_1   0  False  True    0  1.345919  marketplace  android  F16_3    0   \n",
       "2  F1_1   0  False  True    0  1.405173  marketplace      ios  F16_3    0   \n",
       "3  F1_1   0  False  True    0  1.405173  marketplace      ios  F16_3    0   \n",
       "4  F1_2   0  False  True    0  1.395511  marketplace  android  F16_3    0   \n",
       "\n",
       "   ...  source_pca1  destination_pca0 destination_pca1  haversined  \\\n",
       "0  ...    -0.039163         -0.532435         0.293758   46.830984   \n",
       "1  ...    -0.039163         -0.272134         0.125107   61.178252   \n",
       "2  ...     0.370123         -0.798182        -0.086533   65.201563   \n",
       "3  ...    -1.408406         -0.798182        -0.086533  145.081859   \n",
       "4  ...    -0.086533         -1.171138        -0.422969   55.388775   \n",
       "\n",
       "   manhattand    bearingd  center_latitude center_longitude  source_cluster  \\\n",
       "0   65.579142  -53.098299        10.895077       106.566510               0   \n",
       "1   77.946656  -19.234527        11.028441       106.645655               0   \n",
       "2   92.133985   47.704274        10.573678       106.564641               0   \n",
       "3  163.697008  -97.819598        10.860988       107.443294               0   \n",
       "4   78.292138  136.154537        10.591103       106.960808               0   \n",
       "\n",
       "   destination_cluster  \n",
       "0                    0  \n",
       "1                    0  \n",
       "2                    0  \n",
       "3                    0  \n",
       "4                    0  \n",
       "\n",
       "[5 rows x 47 columns]"
      ]
     },
     "execution_count": 147,
     "metadata": {},
     "output_type": "execute_result"
    }
   ],
   "source": [
    "df_all.head(5)"
   ]
  },
  {
   "cell_type": "code",
   "execution_count": 148,
   "metadata": {},
   "outputs": [],
   "source": [
    "#We have done creatint new features ,next we have to check corelation, normalizing and encoding categorical features \n",
    "\n",
    "#we use cramers v rule for corelation of categorical features "
   ]
  },
  {
   "cell_type": "code",
   "execution_count": 149,
   "metadata": {},
   "outputs": [],
   "source": [
    "def cramers_v(confusion_matrix):\n",
    "    chi2 = ss.chi2_contingency(confusion_matrix)[0]\n",
    "    n = confusion_matrix.sum().sum()\n",
    "    phi2 = chi2/n\n",
    "    r,k = confusion_matrix.shape\n",
    "    phi2corr = max(0, phi2-((k-1)*(r-1))/(n-1))\n",
    "    rcorr = r-((r-1)**2)/(n-1)\n",
    "    kcorr = k-((k-1)**2)/(n-1)\n",
    "    return np.sqrt(phi2corr/min((kcorr-1),(rcorr-1)))\n"
   ]
  },
  {
   "cell_type": "code",
   "execution_count": 150,
   "metadata": {},
   "outputs": [
    {
     "data": {
      "text/plain": [
       "0.042303813912714594"
      ]
     },
     "execution_count": 150,
     "metadata": {},
     "output_type": "execute_result"
    }
   ],
   "source": [
    "confusion_matrix = pd.crosstab(df_all[\"F1\"],df_all[\"F2\"])\n",
    "cramers_v(confusion_matrix)"
   ]
  },
  {
   "cell_type": "markdown",
   "metadata": {},
   "source": [
    "not much corelation"
   ]
  },
  {
   "cell_type": "code",
   "execution_count": 151,
   "metadata": {},
   "outputs": [
    {
     "data": {
      "text/plain": [
       "0.06640769202440293"
      ]
     },
     "execution_count": 151,
     "metadata": {},
     "output_type": "execute_result"
    }
   ],
   "source": [
    "confusion_matrix = pd.crosstab(df_all[\"F9\"],df_all[\"F10\"])\n",
    "cramers_v(confusion_matrix)"
   ]
  },
  {
   "cell_type": "code",
   "execution_count": 152,
   "metadata": {},
   "outputs": [
    {
     "data": {
      "text/plain": [
       "0.12228584391625832"
      ]
     },
     "execution_count": 152,
     "metadata": {},
     "output_type": "execute_result"
    }
   ],
   "source": [
    "confusion_matrix = pd.crosstab(df_all[\"F13\"],df_all[\"F14\"])\n",
    "cramers_v(confusion_matrix)"
   ]
  },
  {
   "cell_type": "code",
   "execution_count": 153,
   "metadata": {},
   "outputs": [
    {
     "data": {
      "text/plain": [
       "0.19434852798380853"
      ]
     },
     "execution_count": 153,
     "metadata": {},
     "output_type": "execute_result"
    }
   ],
   "source": [
    "confusion_matrix = pd.crosstab([df_all[\"F1\"],df_all[\"F2\"]],[df_all[\"F13\"],df_all[\"F14\"]])\n",
    "cramers_v(confusion_matrix)"
   ]
  },
  {
   "cell_type": "markdown",
   "metadata": {},
   "source": [
    "there is bit corelation but not much so no action to be taken"
   ]
  },
  {
   "cell_type": "code",
   "execution_count": 154,
   "metadata": {},
   "outputs": [],
   "source": [
    "#lets encode the categorical fields and then we will check for corelation of continous feautres "
   ]
  },
  {
   "cell_type": "code",
   "execution_count": 155,
   "metadata": {},
   "outputs": [],
   "source": [
    "from sklearn.preprocessing import LabelEncoder\n",
    "le = LabelEncoder()\n",
    "\n",
    "df_all['F9']=le.fit_transform(df_all['F9'])\n",
    "\n",
    "df_all['F10']=le.fit_transform(df_all['F10'])"
   ]
  },
  {
   "cell_type": "code",
   "execution_count": 156,
   "metadata": {},
   "outputs": [
    {
     "data": {
      "text/plain": [
       "Index(['F1', 'F2', 'F9', 'F10', 'F11', 'F12', 'F13', 'F14', 'F16', 'F18',\n",
       "       'F19', 'F20', 'F21', 'F22', 'F23', 'F24', 'final_price', 'Holiday',\n",
       "       'F5_hour', 'F5_month', 'F5_weekday', 'F5_dayofyear', 'F5_weekofyear',\n",
       "       'F6_hour', 'F6_month', 'F6_weekday', 'F6_dayofyear', 'F6_weekofyear',\n",
       "       'F17_hour', 'F17_month', 'F17_weekday', 'F17_dayofyear',\n",
       "       'F17_weekofyear', 'F6_F5', 'F6_F17', 'F17_F5', 'source_pca0',\n",
       "       'source_pca1', 'destination_pca0', 'destination_pca1', 'haversined',\n",
       "       'manhattand', 'bearingd', 'center_latitude', 'center_longitude',\n",
       "       'source_cluster', 'destination_cluster'],\n",
       "      dtype='object')"
      ]
     },
     "execution_count": 156,
     "metadata": {},
     "output_type": "execute_result"
    }
   ],
   "source": [
    "df_all.columns"
   ]
  },
  {
   "cell_type": "code",
   "execution_count": 157,
   "metadata": {},
   "outputs": [],
   "source": [
    "#b4encode=df_all.copy()\n",
    "df_all=pd.get_dummies(df_all, columns=[\"F1\",\"F13\",\"F14\",\"F16\",\"F21\",\"Holiday\"])"
   ]
  },
  {
   "cell_type": "code",
   "execution_count": 158,
   "metadata": {},
   "outputs": [
    {
     "data": {
      "text/html": [
       "<div>\n",
       "<style scoped>\n",
       "    .dataframe tbody tr th:only-of-type {\n",
       "        vertical-align: middle;\n",
       "    }\n",
       "\n",
       "    .dataframe tbody tr th {\n",
       "        vertical-align: top;\n",
       "    }\n",
       "\n",
       "    .dataframe thead th {\n",
       "        text-align: right;\n",
       "    }\n",
       "</style>\n",
       "<table border=\"1\" class=\"dataframe\">\n",
       "  <thead>\n",
       "    <tr style=\"text-align: right;\">\n",
       "      <th></th>\n",
       "      <th>F2</th>\n",
       "      <th>F9</th>\n",
       "      <th>F10</th>\n",
       "      <th>F11</th>\n",
       "      <th>F12</th>\n",
       "      <th>F18</th>\n",
       "      <th>F19</th>\n",
       "      <th>F20</th>\n",
       "      <th>F22</th>\n",
       "      <th>F23</th>\n",
       "      <th>...</th>\n",
       "      <th>F14_legacy</th>\n",
       "      <th>F14_ops</th>\n",
       "      <th>F14_webapp</th>\n",
       "      <th>F16_F16_1</th>\n",
       "      <th>F16_F16_2</th>\n",
       "      <th>F16_F16_3</th>\n",
       "      <th>F21_F21_1</th>\n",
       "      <th>F21_F21_2</th>\n",
       "      <th>Holiday_False</th>\n",
       "      <th>Holiday_True</th>\n",
       "    </tr>\n",
       "  </thead>\n",
       "  <tbody>\n",
       "    <tr>\n",
       "      <th>0</th>\n",
       "      <td>0</td>\n",
       "      <td>0</td>\n",
       "      <td>1</td>\n",
       "      <td>0</td>\n",
       "      <td>1.327577</td>\n",
       "      <td>0</td>\n",
       "      <td>10.768730</td>\n",
       "      <td>106.738068</td>\n",
       "      <td>11.021424</td>\n",
       "      <td>106.394952</td>\n",
       "      <td>...</td>\n",
       "      <td>0</td>\n",
       "      <td>0</td>\n",
       "      <td>0</td>\n",
       "      <td>0</td>\n",
       "      <td>0</td>\n",
       "      <td>1</td>\n",
       "      <td>1</td>\n",
       "      <td>0</td>\n",
       "      <td>1</td>\n",
       "      <td>0</td>\n",
       "    </tr>\n",
       "    <tr>\n",
       "      <th>1</th>\n",
       "      <td>0</td>\n",
       "      <td>0</td>\n",
       "      <td>1</td>\n",
       "      <td>0</td>\n",
       "      <td>1.345919</td>\n",
       "      <td>0</td>\n",
       "      <td>10.768730</td>\n",
       "      <td>106.738068</td>\n",
       "      <td>11.288151</td>\n",
       "      <td>106.553243</td>\n",
       "      <td>...</td>\n",
       "      <td>0</td>\n",
       "      <td>0</td>\n",
       "      <td>0</td>\n",
       "      <td>0</td>\n",
       "      <td>0</td>\n",
       "      <td>1</td>\n",
       "      <td>1</td>\n",
       "      <td>0</td>\n",
       "      <td>1</td>\n",
       "      <td>0</td>\n",
       "    </tr>\n",
       "    <tr>\n",
       "      <th>2</th>\n",
       "      <td>0</td>\n",
       "      <td>0</td>\n",
       "      <td>1</td>\n",
       "      <td>0</td>\n",
       "      <td>1.405173</td>\n",
       "      <td>0</td>\n",
       "      <td>10.376528</td>\n",
       "      <td>106.343889</td>\n",
       "      <td>10.770827</td>\n",
       "      <td>106.785392</td>\n",
       "      <td>...</td>\n",
       "      <td>0</td>\n",
       "      <td>0</td>\n",
       "      <td>0</td>\n",
       "      <td>0</td>\n",
       "      <td>0</td>\n",
       "      <td>1</td>\n",
       "      <td>0</td>\n",
       "      <td>1</td>\n",
       "      <td>1</td>\n",
       "      <td>0</td>\n",
       "    </tr>\n",
       "    <tr>\n",
       "      <th>3</th>\n",
       "      <td>0</td>\n",
       "      <td>0</td>\n",
       "      <td>1</td>\n",
       "      <td>0</td>\n",
       "      <td>1.405173</td>\n",
       "      <td>0</td>\n",
       "      <td>10.951149</td>\n",
       "      <td>108.101195</td>\n",
       "      <td>10.770827</td>\n",
       "      <td>106.785392</td>\n",
       "      <td>...</td>\n",
       "      <td>0</td>\n",
       "      <td>0</td>\n",
       "      <td>0</td>\n",
       "      <td>0</td>\n",
       "      <td>0</td>\n",
       "      <td>1</td>\n",
       "      <td>1</td>\n",
       "      <td>0</td>\n",
       "      <td>1</td>\n",
       "      <td>0</td>\n",
       "    </tr>\n",
       "    <tr>\n",
       "      <th>4</th>\n",
       "      <td>0</td>\n",
       "      <td>0</td>\n",
       "      <td>1</td>\n",
       "      <td>0</td>\n",
       "      <td>1.395511</td>\n",
       "      <td>0</td>\n",
       "      <td>10.770827</td>\n",
       "      <td>106.785392</td>\n",
       "      <td>10.411380</td>\n",
       "      <td>107.136224</td>\n",
       "      <td>...</td>\n",
       "      <td>0</td>\n",
       "      <td>0</td>\n",
       "      <td>0</td>\n",
       "      <td>0</td>\n",
       "      <td>0</td>\n",
       "      <td>1</td>\n",
       "      <td>1</td>\n",
       "      <td>0</td>\n",
       "      <td>1</td>\n",
       "      <td>0</td>\n",
       "    </tr>\n",
       "  </tbody>\n",
       "</table>\n",
       "<p>5 rows × 59 columns</p>\n",
       "</div>"
      ],
      "text/plain": [
       "   F2  F9  F10  F11       F12  F18        F19         F20        F22  \\\n",
       "0   0   0    1    0  1.327577    0  10.768730  106.738068  11.021424   \n",
       "1   0   0    1    0  1.345919    0  10.768730  106.738068  11.288151   \n",
       "2   0   0    1    0  1.405173    0  10.376528  106.343889  10.770827   \n",
       "3   0   0    1    0  1.405173    0  10.951149  108.101195  10.770827   \n",
       "4   0   0    1    0  1.395511    0  10.770827  106.785392  10.411380   \n",
       "\n",
       "          F23  ...  F14_legacy  F14_ops  F14_webapp  F16_F16_1  F16_F16_2  \\\n",
       "0  106.394952  ...           0        0           0          0          0   \n",
       "1  106.553243  ...           0        0           0          0          0   \n",
       "2  106.785392  ...           0        0           0          0          0   \n",
       "3  106.785392  ...           0        0           0          0          0   \n",
       "4  107.136224  ...           0        0           0          0          0   \n",
       "\n",
       "   F16_F16_3  F21_F21_1  F21_F21_2  Holiday_False  Holiday_True  \n",
       "0          1          1          0              1             0  \n",
       "1          1          1          0              1             0  \n",
       "2          1          0          1              1             0  \n",
       "3          1          1          0              1             0  \n",
       "4          1          1          0              1             0  \n",
       "\n",
       "[5 rows x 59 columns]"
      ]
     },
     "execution_count": 158,
     "metadata": {},
     "output_type": "execute_result"
    }
   ],
   "source": [
    "df_all.head(5)"
   ]
  },
  {
   "cell_type": "code",
   "execution_count": 160,
   "metadata": {},
   "outputs": [
    {
     "data": {
      "text/html": [
       "<div>\n",
       "<style scoped>\n",
       "    .dataframe tbody tr th:only-of-type {\n",
       "        vertical-align: middle;\n",
       "    }\n",
       "\n",
       "    .dataframe tbody tr th {\n",
       "        vertical-align: top;\n",
       "    }\n",
       "\n",
       "    .dataframe thead th {\n",
       "        text-align: right;\n",
       "    }\n",
       "</style>\n",
       "<table border=\"1\" class=\"dataframe\">\n",
       "  <thead>\n",
       "    <tr style=\"text-align: right;\">\n",
       "      <th></th>\n",
       "      <th>F2</th>\n",
       "      <th>F9</th>\n",
       "      <th>F10</th>\n",
       "      <th>F11</th>\n",
       "      <th>F12</th>\n",
       "      <th>F18</th>\n",
       "      <th>F19</th>\n",
       "      <th>F20</th>\n",
       "      <th>F22</th>\n",
       "      <th>F23</th>\n",
       "      <th>...</th>\n",
       "      <th>F14_legacy</th>\n",
       "      <th>F14_ops</th>\n",
       "      <th>F14_webapp</th>\n",
       "      <th>F16_F16_1</th>\n",
       "      <th>F16_F16_2</th>\n",
       "      <th>F16_F16_3</th>\n",
       "      <th>F21_F21_1</th>\n",
       "      <th>F21_F21_2</th>\n",
       "      <th>Holiday_False</th>\n",
       "      <th>Holiday_True</th>\n",
       "    </tr>\n",
       "  </thead>\n",
       "  <tbody>\n",
       "    <tr>\n",
       "      <th>F2</th>\n",
       "      <td>1.000000</td>\n",
       "      <td>0.007733</td>\n",
       "      <td>-0.249824</td>\n",
       "      <td>0.066371</td>\n",
       "      <td>0.059765</td>\n",
       "      <td>-0.009227</td>\n",
       "      <td>0.054431</td>\n",
       "      <td>-0.021437</td>\n",
       "      <td>0.074838</td>\n",
       "      <td>0.003668</td>\n",
       "      <td>...</td>\n",
       "      <td>0.121621</td>\n",
       "      <td>-0.011809</td>\n",
       "      <td>-0.004224</td>\n",
       "      <td>0.058914</td>\n",
       "      <td>0.055830</td>\n",
       "      <td>-0.080759</td>\n",
       "      <td>-0.044825</td>\n",
       "      <td>0.044825</td>\n",
       "      <td>0.051735</td>\n",
       "      <td>-0.051735</td>\n",
       "    </tr>\n",
       "    <tr>\n",
       "      <th>F9</th>\n",
       "      <td>0.007733</td>\n",
       "      <td>1.000000</td>\n",
       "      <td>-0.072890</td>\n",
       "      <td>0.232540</td>\n",
       "      <td>-0.236881</td>\n",
       "      <td>0.091909</td>\n",
       "      <td>0.125259</td>\n",
       "      <td>-0.013542</td>\n",
       "      <td>0.151618</td>\n",
       "      <td>0.003729</td>\n",
       "      <td>...</td>\n",
       "      <td>0.233141</td>\n",
       "      <td>-0.012211</td>\n",
       "      <td>-0.004367</td>\n",
       "      <td>0.129568</td>\n",
       "      <td>0.169579</td>\n",
       "      <td>-0.216382</td>\n",
       "      <td>-0.031437</td>\n",
       "      <td>0.031437</td>\n",
       "      <td>0.046362</td>\n",
       "      <td>-0.046362</td>\n",
       "    </tr>\n",
       "    <tr>\n",
       "      <th>F10</th>\n",
       "      <td>-0.249824</td>\n",
       "      <td>-0.072890</td>\n",
       "      <td>1.000000</td>\n",
       "      <td>-0.407786</td>\n",
       "      <td>0.406084</td>\n",
       "      <td>0.001472</td>\n",
       "      <td>-0.373945</td>\n",
       "      <td>0.063067</td>\n",
       "      <td>-0.354309</td>\n",
       "      <td>0.011466</td>\n",
       "      <td>...</td>\n",
       "      <td>-0.529801</td>\n",
       "      <td>-0.036249</td>\n",
       "      <td>-0.072275</td>\n",
       "      <td>-0.260546</td>\n",
       "      <td>-0.316593</td>\n",
       "      <td>0.414892</td>\n",
       "      <td>0.059299</td>\n",
       "      <td>-0.059299</td>\n",
       "      <td>-0.123944</td>\n",
       "      <td>0.123944</td>\n",
       "    </tr>\n",
       "    <tr>\n",
       "      <th>F11</th>\n",
       "      <td>0.066371</td>\n",
       "      <td>0.232540</td>\n",
       "      <td>-0.407786</td>\n",
       "      <td>1.000000</td>\n",
       "      <td>-0.608890</td>\n",
       "      <td>0.201490</td>\n",
       "      <td>0.631316</td>\n",
       "      <td>-0.210056</td>\n",
       "      <td>0.542103</td>\n",
       "      <td>-0.046808</td>\n",
       "      <td>...</td>\n",
       "      <td>0.610448</td>\n",
       "      <td>0.274191</td>\n",
       "      <td>0.098071</td>\n",
       "      <td>0.260213</td>\n",
       "      <td>0.400555</td>\n",
       "      <td>-0.484261</td>\n",
       "      <td>-0.151832</td>\n",
       "      <td>0.151832</td>\n",
       "      <td>0.117671</td>\n",
       "      <td>-0.117671</td>\n",
       "    </tr>\n",
       "    <tr>\n",
       "      <th>F12</th>\n",
       "      <td>0.059765</td>\n",
       "      <td>-0.236881</td>\n",
       "      <td>0.406084</td>\n",
       "      <td>-0.608890</td>\n",
       "      <td>1.000000</td>\n",
       "      <td>-0.175439</td>\n",
       "      <td>-0.427748</td>\n",
       "      <td>0.141661</td>\n",
       "      <td>-0.425007</td>\n",
       "      <td>0.071038</td>\n",
       "      <td>...</td>\n",
       "      <td>-0.518313</td>\n",
       "      <td>-0.080721</td>\n",
       "      <td>-0.060788</td>\n",
       "      <td>-0.290440</td>\n",
       "      <td>-0.314711</td>\n",
       "      <td>0.430841</td>\n",
       "      <td>0.078045</td>\n",
       "      <td>-0.078045</td>\n",
       "      <td>-0.102509</td>\n",
       "      <td>0.102509</td>\n",
       "    </tr>\n",
       "    <tr>\n",
       "      <th>F18</th>\n",
       "      <td>-0.009227</td>\n",
       "      <td>0.091909</td>\n",
       "      <td>0.001472</td>\n",
       "      <td>0.201490</td>\n",
       "      <td>-0.175439</td>\n",
       "      <td>1.000000</td>\n",
       "      <td>0.045387</td>\n",
       "      <td>-0.006289</td>\n",
       "      <td>0.073274</td>\n",
       "      <td>0.007346</td>\n",
       "      <td>...</td>\n",
       "      <td>-0.024635</td>\n",
       "      <td>0.075336</td>\n",
       "      <td>-0.002764</td>\n",
       "      <td>-0.011253</td>\n",
       "      <td>-0.016276</td>\n",
       "      <td>0.020076</td>\n",
       "      <td>0.007748</td>\n",
       "      <td>-0.007748</td>\n",
       "      <td>0.011522</td>\n",
       "      <td>-0.011522</td>\n",
       "    </tr>\n",
       "    <tr>\n",
       "      <th>F19</th>\n",
       "      <td>0.054431</td>\n",
       "      <td>0.125259</td>\n",
       "      <td>-0.373945</td>\n",
       "      <td>0.631316</td>\n",
       "      <td>-0.427748</td>\n",
       "      <td>0.045387</td>\n",
       "      <td>1.000000</td>\n",
       "      <td>-0.378346</td>\n",
       "      <td>0.653037</td>\n",
       "      <td>-0.022119</td>\n",
       "      <td>...</td>\n",
       "      <td>0.509507</td>\n",
       "      <td>0.242803</td>\n",
       "      <td>0.059735</td>\n",
       "      <td>0.159464</td>\n",
       "      <td>0.385189</td>\n",
       "      <td>-0.412526</td>\n",
       "      <td>-0.162069</td>\n",
       "      <td>0.162069</td>\n",
       "      <td>0.101800</td>\n",
       "      <td>-0.101800</td>\n",
       "    </tr>\n",
       "    <tr>\n",
       "      <th>F20</th>\n",
       "      <td>-0.021437</td>\n",
       "      <td>-0.013542</td>\n",
       "      <td>0.063067</td>\n",
       "      <td>-0.210056</td>\n",
       "      <td>0.141661</td>\n",
       "      <td>-0.006289</td>\n",
       "      <td>-0.378346</td>\n",
       "      <td>1.000000</td>\n",
       "      <td>-0.229212</td>\n",
       "      <td>0.003462</td>\n",
       "      <td>...</td>\n",
       "      <td>-0.104911</td>\n",
       "      <td>-0.087307</td>\n",
       "      <td>-0.043082</td>\n",
       "      <td>-0.013732</td>\n",
       "      <td>-0.066879</td>\n",
       "      <td>0.063452</td>\n",
       "      <td>0.166528</td>\n",
       "      <td>-0.166528</td>\n",
       "      <td>-0.012210</td>\n",
       "      <td>0.012210</td>\n",
       "    </tr>\n",
       "    <tr>\n",
       "      <th>F22</th>\n",
       "      <td>0.074838</td>\n",
       "      <td>0.151618</td>\n",
       "      <td>-0.354309</td>\n",
       "      <td>0.542103</td>\n",
       "      <td>-0.425007</td>\n",
       "      <td>0.073274</td>\n",
       "      <td>0.653037</td>\n",
       "      <td>-0.229212</td>\n",
       "      <td>1.000000</td>\n",
       "      <td>0.011045</td>\n",
       "      <td>...</td>\n",
       "      <td>0.501579</td>\n",
       "      <td>0.072834</td>\n",
       "      <td>0.049648</td>\n",
       "      <td>0.191317</td>\n",
       "      <td>0.308404</td>\n",
       "      <td>-0.367564</td>\n",
       "      <td>-0.149391</td>\n",
       "      <td>0.149391</td>\n",
       "      <td>0.084634</td>\n",
       "      <td>-0.084634</td>\n",
       "    </tr>\n",
       "    <tr>\n",
       "      <th>F23</th>\n",
       "      <td>0.003668</td>\n",
       "      <td>0.003729</td>\n",
       "      <td>0.011466</td>\n",
       "      <td>-0.046808</td>\n",
       "      <td>0.071038</td>\n",
       "      <td>0.007346</td>\n",
       "      <td>-0.022119</td>\n",
       "      <td>0.003462</td>\n",
       "      <td>0.011045</td>\n",
       "      <td>1.000000</td>\n",
       "      <td>...</td>\n",
       "      <td>-0.066546</td>\n",
       "      <td>0.048976</td>\n",
       "      <td>0.002764</td>\n",
       "      <td>-0.008039</td>\n",
       "      <td>-0.081208</td>\n",
       "      <td>0.071990</td>\n",
       "      <td>-0.007828</td>\n",
       "      <td>0.007828</td>\n",
       "      <td>0.001148</td>\n",
       "      <td>-0.001148</td>\n",
       "    </tr>\n",
       "    <tr>\n",
       "      <th>F24</th>\n",
       "      <td>0.009410</td>\n",
       "      <td>0.046109</td>\n",
       "      <td>-0.085264</td>\n",
       "      <td>0.121415</td>\n",
       "      <td>-0.124521</td>\n",
       "      <td>-0.027510</td>\n",
       "      <td>0.124387</td>\n",
       "      <td>-0.047320</td>\n",
       "      <td>0.111723</td>\n",
       "      <td>-0.025869</td>\n",
       "      <td>...</td>\n",
       "      <td>0.099115</td>\n",
       "      <td>-0.029821</td>\n",
       "      <td>0.019394</td>\n",
       "      <td>0.030736</td>\n",
       "      <td>0.083694</td>\n",
       "      <td>-0.087343</td>\n",
       "      <td>0.060318</td>\n",
       "      <td>-0.060318</td>\n",
       "      <td>0.007144</td>\n",
       "      <td>-0.007144</td>\n",
       "    </tr>\n",
       "    <tr>\n",
       "      <th>final_price</th>\n",
       "      <td>0.102537</td>\n",
       "      <td>-0.089698</td>\n",
       "      <td>0.154987</td>\n",
       "      <td>-0.177614</td>\n",
       "      <td>0.411569</td>\n",
       "      <td>-0.127803</td>\n",
       "      <td>-0.078499</td>\n",
       "      <td>0.107323</td>\n",
       "      <td>-0.027029</td>\n",
       "      <td>0.084053</td>\n",
       "      <td>...</td>\n",
       "      <td>-0.161067</td>\n",
       "      <td>0.106158</td>\n",
       "      <td>-0.008536</td>\n",
       "      <td>-0.150803</td>\n",
       "      <td>-0.058297</td>\n",
       "      <td>0.135726</td>\n",
       "      <td>-0.046417</td>\n",
       "      <td>0.046417</td>\n",
       "      <td>-0.018342</td>\n",
       "      <td>0.018342</td>\n",
       "    </tr>\n",
       "    <tr>\n",
       "      <th>F5_hour</th>\n",
       "      <td>-0.030302</td>\n",
       "      <td>-0.019531</td>\n",
       "      <td>0.106890</td>\n",
       "      <td>-0.060737</td>\n",
       "      <td>0.109426</td>\n",
       "      <td>-0.006916</td>\n",
       "      <td>-0.047353</td>\n",
       "      <td>-0.002549</td>\n",
       "      <td>-0.003966</td>\n",
       "      <td>-0.033659</td>\n",
       "      <td>...</td>\n",
       "      <td>-0.047016</td>\n",
       "      <td>-0.086084</td>\n",
       "      <td>-0.006851</td>\n",
       "      <td>-0.006403</td>\n",
       "      <td>-0.030417</td>\n",
       "      <td>0.028951</td>\n",
       "      <td>-0.086925</td>\n",
       "      <td>0.086925</td>\n",
       "      <td>0.020403</td>\n",
       "      <td>-0.020403</td>\n",
       "    </tr>\n",
       "    <tr>\n",
       "      <th>F5_month</th>\n",
       "      <td>-0.000274</td>\n",
       "      <td>0.105096</td>\n",
       "      <td>-0.083975</td>\n",
       "      <td>0.132941</td>\n",
       "      <td>-0.133495</td>\n",
       "      <td>0.016960</td>\n",
       "      <td>0.146982</td>\n",
       "      <td>-0.079073</td>\n",
       "      <td>0.055642</td>\n",
       "      <td>-0.075846</td>\n",
       "      <td>...</td>\n",
       "      <td>0.241468</td>\n",
       "      <td>0.039646</td>\n",
       "      <td>-0.012715</td>\n",
       "      <td>0.494734</td>\n",
       "      <td>0.142898</td>\n",
       "      <td>-0.408139</td>\n",
       "      <td>-0.016148</td>\n",
       "      <td>0.016148</td>\n",
       "      <td>0.053278</td>\n",
       "      <td>-0.053278</td>\n",
       "    </tr>\n",
       "    <tr>\n",
       "      <th>F5_weekday</th>\n",
       "      <td>-0.008722</td>\n",
       "      <td>0.008977</td>\n",
       "      <td>0.026505</td>\n",
       "      <td>0.028465</td>\n",
       "      <td>0.009089</td>\n",
       "      <td>0.011679</td>\n",
       "      <td>0.026600</td>\n",
       "      <td>-0.005418</td>\n",
       "      <td>0.010645</td>\n",
       "      <td>-0.002064</td>\n",
       "      <td>...</td>\n",
       "      <td>-0.004078</td>\n",
       "      <td>0.068139</td>\n",
       "      <td>-0.008477</td>\n",
       "      <td>0.029841</td>\n",
       "      <td>-0.001162</td>\n",
       "      <td>-0.016514</td>\n",
       "      <td>-0.025454</td>\n",
       "      <td>0.025454</td>\n",
       "      <td>-0.093197</td>\n",
       "      <td>0.093197</td>\n",
       "    </tr>\n",
       "    <tr>\n",
       "      <th>F5_dayofyear</th>\n",
       "      <td>-0.011082</td>\n",
       "      <td>0.112204</td>\n",
       "      <td>-0.065836</td>\n",
       "      <td>0.140429</td>\n",
       "      <td>-0.150411</td>\n",
       "      <td>0.014219</td>\n",
       "      <td>0.155883</td>\n",
       "      <td>-0.076431</td>\n",
       "      <td>0.057824</td>\n",
       "      <td>-0.072342</td>\n",
       "      <td>...</td>\n",
       "      <td>0.260262</td>\n",
       "      <td>0.028983</td>\n",
       "      <td>-0.010743</td>\n",
       "      <td>0.515951</td>\n",
       "      <td>0.156763</td>\n",
       "      <td>-0.432053</td>\n",
       "      <td>-0.014743</td>\n",
       "      <td>0.014743</td>\n",
       "      <td>0.068242</td>\n",
       "      <td>-0.068242</td>\n",
       "    </tr>\n",
       "    <tr>\n",
       "      <th>F5_weekofyear</th>\n",
       "      <td>-0.010988</td>\n",
       "      <td>0.111139</td>\n",
       "      <td>-0.065864</td>\n",
       "      <td>0.137795</td>\n",
       "      <td>-0.149730</td>\n",
       "      <td>0.013746</td>\n",
       "      <td>0.153615</td>\n",
       "      <td>-0.076053</td>\n",
       "      <td>0.056399</td>\n",
       "      <td>-0.072040</td>\n",
       "      <td>...</td>\n",
       "      <td>0.258318</td>\n",
       "      <td>0.025704</td>\n",
       "      <td>-0.010313</td>\n",
       "      <td>0.512481</td>\n",
       "      <td>0.155472</td>\n",
       "      <td>-0.428951</td>\n",
       "      <td>-0.013285</td>\n",
       "      <td>0.013285</td>\n",
       "      <td>0.072915</td>\n",
       "      <td>-0.072915</td>\n",
       "    </tr>\n",
       "    <tr>\n",
       "      <th>F6_hour</th>\n",
       "      <td>-0.024184</td>\n",
       "      <td>-0.047995</td>\n",
       "      <td>0.139384</td>\n",
       "      <td>-0.175010</td>\n",
       "      <td>0.200064</td>\n",
       "      <td>-0.057644</td>\n",
       "      <td>-0.126312</td>\n",
       "      <td>0.030641</td>\n",
       "      <td>-0.109087</td>\n",
       "      <td>-0.031664</td>\n",
       "      <td>...</td>\n",
       "      <td>-0.136817</td>\n",
       "      <td>-0.051485</td>\n",
       "      <td>-0.028750</td>\n",
       "      <td>-0.051961</td>\n",
       "      <td>-0.112406</td>\n",
       "      <td>0.123561</td>\n",
       "      <td>-0.028923</td>\n",
       "      <td>0.028923</td>\n",
       "      <td>-0.014249</td>\n",
       "      <td>0.014249</td>\n",
       "    </tr>\n",
       "    <tr>\n",
       "      <th>F6_month</th>\n",
       "      <td>0.000158</td>\n",
       "      <td>0.090418</td>\n",
       "      <td>-0.085051</td>\n",
       "      <td>0.139763</td>\n",
       "      <td>-0.148384</td>\n",
       "      <td>0.043310</td>\n",
       "      <td>0.167558</td>\n",
       "      <td>-0.081015</td>\n",
       "      <td>0.059758</td>\n",
       "      <td>-0.078939</td>\n",
       "      <td>...</td>\n",
       "      <td>0.235010</td>\n",
       "      <td>0.037119</td>\n",
       "      <td>-0.012826</td>\n",
       "      <td>0.496752</td>\n",
       "      <td>0.125079</td>\n",
       "      <td>-0.394558</td>\n",
       "      <td>-0.017850</td>\n",
       "      <td>0.017850</td>\n",
       "      <td>0.051769</td>\n",
       "      <td>-0.051769</td>\n",
       "    </tr>\n",
       "    <tr>\n",
       "      <th>F6_weekday</th>\n",
       "      <td>-0.005581</td>\n",
       "      <td>-0.004278</td>\n",
       "      <td>0.052961</td>\n",
       "      <td>0.031406</td>\n",
       "      <td>0.039572</td>\n",
       "      <td>0.024014</td>\n",
       "      <td>0.007023</td>\n",
       "      <td>-0.002880</td>\n",
       "      <td>-0.003167</td>\n",
       "      <td>0.000266</td>\n",
       "      <td>...</td>\n",
       "      <td>-0.024043</td>\n",
       "      <td>0.071432</td>\n",
       "      <td>0.009766</td>\n",
       "      <td>-0.011900</td>\n",
       "      <td>-0.020271</td>\n",
       "      <td>0.023764</td>\n",
       "      <td>0.026890</td>\n",
       "      <td>-0.026890</td>\n",
       "      <td>-0.038128</td>\n",
       "      <td>0.038128</td>\n",
       "    </tr>\n",
       "    <tr>\n",
       "      <th>F6_dayofyear</th>\n",
       "      <td>-0.010211</td>\n",
       "      <td>0.098854</td>\n",
       "      <td>-0.061820</td>\n",
       "      <td>0.148531</td>\n",
       "      <td>-0.170144</td>\n",
       "      <td>0.045779</td>\n",
       "      <td>0.174194</td>\n",
       "      <td>-0.077601</td>\n",
       "      <td>0.062483</td>\n",
       "      <td>-0.078391</td>\n",
       "      <td>...</td>\n",
       "      <td>0.248099</td>\n",
       "      <td>0.026812</td>\n",
       "      <td>-0.010302</td>\n",
       "      <td>0.514855</td>\n",
       "      <td>0.131881</td>\n",
       "      <td>-0.410796</td>\n",
       "      <td>-0.014602</td>\n",
       "      <td>0.014602</td>\n",
       "      <td>0.069145</td>\n",
       "      <td>-0.069145</td>\n",
       "    </tr>\n",
       "    <tr>\n",
       "      <th>F6_weekofyear</th>\n",
       "      <td>-0.009648</td>\n",
       "      <td>0.075387</td>\n",
       "      <td>-0.056276</td>\n",
       "      <td>0.139932</td>\n",
       "      <td>-0.152125</td>\n",
       "      <td>0.045637</td>\n",
       "      <td>0.164406</td>\n",
       "      <td>-0.079036</td>\n",
       "      <td>0.053129</td>\n",
       "      <td>-0.078583</td>\n",
       "      <td>...</td>\n",
       "      <td>0.240685</td>\n",
       "      <td>0.024268</td>\n",
       "      <td>-0.010653</td>\n",
       "      <td>0.518405</td>\n",
       "      <td>0.119000</td>\n",
       "      <td>-0.402203</td>\n",
       "      <td>-0.017639</td>\n",
       "      <td>0.017639</td>\n",
       "      <td>0.068900</td>\n",
       "      <td>-0.068900</td>\n",
       "    </tr>\n",
       "    <tr>\n",
       "      <th>F17_hour</th>\n",
       "      <td>-0.058461</td>\n",
       "      <td>-0.018912</td>\n",
       "      <td>0.137540</td>\n",
       "      <td>-0.070334</td>\n",
       "      <td>0.120681</td>\n",
       "      <td>-0.007695</td>\n",
       "      <td>-0.064552</td>\n",
       "      <td>-0.007475</td>\n",
       "      <td>-0.018792</td>\n",
       "      <td>0.014228</td>\n",
       "      <td>...</td>\n",
       "      <td>-0.063022</td>\n",
       "      <td>-0.047813</td>\n",
       "      <td>-0.008066</td>\n",
       "      <td>0.008980</td>\n",
       "      <td>-0.053805</td>\n",
       "      <td>0.039319</td>\n",
       "      <td>-0.083823</td>\n",
       "      <td>0.083823</td>\n",
       "      <td>0.017140</td>\n",
       "      <td>-0.017140</td>\n",
       "    </tr>\n",
       "    <tr>\n",
       "      <th>F17_month</th>\n",
       "      <td>0.001031</td>\n",
       "      <td>0.113243</td>\n",
       "      <td>-0.090054</td>\n",
       "      <td>0.139775</td>\n",
       "      <td>-0.134857</td>\n",
       "      <td>0.016264</td>\n",
       "      <td>0.157580</td>\n",
       "      <td>-0.077725</td>\n",
       "      <td>0.063419</td>\n",
       "      <td>-0.075844</td>\n",
       "      <td>...</td>\n",
       "      <td>0.257109</td>\n",
       "      <td>0.038561</td>\n",
       "      <td>-0.012812</td>\n",
       "      <td>0.495313</td>\n",
       "      <td>0.155792</td>\n",
       "      <td>-0.419160</td>\n",
       "      <td>-0.022152</td>\n",
       "      <td>0.022152</td>\n",
       "      <td>0.054907</td>\n",
       "      <td>-0.054907</td>\n",
       "    </tr>\n",
       "    <tr>\n",
       "      <th>F17_weekday</th>\n",
       "      <td>-0.014666</td>\n",
       "      <td>0.008647</td>\n",
       "      <td>0.027073</td>\n",
       "      <td>0.019759</td>\n",
       "      <td>0.017651</td>\n",
       "      <td>0.012311</td>\n",
       "      <td>0.022631</td>\n",
       "      <td>-0.024713</td>\n",
       "      <td>0.002908</td>\n",
       "      <td>-0.022190</td>\n",
       "      <td>...</td>\n",
       "      <td>0.003159</td>\n",
       "      <td>0.070478</td>\n",
       "      <td>-0.008155</td>\n",
       "      <td>0.048271</td>\n",
       "      <td>-0.005892</td>\n",
       "      <td>-0.023389</td>\n",
       "      <td>-0.021858</td>\n",
       "      <td>0.021858</td>\n",
       "      <td>-0.088199</td>\n",
       "      <td>0.088199</td>\n",
       "    </tr>\n",
       "    <tr>\n",
       "      <th>F17_dayofyear</th>\n",
       "      <td>-0.010696</td>\n",
       "      <td>0.124172</td>\n",
       "      <td>-0.069412</td>\n",
       "      <td>0.151780</td>\n",
       "      <td>-0.155228</td>\n",
       "      <td>0.013555</td>\n",
       "      <td>0.166878</td>\n",
       "      <td>-0.080576</td>\n",
       "      <td>0.063399</td>\n",
       "      <td>-0.071424</td>\n",
       "      <td>...</td>\n",
       "      <td>0.272518</td>\n",
       "      <td>0.040430</td>\n",
       "      <td>-0.010903</td>\n",
       "      <td>0.521260</td>\n",
       "      <td>0.164296</td>\n",
       "      <td>-0.441403</td>\n",
       "      <td>-0.017368</td>\n",
       "      <td>0.017368</td>\n",
       "      <td>0.070368</td>\n",
       "      <td>-0.070368</td>\n",
       "    </tr>\n",
       "    <tr>\n",
       "      <th>F17_weekofyear</th>\n",
       "      <td>-0.010302</td>\n",
       "      <td>0.123193</td>\n",
       "      <td>-0.069496</td>\n",
       "      <td>0.149672</td>\n",
       "      <td>-0.155033</td>\n",
       "      <td>0.013053</td>\n",
       "      <td>0.164894</td>\n",
       "      <td>-0.079252</td>\n",
       "      <td>0.062407</td>\n",
       "      <td>-0.070115</td>\n",
       "      <td>...</td>\n",
       "      <td>0.270316</td>\n",
       "      <td>0.037097</td>\n",
       "      <td>-0.010494</td>\n",
       "      <td>0.516996</td>\n",
       "      <td>0.163310</td>\n",
       "      <td>-0.438089</td>\n",
       "      <td>-0.016113</td>\n",
       "      <td>0.016113</td>\n",
       "      <td>0.074781</td>\n",
       "      <td>-0.074781</td>\n",
       "    </tr>\n",
       "    <tr>\n",
       "      <th>F6_F5</th>\n",
       "      <td>-0.002166</td>\n",
       "      <td>0.022218</td>\n",
       "      <td>-0.002968</td>\n",
       "      <td>0.044540</td>\n",
       "      <td>-0.051700</td>\n",
       "      <td>0.056149</td>\n",
       "      <td>0.052635</td>\n",
       "      <td>-0.006125</td>\n",
       "      <td>0.004409</td>\n",
       "      <td>-0.007141</td>\n",
       "      <td>...</td>\n",
       "      <td>0.018543</td>\n",
       "      <td>-0.004950</td>\n",
       "      <td>-0.000956</td>\n",
       "      <td>0.019210</td>\n",
       "      <td>0.009456</td>\n",
       "      <td>-0.019085</td>\n",
       "      <td>0.008005</td>\n",
       "      <td>-0.008005</td>\n",
       "      <td>0.016538</td>\n",
       "      <td>-0.016538</td>\n",
       "    </tr>\n",
       "    <tr>\n",
       "      <th>F6_F17</th>\n",
       "      <td>-0.002400</td>\n",
       "      <td>-0.001104</td>\n",
       "      <td>0.004185</td>\n",
       "      <td>0.021885</td>\n",
       "      <td>-0.040627</td>\n",
       "      <td>0.056882</td>\n",
       "      <td>0.030424</td>\n",
       "      <td>0.002559</td>\n",
       "      <td>-0.006383</td>\n",
       "      <td>-0.008164</td>\n",
       "      <td>...</td>\n",
       "      <td>-0.007357</td>\n",
       "      <td>-0.026344</td>\n",
       "      <td>-0.000503</td>\n",
       "      <td>0.001637</td>\n",
       "      <td>-0.006272</td>\n",
       "      <td>0.004238</td>\n",
       "      <td>0.012888</td>\n",
       "      <td>-0.012888</td>\n",
       "      <td>0.011630</td>\n",
       "      <td>-0.011630</td>\n",
       "    </tr>\n",
       "    <tr>\n",
       "      <th>F17_F5</th>\n",
       "      <td>0.002370</td>\n",
       "      <td>0.226110</td>\n",
       "      <td>-0.069515</td>\n",
       "      <td>0.218644</td>\n",
       "      <td>-0.105575</td>\n",
       "      <td>-0.009576</td>\n",
       "      <td>0.213974</td>\n",
       "      <td>-0.084287</td>\n",
       "      <td>0.104887</td>\n",
       "      <td>0.010270</td>\n",
       "      <td>...</td>\n",
       "      <td>0.251376</td>\n",
       "      <td>0.208525</td>\n",
       "      <td>-0.004368</td>\n",
       "      <td>0.170264</td>\n",
       "      <td>0.152728</td>\n",
       "      <td>-0.226254</td>\n",
       "      <td>-0.047895</td>\n",
       "      <td>0.047895</td>\n",
       "      <td>0.047077</td>\n",
       "      <td>-0.047077</td>\n",
       "    </tr>\n",
       "    <tr>\n",
       "      <th>source_pca0</th>\n",
       "      <td>0.054436</td>\n",
       "      <td>0.125034</td>\n",
       "      <td>-0.373424</td>\n",
       "      <td>0.631116</td>\n",
       "      <td>-0.427608</td>\n",
       "      <td>0.045314</td>\n",
       "      <td>0.999982</td>\n",
       "      <td>-0.383960</td>\n",
       "      <td>0.652907</td>\n",
       "      <td>-0.022087</td>\n",
       "      <td>...</td>\n",
       "      <td>0.508922</td>\n",
       "      <td>0.242769</td>\n",
       "      <td>0.059869</td>\n",
       "      <td>0.159155</td>\n",
       "      <td>0.384665</td>\n",
       "      <td>-0.411911</td>\n",
       "      <td>-0.162756</td>\n",
       "      <td>0.162756</td>\n",
       "      <td>0.101625</td>\n",
       "      <td>-0.101625</td>\n",
       "    </tr>\n",
       "    <tr>\n",
       "      <th>source_pca1</th>\n",
       "      <td>0.009218</td>\n",
       "      <td>-0.016997</td>\n",
       "      <td>0.026574</td>\n",
       "      <td>0.065722</td>\n",
       "      <td>-0.043823</td>\n",
       "      <td>-0.004684</td>\n",
       "      <td>0.152808</td>\n",
       "      <td>-0.972607</td>\n",
       "      <td>0.080719</td>\n",
       "      <td>0.001859</td>\n",
       "      <td>...</td>\n",
       "      <td>-0.015943</td>\n",
       "      <td>0.032238</td>\n",
       "      <td>0.030994</td>\n",
       "      <td>-0.025385</td>\n",
       "      <td>-0.025328</td>\n",
       "      <td>0.035852</td>\n",
       "      <td>-0.137089</td>\n",
       "      <td>0.137089</td>\n",
       "      <td>-0.012528</td>\n",
       "      <td>0.012528</td>\n",
       "    </tr>\n",
       "    <tr>\n",
       "      <th>destination_pca0</th>\n",
       "      <td>0.074720</td>\n",
       "      <td>0.151489</td>\n",
       "      <td>-0.354610</td>\n",
       "      <td>0.543434</td>\n",
       "      <td>-0.427073</td>\n",
       "      <td>0.073047</td>\n",
       "      <td>0.653620</td>\n",
       "      <td>-0.229289</td>\n",
       "      <td>0.999557</td>\n",
       "      <td>-0.018726</td>\n",
       "      <td>...</td>\n",
       "      <td>0.503503</td>\n",
       "      <td>0.071368</td>\n",
       "      <td>0.049560</td>\n",
       "      <td>0.191534</td>\n",
       "      <td>0.310786</td>\n",
       "      <td>-0.369665</td>\n",
       "      <td>-0.149141</td>\n",
       "      <td>0.149141</td>\n",
       "      <td>0.084590</td>\n",
       "      <td>-0.084590</td>\n",
       "    </tr>\n",
       "    <tr>\n",
       "      <th>destination_pca1</th>\n",
       "      <td>-0.007542</td>\n",
       "      <td>-0.011583</td>\n",
       "      <td>0.006926</td>\n",
       "      <td>0.018612</td>\n",
       "      <td>-0.048866</td>\n",
       "      <td>-0.011130</td>\n",
       "      <td>-0.011782</td>\n",
       "      <td>0.008429</td>\n",
       "      <td>-0.062872</td>\n",
       "      <td>-0.998655</td>\n",
       "      <td>...</td>\n",
       "      <td>0.040413</td>\n",
       "      <td>-0.052659</td>\n",
       "      <td>-0.005333</td>\n",
       "      <td>-0.001896</td>\n",
       "      <td>0.065063</td>\n",
       "      <td>-0.052795</td>\n",
       "      <td>0.015558</td>\n",
       "      <td>-0.015558</td>\n",
       "      <td>-0.005534</td>\n",
       "      <td>0.005534</td>\n",
       "    </tr>\n",
       "    <tr>\n",
       "      <th>haversined</th>\n",
       "      <td>0.093684</td>\n",
       "      <td>0.075317</td>\n",
       "      <td>-0.221174</td>\n",
       "      <td>0.370984</td>\n",
       "      <td>-0.220240</td>\n",
       "      <td>0.020802</td>\n",
       "      <td>0.324089</td>\n",
       "      <td>-0.102826</td>\n",
       "      <td>0.324113</td>\n",
       "      <td>-0.634015</td>\n",
       "      <td>...</td>\n",
       "      <td>0.352624</td>\n",
       "      <td>0.173436</td>\n",
       "      <td>0.022373</td>\n",
       "      <td>0.145912</td>\n",
       "      <td>0.274661</td>\n",
       "      <td>-0.313015</td>\n",
       "      <td>-0.092180</td>\n",
       "      <td>0.092180</td>\n",
       "      <td>0.045381</td>\n",
       "      <td>-0.045381</td>\n",
       "    </tr>\n",
       "    <tr>\n",
       "      <th>manhattand</th>\n",
       "      <td>0.100121</td>\n",
       "      <td>0.076664</td>\n",
       "      <td>-0.234952</td>\n",
       "      <td>0.391332</td>\n",
       "      <td>-0.227030</td>\n",
       "      <td>0.020535</td>\n",
       "      <td>0.341380</td>\n",
       "      <td>-0.099519</td>\n",
       "      <td>0.334232</td>\n",
       "      <td>-0.611606</td>\n",
       "      <td>...</td>\n",
       "      <td>0.367944</td>\n",
       "      <td>0.189887</td>\n",
       "      <td>0.028253</td>\n",
       "      <td>0.150865</td>\n",
       "      <td>0.287228</td>\n",
       "      <td>-0.326327</td>\n",
       "      <td>-0.104840</td>\n",
       "      <td>0.104840</td>\n",
       "      <td>0.047848</td>\n",
       "      <td>-0.047848</td>\n",
       "    </tr>\n",
       "    <tr>\n",
       "      <th>bearingd</th>\n",
       "      <td>0.004518</td>\n",
       "      <td>0.027246</td>\n",
       "      <td>-0.030942</td>\n",
       "      <td>0.127460</td>\n",
       "      <td>-0.063050</td>\n",
       "      <td>0.056584</td>\n",
       "      <td>0.181663</td>\n",
       "      <td>-0.290203</td>\n",
       "      <td>0.096766</td>\n",
       "      <td>0.150858</td>\n",
       "      <td>...</td>\n",
       "      <td>0.077564</td>\n",
       "      <td>0.129180</td>\n",
       "      <td>0.032499</td>\n",
       "      <td>0.012926</td>\n",
       "      <td>0.055232</td>\n",
       "      <td>-0.053331</td>\n",
       "      <td>-0.168981</td>\n",
       "      <td>0.168981</td>\n",
       "      <td>0.069275</td>\n",
       "      <td>-0.069275</td>\n",
       "    </tr>\n",
       "    <tr>\n",
       "      <th>center_latitude</th>\n",
       "      <td>0.071100</td>\n",
       "      <td>0.152282</td>\n",
       "      <td>-0.400517</td>\n",
       "      <td>0.645330</td>\n",
       "      <td>-0.468994</td>\n",
       "      <td>0.065267</td>\n",
       "      <td>0.909044</td>\n",
       "      <td>-0.334105</td>\n",
       "      <td>0.909217</td>\n",
       "      <td>-0.006082</td>\n",
       "      <td>...</td>\n",
       "      <td>0.556071</td>\n",
       "      <td>0.173551</td>\n",
       "      <td>0.060156</td>\n",
       "      <td>0.192929</td>\n",
       "      <td>0.381441</td>\n",
       "      <td>-0.429019</td>\n",
       "      <td>-0.171292</td>\n",
       "      <td>0.171292</td>\n",
       "      <td>0.102530</td>\n",
       "      <td>-0.102530</td>\n",
       "    </tr>\n",
       "    <tr>\n",
       "      <th>center_longitude</th>\n",
       "      <td>-0.001036</td>\n",
       "      <td>0.000723</td>\n",
       "      <td>0.024768</td>\n",
       "      <td>-0.090902</td>\n",
       "      <td>0.099820</td>\n",
       "      <td>0.005814</td>\n",
       "      <td>-0.103045</td>\n",
       "      <td>0.218686</td>\n",
       "      <td>-0.038573</td>\n",
       "      <td>0.976547</td>\n",
       "      <td>...</td>\n",
       "      <td>-0.087524</td>\n",
       "      <td>0.028993</td>\n",
       "      <td>-0.006579</td>\n",
       "      <td>-0.010801</td>\n",
       "      <td>-0.093643</td>\n",
       "      <td>0.083910</td>\n",
       "      <td>0.028217</td>\n",
       "      <td>-0.028217</td>\n",
       "      <td>-0.001509</td>\n",
       "      <td>0.001509</td>\n",
       "    </tr>\n",
       "    <tr>\n",
       "      <th>source_cluster</th>\n",
       "      <td>0.033790</td>\n",
       "      <td>0.083595</td>\n",
       "      <td>-0.171691</td>\n",
       "      <td>0.347159</td>\n",
       "      <td>-0.206930</td>\n",
       "      <td>0.009861</td>\n",
       "      <td>0.340529</td>\n",
       "      <td>-0.273568</td>\n",
       "      <td>0.309831</td>\n",
       "      <td>0.009913</td>\n",
       "      <td>...</td>\n",
       "      <td>0.302206</td>\n",
       "      <td>0.100745</td>\n",
       "      <td>0.013420</td>\n",
       "      <td>0.104584</td>\n",
       "      <td>0.197795</td>\n",
       "      <td>-0.225126</td>\n",
       "      <td>-0.358420</td>\n",
       "      <td>0.358420</td>\n",
       "      <td>0.012112</td>\n",
       "      <td>-0.012112</td>\n",
       "    </tr>\n",
       "    <tr>\n",
       "      <th>destination_cluster</th>\n",
       "      <td>0.039057</td>\n",
       "      <td>0.075115</td>\n",
       "      <td>-0.230045</td>\n",
       "      <td>0.297531</td>\n",
       "      <td>-0.165607</td>\n",
       "      <td>0.016665</td>\n",
       "      <td>0.258648</td>\n",
       "      <td>-0.087439</td>\n",
       "      <td>0.199160</td>\n",
       "      <td>-0.100739</td>\n",
       "      <td>...</td>\n",
       "      <td>0.237107</td>\n",
       "      <td>0.121898</td>\n",
       "      <td>0.037497</td>\n",
       "      <td>0.102019</td>\n",
       "      <td>0.165198</td>\n",
       "      <td>-0.196617</td>\n",
       "      <td>-0.012111</td>\n",
       "      <td>0.012111</td>\n",
       "      <td>0.013303</td>\n",
       "      <td>-0.013303</td>\n",
       "    </tr>\n",
       "    <tr>\n",
       "      <th>F1_F1_1</th>\n",
       "      <td>0.048591</td>\n",
       "      <td>0.097573</td>\n",
       "      <td>-0.336472</td>\n",
       "      <td>0.359142</td>\n",
       "      <td>-0.239962</td>\n",
       "      <td>0.076790</td>\n",
       "      <td>0.257244</td>\n",
       "      <td>-0.091204</td>\n",
       "      <td>0.259258</td>\n",
       "      <td>-0.019423</td>\n",
       "      <td>...</td>\n",
       "      <td>0.287260</td>\n",
       "      <td>0.108785</td>\n",
       "      <td>0.038909</td>\n",
       "      <td>0.136018</td>\n",
       "      <td>0.181653</td>\n",
       "      <td>-0.230162</td>\n",
       "      <td>-0.092029</td>\n",
       "      <td>0.092029</td>\n",
       "      <td>0.141935</td>\n",
       "      <td>-0.141935</td>\n",
       "    </tr>\n",
       "    <tr>\n",
       "      <th>F1_F1_2</th>\n",
       "      <td>-0.048591</td>\n",
       "      <td>-0.097573</td>\n",
       "      <td>0.336472</td>\n",
       "      <td>-0.359142</td>\n",
       "      <td>0.239962</td>\n",
       "      <td>-0.076790</td>\n",
       "      <td>-0.257244</td>\n",
       "      <td>0.091204</td>\n",
       "      <td>-0.259258</td>\n",
       "      <td>0.019423</td>\n",
       "      <td>...</td>\n",
       "      <td>-0.287260</td>\n",
       "      <td>-0.108785</td>\n",
       "      <td>-0.038909</td>\n",
       "      <td>-0.136018</td>\n",
       "      <td>-0.181653</td>\n",
       "      <td>0.230162</td>\n",
       "      <td>0.092029</td>\n",
       "      <td>-0.092029</td>\n",
       "      <td>-0.141935</td>\n",
       "      <td>0.141935</td>\n",
       "    </tr>\n",
       "    <tr>\n",
       "      <th>F13_converted_hybrid</th>\n",
       "      <td>-0.004723</td>\n",
       "      <td>0.060891</td>\n",
       "      <td>0.014071</td>\n",
       "      <td>0.084845</td>\n",
       "      <td>-0.079203</td>\n",
       "      <td>0.511852</td>\n",
       "      <td>-0.005043</td>\n",
       "      <td>0.053672</td>\n",
       "      <td>0.015437</td>\n",
       "      <td>-0.002279</td>\n",
       "      <td>...</td>\n",
       "      <td>-0.012609</td>\n",
       "      <td>0.076826</td>\n",
       "      <td>-0.001415</td>\n",
       "      <td>-0.005760</td>\n",
       "      <td>-0.008331</td>\n",
       "      <td>0.010276</td>\n",
       "      <td>-0.017689</td>\n",
       "      <td>0.017689</td>\n",
       "      <td>0.017332</td>\n",
       "      <td>-0.017332</td>\n",
       "    </tr>\n",
       "    <tr>\n",
       "      <th>F13_corporate</th>\n",
       "      <td>-0.007625</td>\n",
       "      <td>0.196332</td>\n",
       "      <td>-0.040133</td>\n",
       "      <td>0.069173</td>\n",
       "      <td>0.000267</td>\n",
       "      <td>-0.004991</td>\n",
       "      <td>0.125053</td>\n",
       "      <td>-0.030391</td>\n",
       "      <td>0.045639</td>\n",
       "      <td>0.016278</td>\n",
       "      <td>...</td>\n",
       "      <td>0.202593</td>\n",
       "      <td>-0.006387</td>\n",
       "      <td>-0.002285</td>\n",
       "      <td>-0.009299</td>\n",
       "      <td>0.282010</td>\n",
       "      <td>-0.228203</td>\n",
       "      <td>-0.017609</td>\n",
       "      <td>0.017609</td>\n",
       "      <td>0.027982</td>\n",
       "      <td>-0.027982</td>\n",
       "    </tr>\n",
       "    <tr>\n",
       "      <th>F13_marketplace</th>\n",
       "      <td>0.011809</td>\n",
       "      <td>-0.199990</td>\n",
       "      <td>0.015840</td>\n",
       "      <td>-0.194123</td>\n",
       "      <td>0.129417</td>\n",
       "      <td>-0.739854</td>\n",
       "      <td>-0.117768</td>\n",
       "      <td>0.024707</td>\n",
       "      <td>-0.087928</td>\n",
       "      <td>-0.015361</td>\n",
       "      <td>...</td>\n",
       "      <td>-0.113264</td>\n",
       "      <td>-0.022686</td>\n",
       "      <td>0.003538</td>\n",
       "      <td>0.014401</td>\n",
       "      <td>-0.171052</td>\n",
       "      <td>0.133284</td>\n",
       "      <td>0.006302</td>\n",
       "      <td>-0.006302</td>\n",
       "      <td>-0.034574</td>\n",
       "      <td>0.034574</td>\n",
       "    </tr>\n",
       "    <tr>\n",
       "      <th>F13_original_hybrid</th>\n",
       "      <td>-0.007625</td>\n",
       "      <td>0.073802</td>\n",
       "      <td>0.007005</td>\n",
       "      <td>0.177052</td>\n",
       "      <td>-0.150363</td>\n",
       "      <td>0.826383</td>\n",
       "      <td>0.059417</td>\n",
       "      <td>-0.040981</td>\n",
       "      <td>0.080166</td>\n",
       "      <td>0.008790</td>\n",
       "      <td>...</td>\n",
       "      <td>-0.020358</td>\n",
       "      <td>-0.006387</td>\n",
       "      <td>-0.002285</td>\n",
       "      <td>-0.009299</td>\n",
       "      <td>-0.013451</td>\n",
       "      <td>0.016590</td>\n",
       "      <td>0.018889</td>\n",
       "      <td>-0.018889</td>\n",
       "      <td>0.014492</td>\n",
       "      <td>-0.014492</td>\n",
       "    </tr>\n",
       "    <tr>\n",
       "      <th>F14_android</th>\n",
       "      <td>-0.032397</td>\n",
       "      <td>-0.059494</td>\n",
       "      <td>0.262031</td>\n",
       "      <td>-0.215953</td>\n",
       "      <td>0.050628</td>\n",
       "      <td>0.011283</td>\n",
       "      <td>-0.189746</td>\n",
       "      <td>0.074830</td>\n",
       "      <td>-0.201653</td>\n",
       "      <td>0.016860</td>\n",
       "      <td>...</td>\n",
       "      <td>-0.289075</td>\n",
       "      <td>-0.090696</td>\n",
       "      <td>-0.032440</td>\n",
       "      <td>-0.132048</td>\n",
       "      <td>-0.190993</td>\n",
       "      <td>0.235576</td>\n",
       "      <td>0.141628</td>\n",
       "      <td>-0.141628</td>\n",
       "      <td>-0.041098</td>\n",
       "      <td>0.041098</td>\n",
       "    </tr>\n",
       "    <tr>\n",
       "      <th>F14_ios</th>\n",
       "      <td>-0.035407</td>\n",
       "      <td>-0.072820</td>\n",
       "      <td>0.056938</td>\n",
       "      <td>-0.198886</td>\n",
       "      <td>0.270131</td>\n",
       "      <td>-0.011760</td>\n",
       "      <td>-0.157660</td>\n",
       "      <td>0.006224</td>\n",
       "      <td>-0.106717</td>\n",
       "      <td>0.011781</td>\n",
       "      <td>...</td>\n",
       "      <td>-0.283047</td>\n",
       "      <td>-0.088805</td>\n",
       "      <td>-0.031763</td>\n",
       "      <td>-0.129294</td>\n",
       "      <td>-0.187010</td>\n",
       "      <td>0.230663</td>\n",
       "      <td>-0.063930</td>\n",
       "      <td>0.063930</td>\n",
       "      <td>-0.029491</td>\n",
       "      <td>0.029491</td>\n",
       "    </tr>\n",
       "    <tr>\n",
       "      <th>F14_legacy</th>\n",
       "      <td>0.121621</td>\n",
       "      <td>0.233141</td>\n",
       "      <td>-0.529801</td>\n",
       "      <td>0.610448</td>\n",
       "      <td>-0.518313</td>\n",
       "      <td>-0.024635</td>\n",
       "      <td>0.509507</td>\n",
       "      <td>-0.104911</td>\n",
       "      <td>0.501579</td>\n",
       "      <td>-0.066546</td>\n",
       "      <td>...</td>\n",
       "      <td>1.000000</td>\n",
       "      <td>-0.031527</td>\n",
       "      <td>-0.011276</td>\n",
       "      <td>0.456795</td>\n",
       "      <td>0.660704</td>\n",
       "      <td>-0.814928</td>\n",
       "      <td>-0.121515</td>\n",
       "      <td>0.121515</td>\n",
       "      <td>0.111163</td>\n",
       "      <td>-0.111163</td>\n",
       "    </tr>\n",
       "    <tr>\n",
       "      <th>F14_ops</th>\n",
       "      <td>-0.011809</td>\n",
       "      <td>-0.012211</td>\n",
       "      <td>-0.036249</td>\n",
       "      <td>0.274191</td>\n",
       "      <td>-0.080721</td>\n",
       "      <td>0.075336</td>\n",
       "      <td>0.242803</td>\n",
       "      <td>-0.087307</td>\n",
       "      <td>0.072834</td>\n",
       "      <td>0.048976</td>\n",
       "      <td>...</td>\n",
       "      <td>-0.031527</td>\n",
       "      <td>1.000000</td>\n",
       "      <td>-0.003538</td>\n",
       "      <td>-0.014401</td>\n",
       "      <td>-0.020830</td>\n",
       "      <td>0.025692</td>\n",
       "      <td>-0.030005</td>\n",
       "      <td>0.030005</td>\n",
       "      <td>0.034574</td>\n",
       "      <td>-0.034574</td>\n",
       "    </tr>\n",
       "    <tr>\n",
       "      <th>F14_webapp</th>\n",
       "      <td>-0.004224</td>\n",
       "      <td>-0.004367</td>\n",
       "      <td>-0.072275</td>\n",
       "      <td>0.098071</td>\n",
       "      <td>-0.060788</td>\n",
       "      <td>-0.002764</td>\n",
       "      <td>0.059735</td>\n",
       "      <td>-0.043082</td>\n",
       "      <td>0.049648</td>\n",
       "      <td>0.002764</td>\n",
       "      <td>...</td>\n",
       "      <td>-0.011276</td>\n",
       "      <td>-0.003538</td>\n",
       "      <td>1.000000</td>\n",
       "      <td>-0.005151</td>\n",
       "      <td>-0.007450</td>\n",
       "      <td>0.009189</td>\n",
       "      <td>-0.022389</td>\n",
       "      <td>0.022389</td>\n",
       "      <td>-0.008786</td>\n",
       "      <td>0.008786</td>\n",
       "    </tr>\n",
       "    <tr>\n",
       "      <th>F16_F16_1</th>\n",
       "      <td>0.058914</td>\n",
       "      <td>0.129568</td>\n",
       "      <td>-0.260546</td>\n",
       "      <td>0.260213</td>\n",
       "      <td>-0.290440</td>\n",
       "      <td>-0.011253</td>\n",
       "      <td>0.159464</td>\n",
       "      <td>-0.013732</td>\n",
       "      <td>0.191317</td>\n",
       "      <td>-0.008039</td>\n",
       "      <td>...</td>\n",
       "      <td>0.456795</td>\n",
       "      <td>-0.014401</td>\n",
       "      <td>-0.005151</td>\n",
       "      <td>1.000000</td>\n",
       "      <td>-0.030328</td>\n",
       "      <td>-0.560534</td>\n",
       "      <td>-0.023245</td>\n",
       "      <td>0.023245</td>\n",
       "      <td>0.050926</td>\n",
       "      <td>-0.050926</td>\n",
       "    </tr>\n",
       "    <tr>\n",
       "      <th>F16_F16_2</th>\n",
       "      <td>0.055830</td>\n",
       "      <td>0.169579</td>\n",
       "      <td>-0.316593</td>\n",
       "      <td>0.400555</td>\n",
       "      <td>-0.314711</td>\n",
       "      <td>-0.016276</td>\n",
       "      <td>0.385189</td>\n",
       "      <td>-0.066879</td>\n",
       "      <td>0.308404</td>\n",
       "      <td>-0.081208</td>\n",
       "      <td>...</td>\n",
       "      <td>0.660704</td>\n",
       "      <td>-0.020830</td>\n",
       "      <td>-0.007450</td>\n",
       "      <td>-0.030328</td>\n",
       "      <td>1.000000</td>\n",
       "      <td>-0.810751</td>\n",
       "      <td>-0.095462</td>\n",
       "      <td>0.095462</td>\n",
       "      <td>0.074056</td>\n",
       "      <td>-0.074056</td>\n",
       "    </tr>\n",
       "    <tr>\n",
       "      <th>F16_F16_3</th>\n",
       "      <td>-0.080759</td>\n",
       "      <td>-0.216382</td>\n",
       "      <td>0.414892</td>\n",
       "      <td>-0.484261</td>\n",
       "      <td>0.430841</td>\n",
       "      <td>0.020076</td>\n",
       "      <td>-0.412526</td>\n",
       "      <td>0.063452</td>\n",
       "      <td>-0.367564</td>\n",
       "      <td>0.071990</td>\n",
       "      <td>...</td>\n",
       "      <td>-0.814928</td>\n",
       "      <td>0.025692</td>\n",
       "      <td>0.009189</td>\n",
       "      <td>-0.560534</td>\n",
       "      <td>-0.810751</td>\n",
       "      <td>1.000000</td>\n",
       "      <td>0.092706</td>\n",
       "      <td>-0.092706</td>\n",
       "      <td>-0.091182</td>\n",
       "      <td>0.091182</td>\n",
       "    </tr>\n",
       "    <tr>\n",
       "      <th>F21_F21_1</th>\n",
       "      <td>-0.044825</td>\n",
       "      <td>-0.031437</td>\n",
       "      <td>0.059299</td>\n",
       "      <td>-0.151832</td>\n",
       "      <td>0.078045</td>\n",
       "      <td>0.007748</td>\n",
       "      <td>-0.162069</td>\n",
       "      <td>0.166528</td>\n",
       "      <td>-0.149391</td>\n",
       "      <td>-0.007828</td>\n",
       "      <td>...</td>\n",
       "      <td>-0.121515</td>\n",
       "      <td>-0.030005</td>\n",
       "      <td>-0.022389</td>\n",
       "      <td>-0.023245</td>\n",
       "      <td>-0.095462</td>\n",
       "      <td>0.092706</td>\n",
       "      <td>1.000000</td>\n",
       "      <td>-1.000000</td>\n",
       "      <td>-0.035724</td>\n",
       "      <td>0.035724</td>\n",
       "    </tr>\n",
       "    <tr>\n",
       "      <th>F21_F21_2</th>\n",
       "      <td>0.044825</td>\n",
       "      <td>0.031437</td>\n",
       "      <td>-0.059299</td>\n",
       "      <td>0.151832</td>\n",
       "      <td>-0.078045</td>\n",
       "      <td>-0.007748</td>\n",
       "      <td>0.162069</td>\n",
       "      <td>-0.166528</td>\n",
       "      <td>0.149391</td>\n",
       "      <td>0.007828</td>\n",
       "      <td>...</td>\n",
       "      <td>0.121515</td>\n",
       "      <td>0.030005</td>\n",
       "      <td>0.022389</td>\n",
       "      <td>0.023245</td>\n",
       "      <td>0.095462</td>\n",
       "      <td>-0.092706</td>\n",
       "      <td>-1.000000</td>\n",
       "      <td>1.000000</td>\n",
       "      <td>0.035724</td>\n",
       "      <td>-0.035724</td>\n",
       "    </tr>\n",
       "    <tr>\n",
       "      <th>Holiday_False</th>\n",
       "      <td>0.051735</td>\n",
       "      <td>0.046362</td>\n",
       "      <td>-0.123944</td>\n",
       "      <td>0.117671</td>\n",
       "      <td>-0.102509</td>\n",
       "      <td>0.011522</td>\n",
       "      <td>0.101800</td>\n",
       "      <td>-0.012210</td>\n",
       "      <td>0.084634</td>\n",
       "      <td>0.001148</td>\n",
       "      <td>...</td>\n",
       "      <td>0.111163</td>\n",
       "      <td>0.034574</td>\n",
       "      <td>-0.008786</td>\n",
       "      <td>0.050926</td>\n",
       "      <td>0.074056</td>\n",
       "      <td>-0.091182</td>\n",
       "      <td>-0.035724</td>\n",
       "      <td>0.035724</td>\n",
       "      <td>1.000000</td>\n",
       "      <td>-1.000000</td>\n",
       "    </tr>\n",
       "    <tr>\n",
       "      <th>Holiday_True</th>\n",
       "      <td>-0.051735</td>\n",
       "      <td>-0.046362</td>\n",
       "      <td>0.123944</td>\n",
       "      <td>-0.117671</td>\n",
       "      <td>0.102509</td>\n",
       "      <td>-0.011522</td>\n",
       "      <td>-0.101800</td>\n",
       "      <td>0.012210</td>\n",
       "      <td>-0.084634</td>\n",
       "      <td>-0.001148</td>\n",
       "      <td>...</td>\n",
       "      <td>-0.111163</td>\n",
       "      <td>-0.034574</td>\n",
       "      <td>0.008786</td>\n",
       "      <td>-0.050926</td>\n",
       "      <td>-0.074056</td>\n",
       "      <td>0.091182</td>\n",
       "      <td>0.035724</td>\n",
       "      <td>-0.035724</td>\n",
       "      <td>-1.000000</td>\n",
       "      <td>1.000000</td>\n",
       "    </tr>\n",
       "  </tbody>\n",
       "</table>\n",
       "<p>59 rows × 59 columns</p>\n",
       "</div>"
      ],
      "text/plain": [
       "                            F2        F9       F10       F11       F12  \\\n",
       "F2                    1.000000  0.007733 -0.249824  0.066371  0.059765   \n",
       "F9                    0.007733  1.000000 -0.072890  0.232540 -0.236881   \n",
       "F10                  -0.249824 -0.072890  1.000000 -0.407786  0.406084   \n",
       "F11                   0.066371  0.232540 -0.407786  1.000000 -0.608890   \n",
       "F12                   0.059765 -0.236881  0.406084 -0.608890  1.000000   \n",
       "F18                  -0.009227  0.091909  0.001472  0.201490 -0.175439   \n",
       "F19                   0.054431  0.125259 -0.373945  0.631316 -0.427748   \n",
       "F20                  -0.021437 -0.013542  0.063067 -0.210056  0.141661   \n",
       "F22                   0.074838  0.151618 -0.354309  0.542103 -0.425007   \n",
       "F23                   0.003668  0.003729  0.011466 -0.046808  0.071038   \n",
       "F24                   0.009410  0.046109 -0.085264  0.121415 -0.124521   \n",
       "final_price           0.102537 -0.089698  0.154987 -0.177614  0.411569   \n",
       "F5_hour              -0.030302 -0.019531  0.106890 -0.060737  0.109426   \n",
       "F5_month             -0.000274  0.105096 -0.083975  0.132941 -0.133495   \n",
       "F5_weekday           -0.008722  0.008977  0.026505  0.028465  0.009089   \n",
       "F5_dayofyear         -0.011082  0.112204 -0.065836  0.140429 -0.150411   \n",
       "F5_weekofyear        -0.010988  0.111139 -0.065864  0.137795 -0.149730   \n",
       "F6_hour              -0.024184 -0.047995  0.139384 -0.175010  0.200064   \n",
       "F6_month              0.000158  0.090418 -0.085051  0.139763 -0.148384   \n",
       "F6_weekday           -0.005581 -0.004278  0.052961  0.031406  0.039572   \n",
       "F6_dayofyear         -0.010211  0.098854 -0.061820  0.148531 -0.170144   \n",
       "F6_weekofyear        -0.009648  0.075387 -0.056276  0.139932 -0.152125   \n",
       "F17_hour             -0.058461 -0.018912  0.137540 -0.070334  0.120681   \n",
       "F17_month             0.001031  0.113243 -0.090054  0.139775 -0.134857   \n",
       "F17_weekday          -0.014666  0.008647  0.027073  0.019759  0.017651   \n",
       "F17_dayofyear        -0.010696  0.124172 -0.069412  0.151780 -0.155228   \n",
       "F17_weekofyear       -0.010302  0.123193 -0.069496  0.149672 -0.155033   \n",
       "F6_F5                -0.002166  0.022218 -0.002968  0.044540 -0.051700   \n",
       "F6_F17               -0.002400 -0.001104  0.004185  0.021885 -0.040627   \n",
       "F17_F5                0.002370  0.226110 -0.069515  0.218644 -0.105575   \n",
       "source_pca0           0.054436  0.125034 -0.373424  0.631116 -0.427608   \n",
       "source_pca1           0.009218 -0.016997  0.026574  0.065722 -0.043823   \n",
       "destination_pca0      0.074720  0.151489 -0.354610  0.543434 -0.427073   \n",
       "destination_pca1     -0.007542 -0.011583  0.006926  0.018612 -0.048866   \n",
       "haversined            0.093684  0.075317 -0.221174  0.370984 -0.220240   \n",
       "manhattand            0.100121  0.076664 -0.234952  0.391332 -0.227030   \n",
       "bearingd              0.004518  0.027246 -0.030942  0.127460 -0.063050   \n",
       "center_latitude       0.071100  0.152282 -0.400517  0.645330 -0.468994   \n",
       "center_longitude     -0.001036  0.000723  0.024768 -0.090902  0.099820   \n",
       "source_cluster        0.033790  0.083595 -0.171691  0.347159 -0.206930   \n",
       "destination_cluster   0.039057  0.075115 -0.230045  0.297531 -0.165607   \n",
       "F1_F1_1               0.048591  0.097573 -0.336472  0.359142 -0.239962   \n",
       "F1_F1_2              -0.048591 -0.097573  0.336472 -0.359142  0.239962   \n",
       "F13_converted_hybrid -0.004723  0.060891  0.014071  0.084845 -0.079203   \n",
       "F13_corporate        -0.007625  0.196332 -0.040133  0.069173  0.000267   \n",
       "F13_marketplace       0.011809 -0.199990  0.015840 -0.194123  0.129417   \n",
       "F13_original_hybrid  -0.007625  0.073802  0.007005  0.177052 -0.150363   \n",
       "F14_android          -0.032397 -0.059494  0.262031 -0.215953  0.050628   \n",
       "F14_ios              -0.035407 -0.072820  0.056938 -0.198886  0.270131   \n",
       "F14_legacy            0.121621  0.233141 -0.529801  0.610448 -0.518313   \n",
       "F14_ops              -0.011809 -0.012211 -0.036249  0.274191 -0.080721   \n",
       "F14_webapp           -0.004224 -0.004367 -0.072275  0.098071 -0.060788   \n",
       "F16_F16_1             0.058914  0.129568 -0.260546  0.260213 -0.290440   \n",
       "F16_F16_2             0.055830  0.169579 -0.316593  0.400555 -0.314711   \n",
       "F16_F16_3            -0.080759 -0.216382  0.414892 -0.484261  0.430841   \n",
       "F21_F21_1            -0.044825 -0.031437  0.059299 -0.151832  0.078045   \n",
       "F21_F21_2             0.044825  0.031437 -0.059299  0.151832 -0.078045   \n",
       "Holiday_False         0.051735  0.046362 -0.123944  0.117671 -0.102509   \n",
       "Holiday_True         -0.051735 -0.046362  0.123944 -0.117671  0.102509   \n",
       "\n",
       "                           F18       F19       F20       F22       F23  ...  \\\n",
       "F2                   -0.009227  0.054431 -0.021437  0.074838  0.003668  ...   \n",
       "F9                    0.091909  0.125259 -0.013542  0.151618  0.003729  ...   \n",
       "F10                   0.001472 -0.373945  0.063067 -0.354309  0.011466  ...   \n",
       "F11                   0.201490  0.631316 -0.210056  0.542103 -0.046808  ...   \n",
       "F12                  -0.175439 -0.427748  0.141661 -0.425007  0.071038  ...   \n",
       "F18                   1.000000  0.045387 -0.006289  0.073274  0.007346  ...   \n",
       "F19                   0.045387  1.000000 -0.378346  0.653037 -0.022119  ...   \n",
       "F20                  -0.006289 -0.378346  1.000000 -0.229212  0.003462  ...   \n",
       "F22                   0.073274  0.653037 -0.229212  1.000000  0.011045  ...   \n",
       "F23                   0.007346 -0.022119  0.003462  0.011045  1.000000  ...   \n",
       "F24                  -0.027510  0.124387 -0.047320  0.111723 -0.025869  ...   \n",
       "final_price          -0.127803 -0.078499  0.107323 -0.027029  0.084053  ...   \n",
       "F5_hour              -0.006916 -0.047353 -0.002549 -0.003966 -0.033659  ...   \n",
       "F5_month              0.016960  0.146982 -0.079073  0.055642 -0.075846  ...   \n",
       "F5_weekday            0.011679  0.026600 -0.005418  0.010645 -0.002064  ...   \n",
       "F5_dayofyear          0.014219  0.155883 -0.076431  0.057824 -0.072342  ...   \n",
       "F5_weekofyear         0.013746  0.153615 -0.076053  0.056399 -0.072040  ...   \n",
       "F6_hour              -0.057644 -0.126312  0.030641 -0.109087 -0.031664  ...   \n",
       "F6_month              0.043310  0.167558 -0.081015  0.059758 -0.078939  ...   \n",
       "F6_weekday            0.024014  0.007023 -0.002880 -0.003167  0.000266  ...   \n",
       "F6_dayofyear          0.045779  0.174194 -0.077601  0.062483 -0.078391  ...   \n",
       "F6_weekofyear         0.045637  0.164406 -0.079036  0.053129 -0.078583  ...   \n",
       "F17_hour             -0.007695 -0.064552 -0.007475 -0.018792  0.014228  ...   \n",
       "F17_month             0.016264  0.157580 -0.077725  0.063419 -0.075844  ...   \n",
       "F17_weekday           0.012311  0.022631 -0.024713  0.002908 -0.022190  ...   \n",
       "F17_dayofyear         0.013555  0.166878 -0.080576  0.063399 -0.071424  ...   \n",
       "F17_weekofyear        0.013053  0.164894 -0.079252  0.062407 -0.070115  ...   \n",
       "F6_F5                 0.056149  0.052635 -0.006125  0.004409 -0.007141  ...   \n",
       "F6_F17                0.056882  0.030424  0.002559 -0.006383 -0.008164  ...   \n",
       "F17_F5               -0.009576  0.213974 -0.084287  0.104887  0.010270  ...   \n",
       "source_pca0           0.045314  0.999982 -0.383960  0.652907 -0.022087  ...   \n",
       "source_pca1          -0.004684  0.152808 -0.972607  0.080719  0.001859  ...   \n",
       "destination_pca0      0.073047  0.653620 -0.229289  0.999557 -0.018726  ...   \n",
       "destination_pca1     -0.011130 -0.011782  0.008429 -0.062872 -0.998655  ...   \n",
       "haversined            0.020802  0.324089 -0.102826  0.324113 -0.634015  ...   \n",
       "manhattand            0.020535  0.341380 -0.099519  0.334232 -0.611606  ...   \n",
       "bearingd              0.056584  0.181663 -0.290203  0.096766  0.150858  ...   \n",
       "center_latitude       0.065267  0.909044 -0.334105  0.909217 -0.006082  ...   \n",
       "center_longitude      0.005814 -0.103045  0.218686 -0.038573  0.976547  ...   \n",
       "source_cluster        0.009861  0.340529 -0.273568  0.309831  0.009913  ...   \n",
       "destination_cluster   0.016665  0.258648 -0.087439  0.199160 -0.100739  ...   \n",
       "F1_F1_1               0.076790  0.257244 -0.091204  0.259258 -0.019423  ...   \n",
       "F1_F1_2              -0.076790 -0.257244  0.091204 -0.259258  0.019423  ...   \n",
       "F13_converted_hybrid  0.511852 -0.005043  0.053672  0.015437 -0.002279  ...   \n",
       "F13_corporate        -0.004991  0.125053 -0.030391  0.045639  0.016278  ...   \n",
       "F13_marketplace      -0.739854 -0.117768  0.024707 -0.087928 -0.015361  ...   \n",
       "F13_original_hybrid   0.826383  0.059417 -0.040981  0.080166  0.008790  ...   \n",
       "F14_android           0.011283 -0.189746  0.074830 -0.201653  0.016860  ...   \n",
       "F14_ios              -0.011760 -0.157660  0.006224 -0.106717  0.011781  ...   \n",
       "F14_legacy           -0.024635  0.509507 -0.104911  0.501579 -0.066546  ...   \n",
       "F14_ops               0.075336  0.242803 -0.087307  0.072834  0.048976  ...   \n",
       "F14_webapp           -0.002764  0.059735 -0.043082  0.049648  0.002764  ...   \n",
       "F16_F16_1            -0.011253  0.159464 -0.013732  0.191317 -0.008039  ...   \n",
       "F16_F16_2            -0.016276  0.385189 -0.066879  0.308404 -0.081208  ...   \n",
       "F16_F16_3             0.020076 -0.412526  0.063452 -0.367564  0.071990  ...   \n",
       "F21_F21_1             0.007748 -0.162069  0.166528 -0.149391 -0.007828  ...   \n",
       "F21_F21_2            -0.007748  0.162069 -0.166528  0.149391  0.007828  ...   \n",
       "Holiday_False         0.011522  0.101800 -0.012210  0.084634  0.001148  ...   \n",
       "Holiday_True         -0.011522 -0.101800  0.012210 -0.084634 -0.001148  ...   \n",
       "\n",
       "                      F14_legacy   F14_ops  F14_webapp  F16_F16_1  F16_F16_2  \\\n",
       "F2                      0.121621 -0.011809   -0.004224   0.058914   0.055830   \n",
       "F9                      0.233141 -0.012211   -0.004367   0.129568   0.169579   \n",
       "F10                    -0.529801 -0.036249   -0.072275  -0.260546  -0.316593   \n",
       "F11                     0.610448  0.274191    0.098071   0.260213   0.400555   \n",
       "F12                    -0.518313 -0.080721   -0.060788  -0.290440  -0.314711   \n",
       "F18                    -0.024635  0.075336   -0.002764  -0.011253  -0.016276   \n",
       "F19                     0.509507  0.242803    0.059735   0.159464   0.385189   \n",
       "F20                    -0.104911 -0.087307   -0.043082  -0.013732  -0.066879   \n",
       "F22                     0.501579  0.072834    0.049648   0.191317   0.308404   \n",
       "F23                    -0.066546  0.048976    0.002764  -0.008039  -0.081208   \n",
       "F24                     0.099115 -0.029821    0.019394   0.030736   0.083694   \n",
       "final_price            -0.161067  0.106158   -0.008536  -0.150803  -0.058297   \n",
       "F5_hour                -0.047016 -0.086084   -0.006851  -0.006403  -0.030417   \n",
       "F5_month                0.241468  0.039646   -0.012715   0.494734   0.142898   \n",
       "F5_weekday             -0.004078  0.068139   -0.008477   0.029841  -0.001162   \n",
       "F5_dayofyear            0.260262  0.028983   -0.010743   0.515951   0.156763   \n",
       "F5_weekofyear           0.258318  0.025704   -0.010313   0.512481   0.155472   \n",
       "F6_hour                -0.136817 -0.051485   -0.028750  -0.051961  -0.112406   \n",
       "F6_month                0.235010  0.037119   -0.012826   0.496752   0.125079   \n",
       "F6_weekday             -0.024043  0.071432    0.009766  -0.011900  -0.020271   \n",
       "F6_dayofyear            0.248099  0.026812   -0.010302   0.514855   0.131881   \n",
       "F6_weekofyear           0.240685  0.024268   -0.010653   0.518405   0.119000   \n",
       "F17_hour               -0.063022 -0.047813   -0.008066   0.008980  -0.053805   \n",
       "F17_month               0.257109  0.038561   -0.012812   0.495313   0.155792   \n",
       "F17_weekday             0.003159  0.070478   -0.008155   0.048271  -0.005892   \n",
       "F17_dayofyear           0.272518  0.040430   -0.010903   0.521260   0.164296   \n",
       "F17_weekofyear          0.270316  0.037097   -0.010494   0.516996   0.163310   \n",
       "F6_F5                   0.018543 -0.004950   -0.000956   0.019210   0.009456   \n",
       "F6_F17                 -0.007357 -0.026344   -0.000503   0.001637  -0.006272   \n",
       "F17_F5                  0.251376  0.208525   -0.004368   0.170264   0.152728   \n",
       "source_pca0             0.508922  0.242769    0.059869   0.159155   0.384665   \n",
       "source_pca1            -0.015943  0.032238    0.030994  -0.025385  -0.025328   \n",
       "destination_pca0        0.503503  0.071368    0.049560   0.191534   0.310786   \n",
       "destination_pca1        0.040413 -0.052659   -0.005333  -0.001896   0.065063   \n",
       "haversined              0.352624  0.173436    0.022373   0.145912   0.274661   \n",
       "manhattand              0.367944  0.189887    0.028253   0.150865   0.287228   \n",
       "bearingd                0.077564  0.129180    0.032499   0.012926   0.055232   \n",
       "center_latitude         0.556071  0.173551    0.060156   0.192929   0.381441   \n",
       "center_longitude       -0.087524  0.028993   -0.006579  -0.010801  -0.093643   \n",
       "source_cluster          0.302206  0.100745    0.013420   0.104584   0.197795   \n",
       "destination_cluster     0.237107  0.121898    0.037497   0.102019   0.165198   \n",
       "F1_F1_1                 0.287260  0.108785    0.038909   0.136018   0.181653   \n",
       "F1_F1_2                -0.287260 -0.108785   -0.038909  -0.136018  -0.181653   \n",
       "F13_converted_hybrid   -0.012609  0.076826   -0.001415  -0.005760  -0.008331   \n",
       "F13_corporate           0.202593 -0.006387   -0.002285  -0.009299   0.282010   \n",
       "F13_marketplace        -0.113264 -0.022686    0.003538   0.014401  -0.171052   \n",
       "F13_original_hybrid    -0.020358 -0.006387   -0.002285  -0.009299  -0.013451   \n",
       "F14_android            -0.289075 -0.090696   -0.032440  -0.132048  -0.190993   \n",
       "F14_ios                -0.283047 -0.088805   -0.031763  -0.129294  -0.187010   \n",
       "F14_legacy              1.000000 -0.031527   -0.011276   0.456795   0.660704   \n",
       "F14_ops                -0.031527  1.000000   -0.003538  -0.014401  -0.020830   \n",
       "F14_webapp             -0.011276 -0.003538    1.000000  -0.005151  -0.007450   \n",
       "F16_F16_1               0.456795 -0.014401   -0.005151   1.000000  -0.030328   \n",
       "F16_F16_2               0.660704 -0.020830   -0.007450  -0.030328   1.000000   \n",
       "F16_F16_3              -0.814928  0.025692    0.009189  -0.560534  -0.810751   \n",
       "F21_F21_1              -0.121515 -0.030005   -0.022389  -0.023245  -0.095462   \n",
       "F21_F21_2               0.121515  0.030005    0.022389   0.023245   0.095462   \n",
       "Holiday_False           0.111163  0.034574   -0.008786   0.050926   0.074056   \n",
       "Holiday_True           -0.111163 -0.034574    0.008786  -0.050926  -0.074056   \n",
       "\n",
       "                      F16_F16_3  F21_F21_1  F21_F21_2  Holiday_False  \\\n",
       "F2                    -0.080759  -0.044825   0.044825       0.051735   \n",
       "F9                    -0.216382  -0.031437   0.031437       0.046362   \n",
       "F10                    0.414892   0.059299  -0.059299      -0.123944   \n",
       "F11                   -0.484261  -0.151832   0.151832       0.117671   \n",
       "F12                    0.430841   0.078045  -0.078045      -0.102509   \n",
       "F18                    0.020076   0.007748  -0.007748       0.011522   \n",
       "F19                   -0.412526  -0.162069   0.162069       0.101800   \n",
       "F20                    0.063452   0.166528  -0.166528      -0.012210   \n",
       "F22                   -0.367564  -0.149391   0.149391       0.084634   \n",
       "F23                    0.071990  -0.007828   0.007828       0.001148   \n",
       "F24                   -0.087343   0.060318  -0.060318       0.007144   \n",
       "final_price            0.135726  -0.046417   0.046417      -0.018342   \n",
       "F5_hour                0.028951  -0.086925   0.086925       0.020403   \n",
       "F5_month              -0.408139  -0.016148   0.016148       0.053278   \n",
       "F5_weekday            -0.016514  -0.025454   0.025454      -0.093197   \n",
       "F5_dayofyear          -0.432053  -0.014743   0.014743       0.068242   \n",
       "F5_weekofyear         -0.428951  -0.013285   0.013285       0.072915   \n",
       "F6_hour                0.123561  -0.028923   0.028923      -0.014249   \n",
       "F6_month              -0.394558  -0.017850   0.017850       0.051769   \n",
       "F6_weekday             0.023764   0.026890  -0.026890      -0.038128   \n",
       "F6_dayofyear          -0.410796  -0.014602   0.014602       0.069145   \n",
       "F6_weekofyear         -0.402203  -0.017639   0.017639       0.068900   \n",
       "F17_hour               0.039319  -0.083823   0.083823       0.017140   \n",
       "F17_month             -0.419160  -0.022152   0.022152       0.054907   \n",
       "F17_weekday           -0.023389  -0.021858   0.021858      -0.088199   \n",
       "F17_dayofyear         -0.441403  -0.017368   0.017368       0.070368   \n",
       "F17_weekofyear        -0.438089  -0.016113   0.016113       0.074781   \n",
       "F6_F5                 -0.019085   0.008005  -0.008005       0.016538   \n",
       "F6_F17                 0.004238   0.012888  -0.012888       0.011630   \n",
       "F17_F5                -0.226254  -0.047895   0.047895       0.047077   \n",
       "source_pca0           -0.411911  -0.162756   0.162756       0.101625   \n",
       "source_pca1            0.035852  -0.137089   0.137089      -0.012528   \n",
       "destination_pca0      -0.369665  -0.149141   0.149141       0.084590   \n",
       "destination_pca1      -0.052795   0.015558  -0.015558      -0.005534   \n",
       "haversined            -0.313015  -0.092180   0.092180       0.045381   \n",
       "manhattand            -0.326327  -0.104840   0.104840       0.047848   \n",
       "bearingd              -0.053331  -0.168981   0.168981       0.069275   \n",
       "center_latitude       -0.429019  -0.171292   0.171292       0.102530   \n",
       "center_longitude       0.083910   0.028217  -0.028217      -0.001509   \n",
       "source_cluster        -0.225126  -0.358420   0.358420       0.012112   \n",
       "destination_cluster   -0.196617  -0.012111   0.012111       0.013303   \n",
       "F1_F1_1               -0.230162  -0.092029   0.092029       0.141935   \n",
       "F1_F1_2                0.230162   0.092029  -0.092029      -0.141935   \n",
       "F13_converted_hybrid   0.010276  -0.017689   0.017689       0.017332   \n",
       "F13_corporate         -0.228203  -0.017609   0.017609       0.027982   \n",
       "F13_marketplace        0.133284   0.006302  -0.006302      -0.034574   \n",
       "F13_original_hybrid    0.016590   0.018889  -0.018889       0.014492   \n",
       "F14_android            0.235576   0.141628  -0.141628      -0.041098   \n",
       "F14_ios                0.230663  -0.063930   0.063930      -0.029491   \n",
       "F14_legacy            -0.814928  -0.121515   0.121515       0.111163   \n",
       "F14_ops                0.025692  -0.030005   0.030005       0.034574   \n",
       "F14_webapp             0.009189  -0.022389   0.022389      -0.008786   \n",
       "F16_F16_1             -0.560534  -0.023245   0.023245       0.050926   \n",
       "F16_F16_2             -0.810751  -0.095462   0.095462       0.074056   \n",
       "F16_F16_3              1.000000   0.092706  -0.092706      -0.091182   \n",
       "F21_F21_1              0.092706   1.000000  -1.000000      -0.035724   \n",
       "F21_F21_2             -0.092706  -1.000000   1.000000       0.035724   \n",
       "Holiday_False         -0.091182  -0.035724   0.035724       1.000000   \n",
       "Holiday_True           0.091182   0.035724  -0.035724      -1.000000   \n",
       "\n",
       "                      Holiday_True  \n",
       "F2                       -0.051735  \n",
       "F9                       -0.046362  \n",
       "F10                       0.123944  \n",
       "F11                      -0.117671  \n",
       "F12                       0.102509  \n",
       "F18                      -0.011522  \n",
       "F19                      -0.101800  \n",
       "F20                       0.012210  \n",
       "F22                      -0.084634  \n",
       "F23                      -0.001148  \n",
       "F24                      -0.007144  \n",
       "final_price               0.018342  \n",
       "F5_hour                  -0.020403  \n",
       "F5_month                 -0.053278  \n",
       "F5_weekday                0.093197  \n",
       "F5_dayofyear             -0.068242  \n",
       "F5_weekofyear            -0.072915  \n",
       "F6_hour                   0.014249  \n",
       "F6_month                 -0.051769  \n",
       "F6_weekday                0.038128  \n",
       "F6_dayofyear             -0.069145  \n",
       "F6_weekofyear            -0.068900  \n",
       "F17_hour                 -0.017140  \n",
       "F17_month                -0.054907  \n",
       "F17_weekday               0.088199  \n",
       "F17_dayofyear            -0.070368  \n",
       "F17_weekofyear           -0.074781  \n",
       "F6_F5                    -0.016538  \n",
       "F6_F17                   -0.011630  \n",
       "F17_F5                   -0.047077  \n",
       "source_pca0              -0.101625  \n",
       "source_pca1               0.012528  \n",
       "destination_pca0         -0.084590  \n",
       "destination_pca1          0.005534  \n",
       "haversined               -0.045381  \n",
       "manhattand               -0.047848  \n",
       "bearingd                 -0.069275  \n",
       "center_latitude          -0.102530  \n",
       "center_longitude          0.001509  \n",
       "source_cluster           -0.012112  \n",
       "destination_cluster      -0.013303  \n",
       "F1_F1_1                  -0.141935  \n",
       "F1_F1_2                   0.141935  \n",
       "F13_converted_hybrid     -0.017332  \n",
       "F13_corporate            -0.027982  \n",
       "F13_marketplace           0.034574  \n",
       "F13_original_hybrid      -0.014492  \n",
       "F14_android               0.041098  \n",
       "F14_ios                   0.029491  \n",
       "F14_legacy               -0.111163  \n",
       "F14_ops                  -0.034574  \n",
       "F14_webapp                0.008786  \n",
       "F16_F16_1                -0.050926  \n",
       "F16_F16_2                -0.074056  \n",
       "F16_F16_3                 0.091182  \n",
       "F21_F21_1                 0.035724  \n",
       "F21_F21_2                -0.035724  \n",
       "Holiday_False            -1.000000  \n",
       "Holiday_True              1.000000  \n",
       "\n",
       "[59 rows x 59 columns]"
      ]
     },
     "execution_count": 160,
     "metadata": {},
     "output_type": "execute_result"
    }
   ],
   "source": [
    "#NOW we have done all encoding ,so we can check corelation matrix\n",
    "df_all.corr(method ='pearson')\n"
   ]
  },
  {
   "cell_type": "markdown",
   "metadata": {},
   "source": [
    "#From the corealtion matrix , there are some corelation but not too much like (F11 and F19),so we will keep as it is and procees for training\n"
   ]
  },
  {
   "cell_type": "code",
   "execution_count": 161,
   "metadata": {},
   "outputs": [],
   "source": [
    "#before that we will scale all the features \n",
    "scalar=RobustScaler()\n"
   ]
  },
  {
   "cell_type": "code",
   "execution_count": 162,
   "metadata": {},
   "outputs": [],
   "source": [
    "df_all[['F5_hour','F5_month','F5_weekday','F5_dayofyear','F5_weekofyear']]=scalar.fit_transform(df_all[['F5_hour','F5_month','F5_weekday','F5_dayofyear','F5_weekofyear']])\n",
    "df_all[['F6_hour','F6_month','F6_weekday','F6_dayofyear','F6_weekofyear']]=scalar.fit_transform(df_all[['F6_hour','F6_month','F6_weekday','F6_dayofyear','F6_weekofyear']])\n",
    "df_all[['F17_hour','F17_month','F17_weekday','F17_dayofyear','F17_weekofyear']]=scalar.fit_transform(df_all[['F17_hour','F17_month','F17_weekday','F17_dayofyear','F17_weekofyear']])\n",
    "df_all[['F6_F5','F6_F17','F17_F5']]=scalar.fit_transform(df_all[['F6_F5','F6_F17','F17_F5']])\n"
   ]
  },
  {
   "cell_type": "code",
   "execution_count": 163,
   "metadata": {},
   "outputs": [],
   "source": [
    "df_all[['F12','F19','F20','F22','F23','source_cluster','destination_cluster', 'source_pca0', \n",
    "        'source_pca1', 'destination_pca0','destination_pca1','haversined', 'manhattand', 'bearingd',\n",
    "        'center_latitude','center_longitude']]=scalar.fit_transform(df_all[['F12','F19','F20','F22','F23',\n",
    "                                          'source_cluster','destination_cluster', 'source_pca0', \n",
    "                                          'source_pca1', 'destination_pca0','destination_pca1', \n",
    "                                          'haversined', 'manhattand', 'bearingd','center_latitude', 'center_longitude']])"
   ]
  },
  {
   "cell_type": "code",
   "execution_count": 164,
   "metadata": {},
   "outputs": [
    {
     "data": {
      "text/html": [
       "<div>\n",
       "<style scoped>\n",
       "    .dataframe tbody tr th:only-of-type {\n",
       "        vertical-align: middle;\n",
       "    }\n",
       "\n",
       "    .dataframe tbody tr th {\n",
       "        vertical-align: top;\n",
       "    }\n",
       "\n",
       "    .dataframe thead th {\n",
       "        text-align: right;\n",
       "    }\n",
       "</style>\n",
       "<table border=\"1\" class=\"dataframe\">\n",
       "  <thead>\n",
       "    <tr style=\"text-align: right;\">\n",
       "      <th></th>\n",
       "      <th>F2</th>\n",
       "      <th>F9</th>\n",
       "      <th>F10</th>\n",
       "      <th>F11</th>\n",
       "      <th>F12</th>\n",
       "      <th>F18</th>\n",
       "      <th>F19</th>\n",
       "      <th>F20</th>\n",
       "      <th>F22</th>\n",
       "      <th>F23</th>\n",
       "      <th>...</th>\n",
       "      <th>F14_legacy</th>\n",
       "      <th>F14_ops</th>\n",
       "      <th>F14_webapp</th>\n",
       "      <th>F16_F16_1</th>\n",
       "      <th>F16_F16_2</th>\n",
       "      <th>F16_F16_3</th>\n",
       "      <th>F21_F21_1</th>\n",
       "      <th>F21_F21_2</th>\n",
       "      <th>Holiday_False</th>\n",
       "      <th>Holiday_True</th>\n",
       "    </tr>\n",
       "  </thead>\n",
       "  <tbody>\n",
       "    <tr>\n",
       "      <th>0</th>\n",
       "      <td>0</td>\n",
       "      <td>0</td>\n",
       "      <td>1</td>\n",
       "      <td>0</td>\n",
       "      <td>-0.653273</td>\n",
       "      <td>0</td>\n",
       "      <td>0.000000</td>\n",
       "      <td>0.000000</td>\n",
       "      <td>0.753665</td>\n",
       "      <td>-0.970542</td>\n",
       "      <td>...</td>\n",
       "      <td>0</td>\n",
       "      <td>0</td>\n",
       "      <td>0</td>\n",
       "      <td>0</td>\n",
       "      <td>0</td>\n",
       "      <td>1</td>\n",
       "      <td>1</td>\n",
       "      <td>0</td>\n",
       "      <td>1</td>\n",
       "      <td>0</td>\n",
       "    </tr>\n",
       "    <tr>\n",
       "      <th>1</th>\n",
       "      <td>0</td>\n",
       "      <td>0</td>\n",
       "      <td>1</td>\n",
       "      <td>0</td>\n",
       "      <td>-0.307738</td>\n",
       "      <td>0</td>\n",
       "      <td>0.000000</td>\n",
       "      <td>0.000000</td>\n",
       "      <td>1.636016</td>\n",
       "      <td>-0.410843</td>\n",
       "      <td>...</td>\n",
       "      <td>0</td>\n",
       "      <td>0</td>\n",
       "      <td>0</td>\n",
       "      <td>0</td>\n",
       "      <td>0</td>\n",
       "      <td>1</td>\n",
       "      <td>1</td>\n",
       "      <td>0</td>\n",
       "      <td>1</td>\n",
       "      <td>0</td>\n",
       "    </tr>\n",
       "    <tr>\n",
       "      <th>2</th>\n",
       "      <td>0</td>\n",
       "      <td>0</td>\n",
       "      <td>1</td>\n",
       "      <td>0</td>\n",
       "      <td>0.808503</td>\n",
       "      <td>0</td>\n",
       "      <td>-30.567229</td>\n",
       "      <td>-6.790423</td>\n",
       "      <td>-0.075328</td>\n",
       "      <td>0.410009</td>\n",
       "      <td>...</td>\n",
       "      <td>0</td>\n",
       "      <td>0</td>\n",
       "      <td>0</td>\n",
       "      <td>0</td>\n",
       "      <td>0</td>\n",
       "      <td>1</td>\n",
       "      <td>0</td>\n",
       "      <td>1</td>\n",
       "      <td>1</td>\n",
       "      <td>0</td>\n",
       "    </tr>\n",
       "  </tbody>\n",
       "</table>\n",
       "<p>3 rows × 59 columns</p>\n",
       "</div>"
      ],
      "text/plain": [
       "   F2  F9  F10  F11       F12  F18        F19       F20       F22       F23  \\\n",
       "0   0   0    1    0 -0.653273    0   0.000000  0.000000  0.753665 -0.970542   \n",
       "1   0   0    1    0 -0.307738    0   0.000000  0.000000  1.636016 -0.410843   \n",
       "2   0   0    1    0  0.808503    0 -30.567229 -6.790423 -0.075328  0.410009   \n",
       "\n",
       "   ...  F14_legacy  F14_ops  F14_webapp  F16_F16_1  F16_F16_2  F16_F16_3  \\\n",
       "0  ...           0        0           0          0          0          1   \n",
       "1  ...           0        0           0          0          0          1   \n",
       "2  ...           0        0           0          0          0          1   \n",
       "\n",
       "   F21_F21_1  F21_F21_2  Holiday_False  Holiday_True  \n",
       "0          1          0              1             0  \n",
       "1          1          0              1             0  \n",
       "2          0          1              1             0  \n",
       "\n",
       "[3 rows x 59 columns]"
      ]
     },
     "execution_count": 164,
     "metadata": {},
     "output_type": "execute_result"
    }
   ],
   "source": [
    "df_all.head(3)"
   ]
  },
  {
   "cell_type": "code",
   "execution_count": 166,
   "metadata": {},
   "outputs": [],
   "source": [
    "#now proceed for training \n",
    "#so before that we have to split off the train test data as earlier we have combined them for feature enginerring process\n",
    "\n"
   ]
  },
  {
   "cell_type": "code",
   "execution_count": 172,
   "metadata": {},
   "outputs": [
    {
     "data": {
      "text/plain": [
       "((3165, 59), (315, 23), (2850, 23))"
      ]
     },
     "execution_count": 172,
     "metadata": {},
     "output_type": "execute_result"
    }
   ],
   "source": [
    "df_all.shape"
   ]
  },
  {
   "cell_type": "code",
   "execution_count": 177,
   "metadata": {},
   "outputs": [],
   "source": [
    "train_df=df_all.loc[:2849,]"
   ]
  },
  {
   "cell_type": "code",
   "execution_count": 178,
   "metadata": {},
   "outputs": [
    {
     "data": {
      "text/plain": [
       "(2850, 59)"
      ]
     },
     "execution_count": 178,
     "metadata": {},
     "output_type": "execute_result"
    }
   ],
   "source": [
    "train_df.shape"
   ]
  },
  {
   "cell_type": "code",
   "execution_count": 183,
   "metadata": {},
   "outputs": [],
   "source": [
    "test_df=df_all.loc[2850:]"
   ]
  },
  {
   "cell_type": "code",
   "execution_count": 185,
   "metadata": {},
   "outputs": [
    {
     "data": {
      "text/plain": [
       "(315, 59)"
      ]
     },
     "execution_count": 185,
     "metadata": {},
     "output_type": "execute_result"
    }
   ],
   "source": [
    "test_df.shape"
   ]
  },
  {
   "cell_type": "code",
   "execution_count": 187,
   "metadata": {},
   "outputs": [],
   "source": [
    "x=train_df.drop(['final_price'],axis=1)\n",
    "y=train_df['final_price']\n",
    "kf = KFold(n_splits=10, random_state=42, shuffle=True)\n"
   ]
  },
  {
   "cell_type": "code",
   "execution_count": 188,
   "metadata": {},
   "outputs": [],
   "source": [
    "def rmse(y, y_pred):\n",
    "    return np.sqrt(mean_squared_error(y, y_pred))\n",
    "\n",
    "\n",
    "\n",
    "def cv_rmse(model, X=x):\n",
    "    rmse = np.sqrt(-cross_val_score(model, X, y, scoring=\"neg_mean_squared_error\",cv=kf))\n",
    "    return (rmse)\n"
   ]
  },
  {
   "cell_type": "markdown",
   "metadata": {},
   "source": [
    "#below ML Model , i have done trianing in local and already got  best hyper paramters for them,so i will directly using them as parms"
   ]
  },
  {
   "cell_type": "code",
   "execution_count": 192,
   "metadata": {},
   "outputs": [],
   "source": [
    "lightgbm = LGBMRegressor(objective='regression',\n",
    "num_leaves=7,\n",
    "learning_rate=0.01,reg_lambda=1.2,\n",
    "reg_alpha=0.1,\n",
    "n_estimators=1200,\n",
    "max_bin=50,\n",
    "bagging_fraction=0.2,\n",
    "bagging_freq=8,\n",
    "min_sum_hessian_in_leaf=7,\n",
    "verbose=-1,\n",
    "subsample=0.7,\n",
    "max_depth=5,colsample_bytree=0.7,\n",
    "random_state=42)"
   ]
  },
  {
   "cell_type": "code",
   "execution_count": 193,
   "metadata": {},
   "outputs": [
    {
     "name": "stdout",
     "output_type": "stream",
     "text": [
      "lightgbm: 0.0660 (0.0198)\n"
     ]
    }
   ],
   "source": [
    "scores = {}\n",
    "score = cv_rmse(lightgbm)\n",
    "print(\"lightgbm: {:.4f} ({:.4f})\".format(score.mean(), score.std\n",
    "()))\n",
    "scores['lgb'] = (score.mean(), score.std())\n"
   ]
  },
  {
   "cell_type": "code",
   "execution_count": 194,
   "metadata": {},
   "outputs": [
    {
     "name": "stderr",
     "output_type": "stream",
     "text": [
      "/home/chandrakanta/anaconda3/lib/python3.6/site-packages/xgboost/core.py:587: FutureWarning: Series.base is deprecated and will be removed in a future version\n",
      "  if getattr(data, 'base', None) is not None and \\\n",
      "/home/chandrakanta/anaconda3/lib/python3.6/site-packages/xgboost/core.py:587: FutureWarning: Series.base is deprecated and will be removed in a future version\n",
      "  if getattr(data, 'base', None) is not None and \\\n",
      "/home/chandrakanta/anaconda3/lib/python3.6/site-packages/xgboost/core.py:587: FutureWarning: Series.base is deprecated and will be removed in a future version\n",
      "  if getattr(data, 'base', None) is not None and \\\n",
      "/home/chandrakanta/anaconda3/lib/python3.6/site-packages/xgboost/core.py:587: FutureWarning: Series.base is deprecated and will be removed in a future version\n",
      "  if getattr(data, 'base', None) is not None and \\\n",
      "/home/chandrakanta/anaconda3/lib/python3.6/site-packages/xgboost/core.py:587: FutureWarning: Series.base is deprecated and will be removed in a future version\n",
      "  if getattr(data, 'base', None) is not None and \\\n",
      "/home/chandrakanta/anaconda3/lib/python3.6/site-packages/xgboost/core.py:587: FutureWarning: Series.base is deprecated and will be removed in a future version\n",
      "  if getattr(data, 'base', None) is not None and \\\n",
      "/home/chandrakanta/anaconda3/lib/python3.6/site-packages/xgboost/core.py:587: FutureWarning: Series.base is deprecated and will be removed in a future version\n",
      "  if getattr(data, 'base', None) is not None and \\\n",
      "/home/chandrakanta/anaconda3/lib/python3.6/site-packages/xgboost/core.py:587: FutureWarning: Series.base is deprecated and will be removed in a future version\n",
      "  if getattr(data, 'base', None) is not None and \\\n",
      "/home/chandrakanta/anaconda3/lib/python3.6/site-packages/xgboost/core.py:587: FutureWarning: Series.base is deprecated and will be removed in a future version\n",
      "  if getattr(data, 'base', None) is not None and \\\n",
      "/home/chandrakanta/anaconda3/lib/python3.6/site-packages/xgboost/core.py:587: FutureWarning: Series.base is deprecated and will be removed in a future version\n",
      "  if getattr(data, 'base', None) is not None and \\\n"
     ]
    },
    {
     "name": "stdout",
     "output_type": "stream",
     "text": [
      "xgboost: 0.0641 (0.0206)\n"
     ]
    }
   ],
   "source": [
    "xgboost = XGBRegressor(learning_rate=0.01,\n",
    "n_estimators=1000,\n",
    "max_depth=5,\n",
    "min_child_weight=4,\n",
    "gamma=0.0,\n",
    "subsample=0.8,\n",
    "colsample_bytree=0.5,\n",
    "objective='reg:linear',\n",
    "nthread=-1,\n",
    "seed=27,\n",
    "reg_alpha=0.0001,\n",
    "random_state=42)\n",
    "\n",
    "score = cv_rmse(xgboost)\n",
    "print(\"xgboost: {:.4f} ({:.4f})\".format(score.mean(), score.std\n",
    "()))\n",
    "scores['xgb'] = (score.mean(), score.std())"
   ]
  },
  {
   "cell_type": "code",
   "execution_count": 197,
   "metadata": {},
   "outputs": [
    {
     "name": "stdout",
     "output_type": "stream",
     "text": [
      "ridge: 0.0781 (0.0218)\n"
     ]
    }
   ],
   "source": [
    "#ridge = make_pipeline(RobustScaler(), RidgeCV(alphas=20,cv=kf))\n",
    "ridge=Ridge(alpha=20)\n",
    "score = cv_rmse(ridge)\n",
    "print(\"ridge: {:.4f} ({:.4f})\".format(score.mean(), score.std()))\n",
    "scores['ridge'] = (score.mean(), score.std())\n",
    "\n"
   ]
  },
  {
   "cell_type": "code",
   "execution_count": 198,
   "metadata": {},
   "outputs": [
    {
     "name": "stdout",
     "output_type": "stream",
     "text": [
      "SVR: 0.0772 (0.0163)\n"
     ]
    }
   ],
   "source": [
    "svr = make_pipeline(RobustScaler(), SVR(C= 1, epsilon= 0.001, gamma='auto'))\n",
    "score = cv_rmse(svr)\n",
    "print(\"SVR: {:.4f} ({:.4f})\".format(score.mean(), score.std()))\n",
    "scores['svr'] = (score.mean(), score.std())"
   ]
  },
  {
   "cell_type": "code",
   "execution_count": 199,
   "metadata": {},
   "outputs": [
    {
     "name": "stdout",
     "output_type": "stream",
     "text": [
      "gbr: 0.0630 (0.0198)\n"
     ]
    }
   ],
   "source": [
    "gbr = GradientBoostingRegressor(n_estimators=2000,subsample=0.5,\n",
    "learning_rate=0.001,\n",
    "max_depth=10,\n",
    "max_features='auto',\n",
    "min_samples_leaf=5,\n",
    "min_samples_split=10,\n",
    "random_state=42)\n",
    "\n",
    "score = cv_rmse(gbr)\n",
    "print(\"gbr: {:.4f} ({:.4f})\".format(score.mean(), score.std()))\n",
    "scores['gbr'] = (score.mean(), score.std())\n"
   ]
  },
  {
   "cell_type": "code",
   "execution_count": 200,
   "metadata": {},
   "outputs": [
    {
     "name": "stdout",
     "output_type": "stream",
     "text": [
      "rf: 0.0622 (0.0203)\n"
     ]
    }
   ],
   "source": [
    "rf = RandomForestRegressor(n_estimators=1000,max_depth=12,\n",
    "min_samples_split=5,\n",
    "min_samples_leaf=2,\n",
    "max_features='auto',\n",
    "oob_score=True,bootstrap='True',\n",
    "random_state=42)\n",
    "\n",
    "score = cv_rmse(rf)\n",
    "print(\"rf: {:.4f} ({:.4f})\".format(score.mean(), score.std()))\n",
    "scores['rf'] = (score.mean(), score.std())"
   ]
  },
  {
   "cell_type": "code",
   "execution_count": 203,
   "metadata": {},
   "outputs": [],
   "source": [
    "stack_gen = StackingCVRegressor(regressors=(xgboost, lightgbm,ridge,svr,gbr, rf),\n",
    "            meta_regressor=xgboost,use_features_in_secondary=True)\n",
    "\n"
   ]
  },
  {
   "cell_type": "code",
   "execution_count": null,
   "metadata": {},
   "outputs": [],
   "source": [
    " "
   ]
  },
  {
   "cell_type": "code",
   "execution_count": 204,
   "metadata": {},
   "outputs": [
    {
     "data": {
      "image/png": "[encoded data removed]",
      "text/plain": [
       "<Figure size 288x920.16 with 1 Axes>"
      ]
     },
     "metadata": {
      "needs_background": "light"
     },
     "output_type": "display_data"
    }
   ],
   "source": [
    "#before blending all models to fit on whole data below is to check the feature importance\n",
    "\n",
    "from rfpimp import *\n",
    "\n",
    "rf_model = rf.fit(x,y)\n",
    "\n",
    "imp = importances(rf_model, x, y, n_samples=-1)\n",
    "viz = plot_importances(imp)\n",
    "viz.view()"
   ]
  },
  {
   "cell_type": "code",
   "execution_count": 205,
   "metadata": {},
   "outputs": [],
   "source": [
    "stack_gen_model = stack_gen.fit(np.array(x), np.array(y))"
   ]
  },
  {
   "cell_type": "code",
   "execution_count": 206,
   "metadata": {},
   "outputs": [
    {
     "name": "stderr",
     "output_type": "stream",
     "text": [
      "/home/chandrakanta/anaconda3/lib/python3.6/site-packages/xgboost/core.py:587: FutureWarning: Series.base is deprecated and will be removed in a future version\n",
      "  if getattr(data, 'base', None) is not None and \\\n",
      "/home/chandrakanta/anaconda3/lib/python3.6/site-packages/xgboost/core.py:588: FutureWarning: Series.base is deprecated and will be removed in a future version\n",
      "  data.base is not None and isinstance(data, np.ndarray) \\\n"
     ]
    }
   ],
   "source": [
    "lgb_model = lightgbm.fit(x,y)\n",
    "xgb_model=xgboost.fit(x,y)\n",
    "ridge_model=ridge.fit(x,y)\n",
    "svr_model=svr.fit(x,y)\n",
    "gbr_model=gbr.fit(x,y)\n",
    "rf_model=rf.fit(x,y)\n"
   ]
  },
  {
   "cell_type": "code",
   "execution_count": 222,
   "metadata": {},
   "outputs": [],
   "source": [
    "def blended_predictions(x):\n",
    "    return ((0.05 * ridge_model.predict(x)) + \\\n",
    "            (0.05 * svr_model.predict(x)) + \\\n",
    "            (0.1 * gbr_model.predict(x)) + \\\n",
    "            (0.1 * xgb_model.predict(x)) + \\\n",
    "            (0.1 * lgb_model.predict(x)) + \\\n",
    "            (0.25 * rf_model.predict(x)) + \\\n",
    "            (0.35 * stack_gen_model.predict(np.array(x))))"
   ]
  },
  {
   "cell_type": "code",
   "execution_count": 224,
   "metadata": {},
   "outputs": [
    {
     "name": "stdout",
     "output_type": "stream",
     "text": [
      "RMSE score on train data:\n",
      "0.03617374346776829\n"
     ]
    }
   ],
   "source": [
    "blended_score = rmse(y, blended_predictions(x))\n",
    "scores['blended'] = (blended_score, 0)\n",
    "print('RMSE score on train data:')\n",
    "print(blended_score)"
   ]
  },
  {
   "cell_type": "markdown",
   "metadata": {},
   "source": [
    "this is the lowest RMSE we got "
   ]
  },
  {
   "cell_type": "code",
   "execution_count": 228,
   "metadata": {},
   "outputs": [],
   "source": [
    "x1=test_df.drop([\"final_price\"],axis=1)"
   ]
  },
  {
   "cell_type": "code",
   "execution_count": 231,
   "metadata": {},
   "outputs": [],
   "source": [
    "#predict"
   ]
  },
  {
   "cell_type": "code",
   "execution_count": 229,
   "metadata": {},
   "outputs": [],
   "source": [
    "predictions=blended_predictions(x1)"
   ]
  },
  {
   "cell_type": "code",
   "execution_count": 235,
   "metadata": {},
   "outputs": [],
   "source": [
    "#converting back to normal values -->  log_max = np.log(df_target['final_price'].max())\n",
    "predicted_price=predictions**log_max"
   ]
  },
  {
   "cell_type": "code",
   "execution_count": 238,
   "metadata": {},
   "outputs": [
    {
     "data": {
      "text/plain": [
       "(315, 23)"
      ]
     },
     "execution_count": 238,
     "metadata": {},
     "output_type": "execute_result"
    }
   ],
   "source": [
    "df_test.shape"
   ]
  },
  {
   "cell_type": "code",
   "execution_count": 239,
   "metadata": {},
   "outputs": [],
   "source": [
    "df_test[\"final_price\"]=predicted_price"
   ]
  },
  {
   "cell_type": "code",
   "execution_count": 242,
   "metadata": {},
   "outputs": [],
   "source": [
    "df_test[\"final_price\"]=df_test[\"final_price\"].round(2)"
   ]
  },
  {
   "cell_type": "code",
   "execution_count": 244,
   "metadata": {},
   "outputs": [],
   "source": [
    "df_test.to_csv(\"test_prices.csv\")"
   ]
  },
  {
   "cell_type": "code",
   "execution_count": null,
   "metadata": {},
   "outputs": [],
   "source": []
  }
 ],
 "metadata": {
  "kernelspec": {
   "display_name": "Python 3",
   "language": "python",
   "name": "python3"
  },
  "language_info": {
   "codemirror_mode": {
    "name": "ipython",
    "version": 3
   },
   "file_extension": ".py",
   "mimetype": "text/x-python",
   "name": "python",
   "nbconvert_exporter": "python",
   "pygments_lexer": "ipython3",
   "version": "3.6.8"
  }
 },
 "nbformat": 4,
 "nbformat_minor": 2
}
